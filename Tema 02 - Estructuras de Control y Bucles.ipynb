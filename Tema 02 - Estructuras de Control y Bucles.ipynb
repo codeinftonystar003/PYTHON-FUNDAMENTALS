{
 "cells": [
  {
   "cell_type": "markdown",
   "id": "c2c66128-e83f-470c-9be7-d18f0b3f4c74",
   "metadata": {},
   "source": [
    "## ***Estructuras de control Selectivas***"
   ]
  },
  {
   "cell_type": "markdown",
   "id": "fd41fe65-9842-4e18-9248-83b62c754771",
   "metadata": {
    "id": "GVbyKj7eVMe2"
   },
   "source": [
    "## ***if***"
   ]
  },
  {
   "cell_type": "code",
   "execution_count": 5,
   "id": "f7f1374e-987e-4833-b8f5-07f5de24865a",
   "metadata": {
    "collapsed": false,
    "jupyter": {
     "outputs_hidden": false
    }
   },
   "outputs": [
    {
     "name": "stdout",
     "output_type": "stream",
     "text": [
      "Se cumple la condición\n",
      "También se muestre este print\n",
      "Hola\n"
     ]
    }
   ],
   "source": [
    "if True:\n",
    "    print(\"Se cumple la condición\")\n",
    "    print(\"También se muestre este print\")\n",
    "\n",
    "print(\"Hola\")\n"
   ]
  },
  {
   "cell_type": "code",
   "execution_count": 9,
   "id": "5a820530-5d45-4da4-a243-4ca52b667795",
   "metadata": {
    "id": "Qp38mNzTXc47"
   },
   "outputs": [
    {
     "name": "stdout",
     "output_type": "stream",
     "text": [
      "a - b = 6\n",
      "135\n"
     ]
    }
   ],
   "source": [
    "# verificar dos valores de variables\n",
    "a = 15\n",
    "b = 9\n",
    "if a > b:\n",
    "    print(\"a - b =\", a - b)\n",
    "\n",
    "print(a*b)\n"
   ]
  },
  {
   "cell_type": "markdown",
   "id": "2ae0149b-2f66-4389-9e00-e18cea5f3232",
   "metadata": {
    "id": "yTsEK28rXufL"
   },
   "source": [
    "## ***if*** y ***else***"
   ]
  },
  {
   "cell_type": "code",
   "execution_count": 12,
   "id": "e1c00006-2d7c-4c85-a6f6-34afee286dd6",
   "metadata": {
    "colab": {
     "base_uri": "https://localhost:8080/"
    },
    "executionInfo": {
     "elapsed": 316,
     "status": "ok",
     "timestamp": 1649098288656,
     "user": {
      "displayName": "Jose Luis Ojeda",
      "userId": "12240071782040482724"
     },
     "user_tz": 300
    },
    "id": "iPyIxqogX2jl",
    "outputId": "7a902fe8-ee28-42ed-aca7-111602acd9a0"
   },
   "outputs": [
    {
     "name": "stdout",
     "output_type": "stream",
     "text": [
      "a es mayor a b\n"
     ]
    }
   ],
   "source": [
    "# verificar dos valores de variables\n",
    "a = 15\n",
    "b = 15\n",
    "if a > b:\n",
    "    print(\"a es mayor a b\")\n",
    "else:\n",
    "    print(\"b es mayor o igual que a\")\n"
   ]
  },
  {
   "cell_type": "markdown",
   "id": "c42841b0-60b7-4989-b482-0c9367c6e208",
   "metadata": {
    "tags": []
   },
   "source": [
    "## ***if*** independientes"
   ]
  },
  {
   "cell_type": "code",
   "execution_count": 13,
   "id": "68b2fc99-2aac-476e-bf38-2f54b0c28ea7",
   "metadata": {
    "collapsed": false,
    "jupyter": {
     "outputs_hidden": false
    }
   },
   "outputs": [
    {
     "name": "stdout",
     "output_type": "stream",
     "text": [
      "a vale 2\n"
     ]
    }
   ],
   "source": [
    "a = 2\n",
    "if a == 2:\n",
    "    print(\"a vale 2\")\n",
    "if a == 5:\n",
    "    print(\"a vale 5\")\n"
   ]
  },
  {
   "cell_type": "markdown",
   "id": "794e1294-963e-4fc6-b4e5-64709f58ffbb",
   "metadata": {},
   "source": [
    "## ***if*** anidados"
   ]
  },
  {
   "cell_type": "code",
   "execution_count": null,
   "id": "2b0ae6c2-6e14-4120-80d7-1acd8e3f8706",
   "metadata": {
    "collapsed": false,
    "jupyter": {
     "outputs_hidden": false
    }
   },
   "outputs": [
    {
     "name": "stdout",
     "output_type": "stream",
     "text": [
      "a vale 5\n",
      "y b vale 10\n"
     ]
    }
   ],
   "source": [
    "a = 5\n",
    "b = 10\n",
    "if a == 5:\n",
    "    print(\"a vale\", a)\n",
    "    if b == 10:\n",
    "        print(\"y b vale\", b)"
   ]
  },
  {
   "cell_type": "code",
   "execution_count": 18,
   "id": "4365318d-a2d8-4df7-bbd7-fce0d3ec4df6",
   "metadata": {
    "collapsed": false,
    "jupyter": {
     "outputs_hidden": false
    }
   },
   "outputs": [
    {
     "name": "stdout",
     "output_type": "stream",
     "text": [
      "a vale 5 y b vale 10\n"
     ]
    }
   ],
   "source": [
    "a = 5\n",
    "b = 10\n",
    "if a == 5 and b == 10:\n",
    "    print(\"a vale 5 y b vale 10\")"
   ]
  },
  {
   "cell_type": "code",
   "execution_count": 20,
   "id": "01ea174a-d824-455c-becb-31cb451dd1a7",
   "metadata": {},
   "outputs": [
    {
     "name": "stdout",
     "output_type": "stream",
     "text": [
      "Nota fuera de rango\n"
     ]
    }
   ],
   "source": [
    "nota = 18\n",
    "if 0 <= nota <= 20:\n",
    "    print(\"La nota es válida\")\n",
    "else:\n",
    "    print(\"Nota fuera de rango\")\n"
   ]
  },
  {
   "cell_type": "markdown",
   "id": "643210f9-1fbe-4d96-92d2-a041b4f61810",
   "metadata": {},
   "source": [
    "## Sentencia ***elif***\n",
    "### Se encadena a un if u otro elif para comprobar múltiples condiciones, siempre que las anteriores no se ejecuten."
   ]
  },
  {
   "cell_type": "code",
   "execution_count": 22,
   "id": "68da1b1b-57d9-45cf-8395-ee4b1bfae8f5",
   "metadata": {
    "collapsed": false,
    "jupyter": {
     "outputs_hidden": false
    }
   },
   "outputs": [
    {
     "name": "stdout",
     "output_type": "stream",
     "text": [
      "Bienvenido al sistema\n"
     ]
    }
   ],
   "source": [
    "comando = \"HOLA\"\n",
    "if comando == \"ENTRAR\":\n",
    "    print(\"Bienvenido al sistema\")\n",
    "elif comando == \"SALUDAR\":\n",
    "    print(\"Hola, espero que te lo estés pasando bien aprendiendo Python\")\n",
    "elif comando == \"SALIR\":\n",
    "    print(\"Saliendo del sistema...\")\n",
    "else:\n",
    "    print(\"Este comando no se reconoce\")\n"
   ]
  },
  {
   "cell_type": "code",
   "execution_count": 23,
   "id": "b0aceb63-09ca-4ef5-9d52-29e36e1d0e09",
   "metadata": {
    "id": "LUWVZ1_hwesS"
   },
   "outputs": [
    {
     "name": "stdout",
     "output_type": "stream",
     "text": [
      "b es mayor que a\n"
     ]
    }
   ],
   "source": [
    "a = 200\n",
    "b = 200\n",
    "if b > a:\n",
    "    print(\"b es mayor que a\")\n",
    "elif a == b:\n",
    "    print(\"a es igual a b\")\n",
    "else:\n",
    "    print(\"a es mayor que b\")\n"
   ]
  },
  {
   "cell_type": "markdown",
   "id": "d62735d0-38da-4cb4-b689-b913c1700106",
   "metadata": {},
   "source": [
    "## ***match***"
   ]
  },
  {
   "cell_type": "code",
   "execution_count": null,
   "id": "374e0cb4-89b5-4802-8deb-36478db695af",
   "metadata": {},
   "outputs": [
    {
     "name": "stdout",
     "output_type": "stream",
     "text": [
      "Número no está entre 1 y 3\n"
     ]
    }
   ],
   "source": [
    "num = int(input(\"Introduzca un número entre 1 y 3: \"))\n",
    "\n",
    "match num:\n",
    "    case 1:\n",
    "        print(\"uno\")\n",
    "    case 2:\n",
    "        print(\"dos\")\n",
    "    case 3:\n",
    "        print(\"tres\")\n",
    "    case _:\n",
    "        print(\"Número no está entre 1 y 3\")\n"
   ]
  },
  {
   "cell_type": "code",
   "execution_count": null,
   "id": "3a025a3e-3663-42ac-8899-ba284b6dc252",
   "metadata": {},
   "outputs": [],
   "source": [
    "comando = \"¡Hola mundo!\"\n",
    "match comando:\n",
    "    case \"¡Hola mundo!\":\n",
    "        print(\"¡Hola a ti también!\")\n",
    "    case \"¡Adiós, mundo!\":\n",
    "        print(\"Nos vemos luego\")\n",
    "    case other:\n",
    "        print(\"No se encontró ninguna coincidencia\")\n"
   ]
  },
  {
   "cell_type": "markdown",
   "id": "09dbffee-3c6f-4674-980d-f54c333ab5eb",
   "metadata": {},
   "source": [
    "# ***while***\n",
    "- Se basa en repetir un bloque a partir de evaluar una condición lógica, siempre que ésta sea ***True***.\n",
    "- Queda en las manos del programador decidir el momento en que la condición cambie a ***False*** para hacer que el ***while*** finalice."
   ]
  },
  {
   "cell_type": "code",
   "execution_count": 31,
   "id": "31387c10-195f-4167-b934-9f31db0bd592",
   "metadata": {
    "collapsed": false,
    "id": "490ff1b7-1606-42d5-9a8e-43521e657bbf",
    "jupyter": {
     "outputs_hidden": false
    }
   },
   "outputs": [
    {
     "name": "stdout",
     "output_type": "stream",
     "text": [
      "c vale 1\n",
      "c vale 2\n",
      "c vale 3\n",
      "c vale 4\n",
      "c vale 5\n",
      "c vale 6\n"
     ]
    }
   ],
   "source": [
    "c = 0\n",
    "while c <= 5:\n",
    "    c += 1\n",
    "    print(f\"c vale {c}\")\n"
   ]
  },
  {
   "cell_type": "markdown",
   "id": "5f08b234-2cd2-46c8-9cd0-496fa586f67d",
   "metadata": {
    "id": "13d41c8b-db23-4d4f-90ea-1a678c626e5a"
   },
   "source": [
    "### Instrucción ***break***\n",
    "- Sirve para ***\"romper\"*** la ejecución del ***while*** en cualquier momento."
   ]
  },
  {
   "cell_type": "code",
   "execution_count": 34,
   "id": "6da5730c-c3c9-455e-a5b0-3aa977246d71",
   "metadata": {
    "id": "265a46f2-5eda-45dc-a8f1-2ee278b89b95"
   },
   "outputs": [
    {
     "name": "stdout",
     "output_type": "stream",
     "text": [
      "c vale 1\n",
      "c vale 2\n",
      "c vale 3\n",
      "rompemos el bucle cuando c vale  4\n"
     ]
    }
   ],
   "source": [
    "c = 0\n",
    "while True:\n",
    "    c += 1\n",
    "    if c == 4:\n",
    "        print(\"rompemos el bucle cuando c vale \", c)\n",
    "        break\n",
    "    print(\"c vale\", c)\n"
   ]
  },
  {
   "cell_type": "markdown",
   "id": "37745cb5-d92e-499d-9216-ddba208f3bf2",
   "metadata": {
    "id": "bc118b98-68d2-4c67-b191-7672b439474d"
   },
   "source": [
    "### Instrucción ***continue***\n",
    "- Sirve para \"saltarse\" la iteración actual sin romper el bucle."
   ]
  },
  {
   "cell_type": "code",
   "execution_count": 39,
   "id": "941b6ca1-7921-4507-969e-3ebbd552e81f",
   "metadata": {
    "collapsed": false,
    "id": "951a9f94-c87c-4cf8-8e4b-9ae1c48b310e",
    "jupyter": {
     "outputs_hidden": false
    }
   },
   "outputs": [
    {
     "name": "stdout",
     "output_type": "stream",
     "text": [
      "c vale 1\n",
      "c vale 2\n",
      "Continuamos con la siguiente iteración 3\n",
      "Continuamos con la siguiente iteración 4\n",
      "c vale 5\n",
      "c vale 6\n",
      "Se ha completado toda la iteración y c vale 6\n"
     ]
    }
   ],
   "source": [
    "c = 0\n",
    "while c <= 5:\n",
    "    c += 1\n",
    "    if c == 3 or c == 4:\n",
    "        print(\"Continuamos con la siguiente iteración\", c)\n",
    "        continue\n",
    "\n",
    "    print(\"c vale\", c)\n",
    "\n",
    "print(\"Se ha completado toda la iteración y c vale\", c)\n"
   ]
  },
  {
   "cell_type": "markdown",
   "id": "1eed5ab7-85d4-4f1c-8caa-a4c280bc73db",
   "metadata": {},
   "source": [
    "## ***Manejando excepciones - Bloques try y except***\n",
    "Para prevenir el error, debemos poner el código propenso a error en un bloque ***try*** y luego encadenaremos un bloque ***except*** para tratar la excepción:"
   ]
  },
  {
   "cell_type": "code",
   "execution_count": null,
   "id": "c3b92b7e-1512-49db-9597-595fd48c836b",
   "metadata": {},
   "outputs": [],
   "source": [
    "# Un ejemplo sencillo de try y except\n",
    "n = float(input(\"Introduce un número: \"))\n",
    "m = 4\n",
    "print(n, m, n / m)\n"
   ]
  },
  {
   "cell_type": "code",
   "execution_count": 42,
   "id": "f0d0e685-4235-465f-9aff-1c5f7f9a49b3",
   "metadata": {},
   "outputs": [
    {
     "name": "stdout",
     "output_type": "stream",
     "text": [
      "Ha ocurrido un error, ingresa un número\n"
     ]
    }
   ],
   "source": [
    "# Un ejemplo sencillo de try y except\n",
    "try:\n",
    "    n = float(input(\"Introduce un número: \"))\n",
    "    m = 4\n",
    "    print(n, m, n / m)\n",
    "except ValueError:\n",
    "    print(\"Ha ocurrido un error, ingresa un número\")\n"
   ]
  },
  {
   "cell_type": "code",
   "execution_count": null,
   "id": "87ef1ae1-f3b0-47e6-9bc6-40f1d3d2d95c",
   "metadata": {
    "colab": {
     "base_uri": "https://localhost:8080/"
    },
    "executionInfo": {
     "elapsed": 7236,
     "status": "ok",
     "timestamp": 1649097003393,
     "user": {
      "displayName": "Jose Luis Ojeda",
      "userId": "12240071782040482724"
     },
     "user_tz": 300
    },
    "id": "ZGtUBRy109hq",
    "outputId": "3617b286-4eef-4e98-f0a9-63ec80cff3c2",
    "tags": []
   },
   "outputs": [],
   "source": [
    "try:\n",
    "    temperatura = int(input(\"Ingrese la temperatura en grados Celcius \"))\n",
    "    print(temperatura)\n",
    "    print(type(temperatura))\n",
    "except ValueError:\n",
    "    print(\"El dato ingresado no es un entero\")\n"
   ]
  }
 ],
 "metadata": {
  "kernelspec": {
   "display_name": "Python 3",
   "language": "python",
   "name": "python3"
  },
  "language_info": {
   "codemirror_mode": {
    "name": "ipython",
    "version": 3
   },
   "file_extension": ".py",
   "mimetype": "text/x-python",
   "name": "python",
   "nbconvert_exporter": "python",
   "pygments_lexer": "ipython3",
   "version": "3.13.1"
  }
 },
 "nbformat": 4,
 "nbformat_minor": 5
}
