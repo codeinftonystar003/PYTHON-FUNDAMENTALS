{
 "cells": [
  {
   "cell_type": "code",
   "execution_count": 1,
   "metadata": {},
   "outputs": [
    {
     "name": "stdout",
     "output_type": "stream",
     "text": [
      "El valor del polinomio es:  41.0\n"
     ]
    }
   ],
   "source": [
    "# Evaluar el polinomio \n",
    "# x^4 + x^3 + 2x^2 -x + 11\n",
    "\n",
    "x = float(input(\"Introduce el valor de x: \"))\n",
    "valor = x **4 + x**3 + 2 * x ** 2 - x + 11\n",
    "print(\"El valor del polinomio es: \", valor)"
   ]
  },
  {
   "cell_type": "code",
   "execution_count": 3,
   "metadata": {},
   "outputs": [
    {
     "name": "stdout",
     "output_type": "stream",
     "text": [
      "El valor del polinomio es:  12994.581138830084\n"
     ]
    }
   ],
   "source": [
    "# Evalúe el polinomio 13x^3 + 1/2x^1/2 -x + 3. Evalúe en x=10\n",
    "x = int(input(\"Introduce el valor de x: \"))\n",
    "polinomio = (13*x**3) + (1/2*x**0.5) - x + 3\n",
    "print(\"El valor del polinomio es: \", polinomio)"
   ]
  },
  {
   "cell_type": "code",
   "execution_count": 4,
   "metadata": {},
   "outputs": [
    {
     "name": "stdout",
     "output_type": "stream",
     "text": [
      "El valor de A es:  -4.0\n",
      "El valor de B es:  -4.0\n",
      "El valor de C es:  -2.0\n",
      "El valor de D es:  -2.0\n",
      "El valor de E es:  1.0\n",
      "El valor de F es:  1.0\n"
     ]
    }
   ],
   "source": [
    "\"\"\"\n",
    "a. ((b * b) - (4 * a * c)) / (2 * a)  \n",
    "b. (b * b - 4 * a * c) / (2 * a)  \n",
    "c. b * b - 4 * a * c / 2 * a  \n",
    "d. (b * b) - (4 * a * c / 2 * a)  \n",
    "e. 1 / 2 * b  \n",
    "f. b / 2.  \n",
    "\"\"\"\n",
    "\n",
    "a = int(input(\"Introduce el valor de a: \"))\n",
    "b = int(input(\"Introduce el valor de b: \"))\n",
    "c = int(input(\"Introduce el valor de c: \"))\n",
    "\n",
    "valorA = ((b * b) - (4 * a * c)) / (2 * a)\n",
    "valorB = (b * b - 4 * a * c) / (2 * a)\n",
    "valorC = b * b - 4 * a * c / 2 * a\n",
    "valorD = (b * b) - (4 * a * c / 2 * a)\n",
    "valorE = 1 / 2 * b\n",
    "valorF = b / 2\n",
    "\n",
    "print(\"El valor de A es: \", valorA)\n",
    "print(\"El valor de B es: \", valorB)\n",
    "print(\"El valor de C es: \", valorC)\n",
    "print(\"El valor de D es: \", valorD)\n",
    "print(\"El valor de E es: \", valorE)\n",
    "print(\"El valor de F es: \", valorF)\n",
    "\n"
   ]
  },
  {
   "cell_type": "code",
   "execution_count": null,
   "metadata": {},
   "outputs": [
    {
     "name": "stdout",
     "output_type": "stream",
     "text": [
      "False\n"
     ]
    }
   ],
   "source": [
    "a = 5\n",
    "b = a\n",
    "\n",
    "print (a is  not b) \n",
    "# a is not b da como resultado False porque a y b son iguales\n",
    "# y ocupan la misma dirección de memoria.\n",
    "\n"
   ]
  },
  {
   "cell_type": "code",
   "execution_count": 9,
   "metadata": {},
   "outputs": [
    {
     "name": "stdout",
     "output_type": "stream",
     "text": [
      "Resultados\n",
      "Horas: 1\n",
      "Minutos: 1\n",
      "Segundos: 15\n"
     ]
    }
   ],
   "source": [
    "\"\"\" \n",
    "Escriba un programa pida la cantidad de segundos y devuelva en horas, \n",
    "minutos y segundos correspondientes. El programa debe controlar que se \n",
    "ingrese un entero \n",
    "\"\"\"\n",
    "try:\n",
    "    cantidad_segundos = int(input(\"Introduce la cantidad de segundos: \"))\n",
    "    \n",
    "    horas = cantidad_segundos // 3600\n",
    "    minutos = (cantidad_segundos % 3600) // 60\n",
    "    segundos = cantidad_segundos % 60\n",
    "    print(\"Resultados\")\n",
    "    print(\"Horas:\", horas)\n",
    "    print(\"Minutos:\", minutos)\n",
    "    print(\"Segundos:\", segundos)\n",
    "\n",
    "except ValueError:\n",
    "    print(\"Por favor, introduce un número entero.\")"
   ]
  },
  {
   "cell_type": "code",
   "execution_count": 13,
   "metadata": {},
   "outputs": [
    {
     "name": "stdout",
     "output_type": "stream",
     "text": [
      "La temperatura en grados Celsius es:  93.33\n"
     ]
    }
   ],
   "source": [
    "\"\"\"\n",
    "Escriba un programa que pida una temperatura en grados Fahrenheit y que \n",
    "escriba esa temperatura en grados Celsius. Se recuerda que la relación entre \n",
    "grados Celsius (C) y grados Fahrenheit (F) es la siguiente: C = (F - 32) / 1.8. El \n",
    "programa debe controlar que se ingrese un número entero \n",
    "\n",
    "\"\"\"\n",
    "\n",
    "try:\n",
    "    temperatura_fahereint = int(input(\"Introduce la temperatura en grados Fahrenheit: \"))\n",
    "    temperatura_celsius = (temperatura_fahereint - 32) / 1.8\n",
    "    print(\"La temperatura en grados Celsius es: \", round(temperatura_celsius,2))\n",
    "except ValueError:\n",
    "    print(\"Por favor, introduce un número entero.\")\n",
    "    "
   ]
  },
  {
   "cell_type": "code",
   "execution_count": 17,
   "metadata": {},
   "outputs": [
    {
     "name": "stdout",
     "output_type": "stream",
     "text": [
      "Antony  - peña  - 18\n"
     ]
    }
   ],
   "source": [
    "\"\"\"\n",
    "Escriba un programa que permita ingresar un nombre, un apellido y una edad y \n",
    "luego los imprima separados por guiones.  \n",
    "\"\"\"\n",
    "try:\n",
    "    nombre = input(\"Ingrese su nombre: \")\n",
    "    apellido = input(\"Ingrese su apellido: \")\n",
    "    edad = int(input(\"Ingrese su edad: \"))\n",
    "    print(nombre, apellido, edad , sep = \" - \")\n",
    "except ValueError:\n",
    "    print(\"Por favor, introduce un número entero para la edad.\")\n"
   ]
  },
  {
   "cell_type": "code",
   "execution_count": 19,
   "metadata": {},
   "outputs": [
    {
     "name": "stdout",
     "output_type": "stream",
     "text": [
      "Datos de la persona: \n",
      "--------------------\n",
      "Nombre  :  Antony Yomar \n",
      "Apellido:  Peña Roña\n",
      "Edad    :  18\n",
      "--------------------\n"
     ]
    }
   ],
   "source": [
    "\"\"\"\n",
    "Escriba un programa que permita ingresar un nombre, un apellido y una edad y \n",
    "luego los imprima como se muestra en el ejemplo siguiente: \n",
    "Datos de la persona - Nombre: Juan - Apellido: Perez - Edad: 18\n",
    "\"\"\"\n",
    "try:\n",
    "    nombre = input(\"Ingrese su Nombre : \").title()\n",
    "    apellido = input(\"Ingrese su Apellido : \").title()\n",
    "    edad = int(input(\"Ingrese su Edad : \"))\n",
    "    print(\"Datos de la persona: \")\n",
    "    print(\"--\"*10)\n",
    "    print(\"Nombre  : \", nombre)\n",
    "    print(\"Apellido: \", apellido)\n",
    "    print(\"Edad    : \", edad)\n",
    "    print(\"--\"*10)\n",
    "except ValueError:\n",
    "    print(\"Por favor, introduce un número entero para la edad.\")"
   ]
  }
 ],
 "metadata": {
  "kernelspec": {
   "display_name": "Python 3",
   "language": "python",
   "name": "python3"
  },
  "language_info": {
   "codemirror_mode": {
    "name": "ipython",
    "version": 3
   },
   "file_extension": ".py",
   "mimetype": "text/x-python",
   "name": "python",
   "nbconvert_exporter": "python",
   "pygments_lexer": "ipython3",
   "version": "3.12.8"
  }
 },
 "nbformat": 4,
 "nbformat_minor": 2
}
