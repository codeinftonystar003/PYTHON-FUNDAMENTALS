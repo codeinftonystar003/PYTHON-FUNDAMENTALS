{
 "cells": [
  {
   "cell_type": "markdown",
   "id": "3690830c",
   "metadata": {},
   "source": [
    "Ejercicio 1\n"
   ]
  },
  {
   "cell_type": "code",
   "execution_count": 49,
   "id": "6c0b4bd1",
   "metadata": {},
   "outputs": [
    {
     "name": "stdout",
     "output_type": "stream",
     "text": [
      "1 : Pedro Gallese\n",
      "22 : Alexander Callens\n",
      "4 : Anderson Santamaría \n",
      "6 : Marcos López\n",
      "17 : Luis Advíncula\n",
      "10 : Christian Cueva \n",
      "13 : Renato Tapia\n",
      "23 : Pedro Aquino \n",
      "9 : Gianluca Lapadula \n",
      "20 : Edison Flores \n",
      "18 : André Carrillo \n",
      "26 : Yordy Reyna\n",
      "------------------------------------------------------------\n",
      "1 : Pedro Gallese\n",
      "22 : Alexander Callens\n",
      "6 : Marcos López\n",
      "17 : Luis Advíncula\n",
      "10 : Christian Cueva \n",
      "13 : Renato Tapia\n",
      "23 : Pedro Aquino \n",
      "9 : Gianluca Lapadula \n",
      "20 : Edison Flores \n",
      "18 : André Carrillo \n",
      "26 : Yordy Reyna\n",
      "5 : Carlos Zambrano\n"
     ]
    }
   ],
   "source": [
    "\n",
    "seleccion_titular = {\n",
    "    1 : \"Pedro Gallese\",\n",
    "    22: \"Alexander Callens\",\n",
    "    4 : \"Anderson Santamaría \",\n",
    "    6 : \"Marcos López\",\n",
    "    17: \"Luis Advíncula\",\n",
    "    10: \"Christian Cueva \",\n",
    "    13: \"Renato Tapia\",\n",
    "    23: \"Pedro Aquino \",\n",
    "    9 : \"Gianluca Lapadula \",\n",
    "    20: \"Edison Flores \",\n",
    "    18: \"André Carrillo \",\n",
    "    26: \"Yordy Reyna\",\n",
    "}\n",
    "\n",
    "suplentes  = {\n",
    "    5 : \"Carlos Zambrano\",\n",
    "    8 : \"Sergio Peña\",\n",
    "    24: \"Alex Valera\",\n",
    "    30: \"Raúl Ruidíaz\",\n",
    "    16: \"Christofer Gonzáles\",\n",
    "}\n",
    "\n",
    "# Eliminar claves solo si existen\n",
    "#for clave in [5, 8, 24, 30, 16, 26]:\n",
    "   # seleccion_titular.pop(clave, None)\n",
    "\n",
    "# Mostrar equipo tras eliminar\n",
    "for x, y in seleccion_titular.items():\n",
    "    print(x , \":\", y)\n",
    "\n",
    "print(\"--\" * 30)\n",
    "seleccion_titular.pop(4)\n",
    "seleccion_titular[5] = suplentes[5]\n",
    "\n",
    "# Mostrar equipo actualizado\n",
    "for x, y in seleccion_titular.items():\n",
    "    print(x , \":\", y)\n"
   ]
  }
 ],
 "metadata": {
  "kernelspec": {
   "display_name": "Python 3",
   "language": "python",
   "name": "python3"
  },
  "language_info": {
   "codemirror_mode": {
    "name": "ipython",
    "version": 3
   },
   "file_extension": ".py",
   "mimetype": "text/x-python",
   "name": "python",
   "nbconvert_exporter": "python",
   "pygments_lexer": "ipython3",
   "version": "3.12.8"
  }
 },
 "nbformat": 4,
 "nbformat_minor": 5
}
