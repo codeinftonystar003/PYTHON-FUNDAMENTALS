{
 "cells": [
  {
   "cell_type": "markdown",
   "id": "b5db5134",
   "metadata": {},
   "source": [
    "ejercicio 1\n"
   ]
  },
  {
   "cell_type": "code",
   "execution_count": null,
   "id": "5aef2982",
   "metadata": {},
   "outputs": [],
   "source": [
    "\n",
    "lista = []\n",
    "mayores = 0\n",
    "menores = 0\n",
    "while True:\n",
    "    try:\n",
    "        numero = int(input(\"Ingrese un numero entero : \"))\n",
    "        if numero >0:\n",
    "            lista.append(numero)\n",
    "        else:\n",
    "            break\n",
    "    except ValueError:\n",
    "        print(\"Error en los datos de ingreso\")\n",
    "print(lista)\n",
    "print(\"-\"*40)\n",
    "print(\"Resultados\")\n",
    "print(\"-\"*40)\n",
    "print(f\"Total de numeros leidos : {len(lista)}\")\n",
    "print(f\"El numero mayor es:  {max(lista)}\")\n",
    "print(f\"El numero menor es : {min(lista)}\")\n",
    "\n",
    "for i in lista:\n",
    "    if i > 0:\n",
    "        mayores +=1\n",
    "    else:\n",
    "        menores +=1\n",
    "print(f\"Numeros positivos : {mayores}\")\n",
    "print(f\"Numeros negativos : {menores}\")\n",
    "print(f\"El promedio es : {round(sum(lista)/len(lista),2)}\")\n",
    "print(\"-\"*40)\n"
   ]
  },
  {
   "cell_type": "markdown",
   "id": "2239eecc",
   "metadata": {},
   "source": [
    "Ejercicio 2"
   ]
  },
  {
   "cell_type": "code",
   "execution_count": 18,
   "id": "c14f7fa8",
   "metadata": {},
   "outputs": [
    {
     "name": "stdout",
     "output_type": "stream",
     "text": [
      "La suma es 0.75\n"
     ]
    }
   ],
   "source": [
    "while True:\n",
    "    try:\n",
    "        n = int(input(\"Ingrese un numero\"))\n",
    "        if n>0:\n",
    "            break\n",
    "        else:\n",
    "            print(\"El numero debe ser un dato positivo\")\n",
    "    except ValueError:\n",
    "        print(\"Error en los datos de ingreso...\")\n",
    "\n",
    "suma = 0\n",
    "signo = 1\n",
    "for i in range(n):\n",
    "    denominador = 2**i\n",
    "    termino = signo*(1/denominador)\n",
    "    suma +=termino\n",
    "    signo *=-1\n",
    "\n",
    "print(f\"La suma es {suma}\")"
   ]
  },
  {
   "cell_type": "markdown",
   "id": "86517033",
   "metadata": {},
   "source": [
    "Ejercicio 3"
   ]
  },
  {
   "cell_type": "code",
   "execution_count": 20,
   "id": "e820c697",
   "metadata": {},
   "outputs": [
    {
     "name": "stdout",
     "output_type": "stream",
     "text": [
      "El numero ingresado es : 123456789\n",
      "El numero invertido es : 987654321\n"
     ]
    }
   ],
   "source": [
    "while True:\n",
    "    try:\n",
    "        num = int(input(\"Ingrese un numero : \"))\n",
    "        if num >0:\n",
    "            break\n",
    "        else:\n",
    "            print(\"El numero debe ser positivo\")\n",
    "    except ValueError:\n",
    "        print(\"Error en los datos de ingreso\")\n",
    "\n",
    "print(f\"El numero ingresado es : {num}\")\n",
    "numero_invertido = (str(num)[::-1])\n",
    "print(f\"El numero invertido es : {numero_invertido}\")"
   ]
  },
  {
   "cell_type": "code",
   "execution_count": 31,
   "id": "16f4289a",
   "metadata": {},
   "outputs": [
    {
     "name": "stdout",
     "output_type": "stream",
     "text": [
      "1 \n",
      "1 2 \n",
      "1 2 3 \n",
      "1 2 3 4 \n",
      "1 2 3 4 5 \n",
      "1 2 3 4 5 6 \n",
      "1 2 3 4 5 6 7 \n",
      "1 2 3 4 5 6 7 8 \n"
     ]
    }
   ],
   "source": [
    "while True:\n",
    "    try:\n",
    "        number = int(input(\"Ingrese un numero entre 1 y 10: \"))\n",
    "        if 1<= number <= 10:\n",
    "            break\n",
    "        else:\n",
    "            print(\"El numero debe estar entre 1 y 10\")\n",
    "    except ValueError:\n",
    "        print(\"Error en los datos de ingreso..\")\n",
    "    \n",
    "\n",
    "for i in  range(1, number+1):\n",
    "    for j in range(1,i+1):\n",
    "        print(j, end= \" \")\n",
    "    print()"
   ]
  },
  {
   "cell_type": "markdown",
   "id": "025fbbf7",
   "metadata": {},
   "source": [
    "Ejercicio 5"
   ]
  },
  {
   "cell_type": "code",
   "execution_count": 36,
   "id": "d514b9a1",
   "metadata": {},
   "outputs": [
    {
     "name": "stdout",
     "output_type": "stream",
     "text": [
      "? ? ? ? ? ? ? ? ? ? \n",
      "? ? ? ? ? ? ? ? ? \n",
      "? ? ? ? ? ? ? ? \n",
      "? ? ? ? ? ? ? \n",
      "? ? ? ? ? ? \n",
      "? ? ? ? ? \n",
      "? ? ? ? \n",
      "? ? ? \n",
      "? ? \n",
      "? \n"
     ]
    }
   ],
   "source": [
    "while True:\n",
    "    try:\n",
    "        dato = int(input(\"Ingrese un numero entre 1 y 10: \"))\n",
    "        if 1<= dato <= 10:\n",
    "            break\n",
    "        else:\n",
    "            print(\"El numero debe estar entre 1 y 10\")\n",
    "    except ValueError:\n",
    "        print(\"Error en los datos de ingreso..\")\n",
    "    \n",
    "forma = input(\"Ingrese un simbolo para el grafico : \")\n",
    "for i in range(dato,0, -1):\n",
    "    for j in range(i):\n",
    "        print(forma, end=\" \")\n",
    "    print()"
   ]
  },
  {
   "cell_type": "code",
   "execution_count": null,
   "id": "f9cde8ef",
   "metadata": {},
   "outputs": [],
   "source": [
    "for i in range(dato):\n",
    "    for j in range(dato):\n",
    "        print(forma, end=\" \")\n",
    "    print()"
   ]
  },
  {
   "cell_type": "code",
   "execution_count": 39,
   "id": "b6fa29e6",
   "metadata": {},
   "outputs": [
    {
     "name": "stdout",
     "output_type": "stream",
     "text": [
      "? \n",
      "? ? \n",
      "? ? ? \n",
      "? ? ? ? \n",
      "? ? ? ? ? \n",
      "? ? ? ? ? ? \n",
      "? ? ? ? ? ? ? \n",
      "? ? ? ? ? ? ? ? \n",
      "? ? ? ? ? ? ? ? ? \n",
      "? ? ? ? ? ? ? ? ? ? \n"
     ]
    }
   ],
   "source": [
    "for i in range(1, dato+1):\n",
    "    for j in range(1,i+1):\n",
    "        print(forma, end=\" \")\n",
    "    print()"
   ]
  },
  {
   "cell_type": "code",
   "execution_count": 40,
   "id": "aef18a82",
   "metadata": {},
   "outputs": [
    {
     "name": "stdout",
     "output_type": "stream",
     "text": [
      "? ? ? ? ? ? ? ? ? ? \n",
      "? ? ? ? ? ? ? ? ? \n",
      "? ? ? ? ? ? ? ? \n",
      "? ? ? ? ? ? ? \n",
      "? ? ? ? ? ? \n",
      "? ? ? ? ? \n",
      "? ? ? ? \n",
      "? ? ? \n",
      "? ? \n",
      "? \n"
     ]
    }
   ],
   "source": [
    "for i in range(dato,0,-1):\n",
    "    for j in range(i):\n",
    "        print(forma, end=\" \")\n",
    "    print()"
   ]
  },
  {
   "cell_type": "code",
   "execution_count": 41,
   "id": "2c218b32",
   "metadata": {},
   "outputs": [
    {
     "name": "stdout",
     "output_type": "stream",
     "text": [
      "? ? ? ? ? ? ? ? ? ? \n",
      "? ? ? ? ? ? ? ? ? ? \n",
      "? ? ? ? ? ? ? ? ? ? \n",
      "? ? ? ? ? ? ? ? ? ? \n",
      "? ? ? ? ? ? ? ? ? ? \n",
      "? ? ? ? ? ? ? ? ? ? \n",
      "? ? ? ? ? ? ? ? ? ? \n",
      "? ? ? ? ? ? ? ? ? ? \n",
      "? ? ? ? ? ? ? ? ? ? \n",
      "? ? ? ? ? ? ? ? ? ? \n"
     ]
    }
   ],
   "source": [
    "for i in range(dato):\n",
    "    for j in range(dato):\n",
    "        print(forma, end=\" \")\n",
    "    print()"
   ]
  },
  {
   "cell_type": "code",
   "execution_count": 44,
   "id": "11127dc9",
   "metadata": {},
   "outputs": [
    {
     "name": "stdout",
     "output_type": "stream",
     "text": [
      "? ? ? ? ? ? ? ? ? \n",
      "  ? ? ? ? ? ? ? ? \n",
      "    ? ? ? ? ? ? ? \n",
      "      ? ? ? ? ? ? \n",
      "        ? ? ? ? ? \n",
      "          ? ? ? ? \n",
      "            ? ? ? \n",
      "              ? ? \n",
      "                ? \n",
      "                  \n"
     ]
    }
   ],
   "source": [
    "for i in range(1, dato+1):\n",
    "    for j in range(i-1):\n",
    "        print(\" \", end=\" \")\n",
    "    for k in range(dato-i):\n",
    "        print(forma, end=\" \")\n",
    "    print()"
   ]
  },
  {
   "cell_type": "markdown",
   "id": "60e051b0",
   "metadata": {},
   "source": [
    "ejercicio 6"
   ]
  },
  {
   "cell_type": "code",
   "execution_count": 84,
   "id": "63c1bac4",
   "metadata": {},
   "outputs": [
    {
     "name": "stdout",
     "output_type": "stream",
     "text": [
      "* * * * * * * * * \n",
      "*               *\n",
      "*               *\n",
      "*               *\n",
      "*               *\n",
      "*               *\n",
      "*               *\n",
      "*               *\n",
      "* * * * * * * * * \n"
     ]
    }
   ],
   "source": [
    "while True:\n",
    "    try:\n",
    "        n = int(input(\"Ingrese un numero : \"))\n",
    "        if n>0:\n",
    "            break\n",
    "        else:\n",
    "            print(\"El dato debe ser mayor a cero ...\")\n",
    "    except ValueError:\n",
    "        print(\"Error en los datos de ingreso \")\n",
    "for i in range(n):\n",
    "    if i == 0 or i == n - 1:\n",
    "        print(\"* \" * n)  # Borde superior o inferior\n",
    "    else:\n",
    "        print(\"* \" + \"  \" * (n - 2) + \"*\")  # Lados con espacio en medio\n",
    "\n"
   ]
  }
 ],
 "metadata": {
  "kernelspec": {
   "display_name": "Python 3",
   "language": "python",
   "name": "python3"
  },
  "language_info": {
   "codemirror_mode": {
    "name": "ipython",
    "version": 3
   },
   "file_extension": ".py",
   "mimetype": "text/x-python",
   "name": "python",
   "nbconvert_exporter": "python",
   "pygments_lexer": "ipython3",
   "version": "3.12.8"
  }
 },
 "nbformat": 4,
 "nbformat_minor": 5
}
