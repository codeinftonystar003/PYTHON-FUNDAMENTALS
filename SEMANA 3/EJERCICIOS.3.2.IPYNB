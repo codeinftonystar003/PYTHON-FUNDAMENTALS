{
 "cells": [
  {
   "cell_type": "markdown",
   "id": "5a457a45",
   "metadata": {},
   "source": [
    "Ejercicio 1 "
   ]
  },
  {
   "cell_type": "code",
   "execution_count": 3,
   "id": "5f2158d7",
   "metadata": {},
   "outputs": [
    {
     "name": "stdout",
     "output_type": "stream",
     "text": [
      "[1, 2, 3, 4, 5, 6, 7, 8, 9, 10]\n",
      "[10, 9, 8, 7, 6, 5, 4, 3, 2, 1]\n"
     ]
    }
   ],
   "source": [
    "lista = list(range(1,11))\n",
    "print(lista)\n",
    "print(lista[::-1])"
   ]
  },
  {
   "cell_type": "markdown",
   "id": "00dcf83d",
   "metadata": {},
   "source": [
    "ejercicio 2"
   ]
  },
  {
   "cell_type": "code",
   "execution_count": 14,
   "id": "723297bd",
   "metadata": {},
   "outputs": [
    {
     "name": "stdout",
     "output_type": "stream",
     "text": [
      "[1, 2, 3, 4, 5, 6, 7, 89]\n",
      "El total de numeros es : 8\n",
      "El ultimo elemento de la lista es : 89\n",
      "La lista en orden inverso es :\n",
      "[89, 7, 6, 5, 4, 3, 2, 1]\n",
      "SI\n",
      "El numero de 5 en la lista es de : 1\n",
      "Lista con elementos eliminados\n",
      "[3, 4, 5, 6]\n"
     ]
    }
   ],
   "source": [
    "lista1 = []\n",
    "while True:\n",
    "    try:\n",
    "        numeros = int(input(\"Ingrese un numero para su lista: \"))\n",
    "        if numeros > 0:\n",
    "            lista1.append(numeros)\n",
    "        else:\n",
    "           break\n",
    "    except ValueError:\n",
    "        print(\"Error en los datos de ingreso\")\n",
    "\n",
    "print(lista1)\n",
    "# Total de numeros\n",
    "print(f\"El total de numeros es : {len(lista1)}\")\n",
    "# Ultimo elemento de la lista\n",
    "print(f\"El ultimo elemento de la lista es : {lista1[-1]}\")\n",
    "# Lista en orden inverso \n",
    "print(f\"La lista en orden inverso es :\")\n",
    "print(lista1[::-1])\n",
    "# Validar 5 en la lista \n",
    "cont =0\n",
    "if 5 in lista1:\n",
    "    print(\"SI\")\n",
    "    for i in lista1:\n",
    "        if i == 5:\n",
    "            cont+=1\n",
    "else:\n",
    "    print(\"NO\")\n",
    "    \n",
    "print(f\"El numero de 5 en la lista es de : {cont}\")\n",
    "\n",
    "# Eliminar elementos de la lista \n",
    "lista1.pop(1)\n",
    "lista1.pop(0)\n",
    "lista1.pop(-2)\n",
    "lista1.pop(-1)\n",
    "print(\"Lista con elementos eliminados\")\n",
    "print(lista1)"
   ]
  },
  {
   "cell_type": "markdown",
   "id": "d538579d",
   "metadata": {},
   "source": [
    "Ejercicio 3"
   ]
  },
  {
   "cell_type": "code",
   "execution_count": 31,
   "id": "be65569c",
   "metadata": {},
   "outputs": [
    {
     "name": "stdout",
     "output_type": "stream",
     "text": [
      "[57, 90, 41, 85, 65, 6, 85, 9, 66, 18]\n",
      "Lista doble: \n",
      "[114, 180, 82, 170, 130, 12, 170, 18, 132, 36]\n",
      "Lista ordenada: \n",
      "[12, 18, 36, 82, 114, 130, 132, 170, 170, 180]\n",
      "Los dos numeros mayores son : [12, 18]\n",
      "Los dos numeros mayores son : [170, 180]\n"
     ]
    }
   ],
   "source": [
    "from random import randint \n",
    "lista2 = []\n",
    "for i in range (10):\n",
    "    lista2.append(randint(1,100))\n",
    "print(lista2)\n",
    "lista_doble = []\n",
    "contador = 0\n",
    "for i in lista2:\n",
    "    lista_doble.append(i*2)\n",
    "    if i > 50:\n",
    "        contador +=1\n",
    "print(\"Lista doble: \")\n",
    "print(lista_doble)\n",
    "\n",
    "# ordenamos la lista \n",
    "lista_ordenada = sorted(lista_doble)\n",
    "print(\"Lista ordenada: \")\n",
    "print(lista_ordenada)\n",
    "print(f\"Los dos numeros mayores son : {lista_ordenada[:2]}\")\n",
    "print(f\"Los dos numeros mayores son : {lista_ordenada[-2:]}\")"
   ]
  },
  {
   "cell_type": "markdown",
   "id": "24b35d76",
   "metadata": {},
   "source": [
    "Ejercicio 4"
   ]
  },
  {
   "cell_type": "code",
   "execution_count": 34,
   "id": "50f30ebd",
   "metadata": {},
   "outputs": [
    {
     "name": "stdout",
     "output_type": "stream",
     "text": [
      "[78, 5, 99, 98, 98, 30, 55, 43, 64, 21, 24, 11, 68, 41, 11, 55, 39, 45, 56, 81]\n",
      "Promedio de la lista: 5.5\n",
      "Lista ordenada : \n",
      "[5, 11, 11, 21, 24, 30, 39, 41, 43, 45, 55, 55, 56, 64, 68, 78, 81, 98, 98, 99]\n",
      "Elementos menores = [5, 11]\n",
      "Elementos mayores = [98, 99]\n",
      "El segundo numero mas grande es : 99 \n",
      "El segundo numero mas pequeño es : 11\n",
      "El numero de pares es : 8\n",
      "El numero de impares es :12\n"
     ]
    }
   ],
   "source": [
    "from random import randint\n",
    "lista3 =[]\n",
    "pares = impares = 0\n",
    "for i in range(20):\n",
    "    lista3.append(randint(1,100))\n",
    "print(lista3)\n",
    "print(f\"Promedio de la lista: {sum(lista)/len(lista)}\")\n",
    "lista_ordenada = sorted(lista3)\n",
    "print(\"Lista ordenada : \")\n",
    "print(lista_ordenada)\n",
    "print(f\"Elementos menores = {lista_ordenada[:2]}\")\n",
    "print(f\"Elementos mayores = {lista_ordenada[-2:]}\")\n",
    "print(f\"El segundo numero mas grande es : {lista_ordenada[-1]} \")\n",
    "print(f\"El segundo numero mas pequeño es : {lista_ordenada[1]}\")\n",
    "\n",
    "for i in lista_ordenada:\n",
    "    if i%2 ==0:\n",
    "        pares +=1\n",
    "    else:\n",
    "        impares +=1\n",
    "print(f\"El numero de pares es : {pares}\")\n",
    "print(f\"El numero de impares es :{impares}\")\n"
   ]
  },
  {
   "cell_type": "markdown",
   "id": "98d5c270",
   "metadata": {},
   "source": [
    "ejercicio 5"
   ]
  },
  {
   "cell_type": "code",
   "execution_count": null,
   "id": "9b750d05",
   "metadata": {},
   "outputs": [],
   "source": [
    "def conversion(lista_datos):\n",
    "    lista4 = []\n",
    "    for dato in lista_datos:\n",
    "        horas = dato // 3600\n",
    "        minutos = (dato %3600) // 60\n",
    "        segundos = dato %60\n",
    "        \n",
    "        lista4.append((dato,horas, minutos, segundos))\n",
    "\n",
    "    print(\"Resumen de Datos: \")\n",
    "    print(\"N° \" ,  \"Datos\",   \"Horas\",  \"Minutos\"  , \"Segundos\")\n",
    "    for i, (x,y,z,f) in enumerate(lista4, start = 1):\n",
    "        print(f\"{i:<3} {x:<7} {y:<6} {z:<5} {f:<7}\")\n",
    "\n",
    "def main():\n",
    "    lista_datos = []\n",
    "    while True:\n",
    "        try:\n",
    "            segundos = int(input(\"Ingrese una cantidad en segundo : \"))\n",
    "            if segundos > 0:\n",
    "                lista_datos.append(segundos)\n",
    "            else:\n",
    "                print(\"Los datos deben ser mayor a 0\")\n",
    "        except ValueError:\n",
    "            print(\"Error en los datos de ingreso\")\n",
    "\n",
    "        salir = input(\"Desea salir (s/n)\")\n",
    "        if salir.lower() == 's':\n",
    "            break\n",
    "        elif salir.lower() == 'n':\n",
    "            continue\n",
    "        else:\n",
    "            print(\"dato no valido...\")\n",
    "    conversion(lista_datos)\n",
    "\n",
    "main()\n",
    "        "
   ]
  },
  {
   "cell_type": "markdown",
   "id": "03e2be97",
   "metadata": {},
   "source": [
    "ejercicio 6"
   ]
  },
  {
   "cell_type": "code",
   "execution_count": null,
   "id": "de5f0d8b",
   "metadata": {},
   "outputs": [
    {
     "name": "stdout",
     "output_type": "stream",
     "text": [
      "[1] Pulgadas\n",
      "[2] Yardas\n",
      "[3] Millas\n",
      "[4] Milímetros\n",
      "[5] Centímetros\n",
      "[6] Metros\n",
      "[7] Resumen\n",
      "[8] Salir\n",
      "MOSTRAR RESUMEN DE CONVERSIONES\n",
      "--------------------------------------------------\n",
      "N°  Pies Convertir a :  Convertido \n",
      "1     30  Pulgadas            360\n",
      "--------------------------------------------------\n",
      "--------------------------------------------------\n",
      "N°  Pies Convertir a :  Convertido \n",
      "1     30  Pulgadas            360\n",
      "2     40   Metros         12.192\n",
      "--------------------------------------------------\n"
     ]
    }
   ],
   "source": [
    "def menu():\n",
    "    print(\"[1] Pulgadas\")\n",
    "    print(\"[2] Yardas\")\n",
    "    print(\"[3] Millas\")\n",
    "    print(\"[4] Milímetros\")\n",
    "    print(\"[5] Centímetros\")\n",
    "    print(\"[6] Metros\")\n",
    "    print(\"[7] Resumen\")\n",
    "    print(\"[8] Salir\")\n",
    "def main():\n",
    "    lista_conversiones = []\n",
    "    menu()\n",
    "    while True:\n",
    "        while True:\n",
    "            try:\n",
    "                opcion = int(input(\"Ingrese una opcion : \"))\n",
    "                if 1<= opcion <= 8:\n",
    "                    break\n",
    "                else:\n",
    "                    print(\"Opcion fuera de rango\")\n",
    "            except ValueError:\n",
    "                print(\"Error en los datos de ingreso...\")\n",
    "    \n",
    "        if opcion == 8:\n",
    "            print(\"Saliendo del programa.....\")\n",
    "            break\n",
    "        if opcion == 7:\n",
    "            print(\"MOSTRAR RESUMEN DE CONVERSIONES\")\n",
    "            if not lista_conversiones:\n",
    "                print(\"La lista esta vacia\") \n",
    "            else:\n",
    "                print(\"-\"*50)\n",
    "                print(\"RESUMEN DE LAS CONVERSIONES\")\n",
    "                print(\"-\"*50)\n",
    "                print(\"N° \", \"Pies\"  , \"Convertir a : \", \"Convertido \")\n",
    "                for i, (x,y,z) in enumerate(lista_conversiones, start= 1):\n",
    "                    print(f\"{i:<2} {x:>5}  {y:>7} {z:>14}\")\n",
    "                print(\"-\"*50)\n",
    "            continue\n",
    "        \n",
    "        while True:\n",
    "            try:\n",
    "                pies = int(input(\"Ingrese el numero de pies a convertir : \"))\n",
    "                if pies>0:\n",
    "                    break\n",
    "                else:\n",
    "                    print(\"El dato debe ser mayor a cero\")\n",
    "            except ValueError:\n",
    "                print(\"error en los datos de ingreso...\")\n",
    "            \n",
    "        if opcion == 1:\n",
    "            unidad = \"Pulgadas\"\n",
    "            resultado = pies * 12\n",
    "        elif opcion == 2:\n",
    "            unidad = \"Yardas\"\n",
    "            resultado = pies * 0.33\n",
    "        elif opcion == 3:\n",
    "            unidad = \"Millas\"\n",
    "            resultado =  pies * 0.0002\n",
    "        elif opcion == 4:\n",
    "            unidad = \"Milimetros\"\n",
    "            resultado = pies * 304.8\n",
    "        elif opcion == 5:\n",
    "            unidad  = \"Centimetros\"\n",
    "            resultado = pies * 30.48\n",
    "        elif opcion ==  6:\n",
    "            unidad = \"Metros\"\n",
    "            resultado = pies * 0.3048\n",
    "        else:\n",
    "            print(\"Opcion fuera de rango...\")\n",
    "            \n",
    "        lista_conversiones.append((pies,unidad,resultado))\n",
    "            \n",
    "        salir = input(\"Desea salir (s/n)\")\n",
    "        if salir.lower() == 's':\n",
    "            break\n",
    "        elif salir.lower() == 'n':\n",
    "            pass\n",
    "        else:\n",
    "            print(\"Error dato invalido\")\n",
    "                \n",
    "    if not lista_conversiones:\n",
    "        print(\"La lista esta vacia\") \n",
    "    else:\n",
    "        print(\"-\"*50)\n",
    "        print(\"RESUMEN  FINAL DE LAS CONVERSIONES\")\n",
    "        print(\"-\"*50)\n",
    "        print(\"N° \", \"Pies\"  ,   \"Convertir a : \", \"Convertido \")\n",
    "        for i, (x,y,z) in enumerate(lista_conversiones, start= 1):\n",
    "            print(f\"{i:<2} {x:>5}  {y:>7} {z:>14}\")\n",
    "        print(\"-\"*50)\n",
    "main()\n",
    "        \n",
    "        "
   ]
  },
  {
   "cell_type": "markdown",
   "id": "8bbd5b20",
   "metadata": {},
   "source": [
    "ejercicio 7"
   ]
  },
  {
   "cell_type": "code",
   "execution_count": 12,
   "id": "f50b0a95",
   "metadata": {},
   "outputs": [
    {
     "name": "stdout",
     "output_type": "stream",
     "text": [
      "N°   DNI     N°SUMNISTRO\n",
      "1  62540531  123456\n",
      "2  78653421  123456\n"
     ]
    }
   ],
   "source": [
    "def main():\n",
    "    lista_registro = []\n",
    "    while True:\n",
    "        while True:\n",
    "            try:\n",
    "                dni = input(\"Ingrese su dni: \")\n",
    "                if len(dni) == 8 and dni.isdigit():\n",
    "                    dni = int(dni)\n",
    "                    break\n",
    "                else:\n",
    "                    print(\"El dni es incorrecto intente de nuevo\")\n",
    "            except ValueError:\n",
    "                print(\"Error en los datos de ingreso....\")\n",
    "        \n",
    "        while True:\n",
    "            try:\n",
    "                suministro = input(\"Ingrese el numero de suministro eléctrico ( 6 caracteres ): \")\n",
    "                if len(suministro) == 6 and suministro.isdigit():\n",
    "                    break\n",
    "                else:\n",
    "                    print(\"datos de suministro incorrectos...\")\n",
    "            except ValueError:\n",
    "                print(\"Error en los datos de ingreso ....\")\n",
    "        lista_registro.append((dni,suministro))\n",
    "        \n",
    "        salir = input(\"Desea salir (S / N): \")\n",
    "        if salir in [\"S\", \"s\"]:\n",
    "            break\n",
    "        elif salir in [\"N\", \"n\"]:\n",
    "            continue\n",
    "        else:\n",
    "            print(\"Dato no valido , ingrese de nuevo...\")\n",
    "    print(\"N°\" \"   DNI\"  \"     N°SUMNISTRO\")\n",
    "    for i, (dni, sumnistro) in enumerate(lista_registro, start = 1):\n",
    "        print(f\"{i}  {dni}  {sumnistro}\")\n",
    "        \n",
    "    \n",
    "main()"
   ]
  },
  {
   "cell_type": "markdown",
   "id": "4a3c6041",
   "metadata": {},
   "source": [
    "ejercicio 8\n"
   ]
  },
  {
   "cell_type": "code",
   "execution_count": null,
   "id": "49d5b55a",
   "metadata": {},
   "outputs": [],
   "source": [
    "lista_vocales = ['a', 'e', 'i', 'o', 'u', 'A', 'E', 'I', 'O', 'U']\n",
    "print(\"Usted debe ingresar 5 vocales\")\n",
    "print(\"-\"*30)\n",
    "for i in range(5):\n",
    "    while True:\n",
    "        try:\n",
    "            vocales = input(\"Ingrese una vocal: \")\n",
    "            if vocales.isalpha():\n",
    "                break\n",
    "            else:\n",
    "                print(\"El ingreso no fue correcto\")\n",
    "                \n",
    "        except ValueError:\n",
    "            print(\"Error en los datos de ingreso\")\n",
    "        \n",
    "    if vocales in lista_vocales:\n",
    "        print(f\"El ingreso {i+1} fue la letra {vocales}\")\n",
    "    else:\n",
    "        print(f\"El ingreso {i+1} no fue correcto\")"
   ]
  },
  {
   "cell_type": "markdown",
   "id": "379fa9d5",
   "metadata": {},
   "source": [
    "EJERCICIO 9 "
   ]
  },
  {
   "cell_type": "code",
   "execution_count": 6,
   "id": "77a1d899",
   "metadata": {},
   "outputs": [
    {
     "name": "stdout",
     "output_type": "stream",
     "text": [
      "----------------------------------------\n",
      "Lista General de elementos: \n",
      "----------------------------------------\n",
      "[97, 96, 70, 48, 44, 97, 96, 75, 22, 76]\n",
      "----------------------------------------\n",
      "Lista de frecuencias: \n",
      "----------------------------------------\n",
      "[ 97 : 2 ] [ 96 : 2 ] [ 70 : 1 ] [ 48 : 1 ] [ 44 : 1 ] [ 97 : 2 ] [ 96 : 2 ] [ 75 : 1 ] [ 22 : 1 ] [ 76 : 1 ] "
     ]
    }
   ],
   "source": [
    "from random import randint \n",
    "lista = []\n",
    "for i in range(10):\n",
    "    lista.append(randint(1,100))\n",
    "print(\"-\"*40)\n",
    "print(\"Lista General de elementos: \")\n",
    "print(\"-\"*40)\n",
    "print(lista)\n",
    "\n",
    "# lista de frecuencias \n",
    "print(\"-\"*40)\n",
    "print(\"Lista de frecuencias: \")\n",
    "print(\"-\"*40)\n",
    "for i in lista:\n",
    "    veces_repetidas = lista.count(i)\n",
    "    print(\"[\", i, \":\", veces_repetidas ,\"]\", end=\" \")"
   ]
  }
 ],
 "metadata": {
  "kernelspec": {
   "display_name": "Python 3",
   "language": "python",
   "name": "python3"
  },
  "language_info": {
   "codemirror_mode": {
    "name": "ipython",
    "version": 3
   },
   "file_extension": ".py",
   "mimetype": "text/x-python",
   "name": "python",
   "nbconvert_exporter": "python",
   "pygments_lexer": "ipython3",
   "version": "3.12.8"
  }
 },
 "nbformat": 4,
 "nbformat_minor": 5
}
