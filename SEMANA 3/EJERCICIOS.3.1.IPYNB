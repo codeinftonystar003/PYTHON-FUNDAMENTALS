{
 "cells": [
  {
   "cell_type": "markdown",
   "id": "4e315547",
   "metadata": {},
   "source": [
    "Ejecicio 1\n"
   ]
  },
  {
   "cell_type": "code",
   "execution_count": 2,
   "id": "63d37106",
   "metadata": {},
   "outputs": [
    {
     "name": "stdout",
     "output_type": "stream",
     "text": [
      "[1, 2, 3, 4, 5, 6, 7, 8, 9, 10]\n",
      "[10, 9, 8, 7, 6, 5, 4, 3, 2, 1]\n"
     ]
    }
   ],
   "source": [
    "lista = []\n",
    "for i in range(10):\n",
    "    lista.append(i+1)\n",
    "print(lista)\n",
    "# lista inversa\n",
    "print(lista[::-1])"
   ]
  },
  {
   "cell_type": "markdown",
   "id": "d83b86ff",
   "metadata": {},
   "source": [
    "ejercicio 2 "
   ]
  },
  {
   "cell_type": "code",
   "execution_count": 4,
   "id": "db5aeb9f",
   "metadata": {},
   "outputs": [
    {
     "name": "stdout",
     "output_type": "stream",
     "text": [
      "[4, 5, 76, 3, 4, 6, 7, 8, 45, 65, 9]\n",
      "El total de elementos es : 11\n",
      "El ultimo elemento de la lista es : 9\n",
      "La lista en orden inverso es : \n",
      "[9, 65, 45, 8, 7, 6, 4, 3, 76, 5, 4]\n"
     ]
    }
   ],
   "source": [
    "lista1 = []\n",
    "while True:\n",
    "    try:\n",
    "        numero = int(input(\"Ingrese un numero para su lista : \"))\n",
    "        if numero >0:\n",
    "            lista1.append(numero)\n",
    "        else:\n",
    "            break\n",
    "    except ValueError:\n",
    "        print(\"No es un numero entero\")\n",
    "# total de elementos\n",
    "print(lista1)\n",
    "print(f\"El total de elementos es : {len(lista1)}\")\n",
    "print(f\"El ultimo elemento de la lista es : {lista1[-1]}\")\n",
    "print(\"La lista en orden inverso es : \")\n",
    "print(lista1[::-1])"
   ]
  },
  {
   "cell_type": "markdown",
   "id": "4d344fe1",
   "metadata": {},
   "source": [
    "ejercicio 3\n"
   ]
  },
  {
   "cell_type": "code",
   "execution_count": 6,
   "id": "2f7ca199",
   "metadata": {},
   "outputs": [
    {
     "name": "stdout",
     "output_type": "stream",
     "text": [
      "[28, 57, 30, 6, 45, 20, 98, 76, 94, 90]\n",
      "[56, 114, 60, 12, 90, 40, 196, 152, 188, 180]\n"
     ]
    }
   ],
   "source": [
    "from random import randint\n",
    "lista2 = []\n",
    "for i in range(10):\n",
    "    lista2.append(randint(1,100))\n",
    "print(lista2)\n",
    "\n",
    "lista2_doble = []\n",
    "# Reemplazar por el doble a la lista\n",
    "for i in lista2:\n",
    "    lista2_doble.append(i*2)\n",
    "print(lista2_doble)"
   ]
  },
  {
   "cell_type": "markdown",
   "id": "711ef54f",
   "metadata": {},
   "source": [
    "ejercicio 4"
   ]
  },
  {
   "cell_type": "code",
   "execution_count": 7,
   "id": "efb4546f",
   "metadata": {},
   "outputs": [
    {
     "name": "stdout",
     "output_type": "stream",
     "text": [
      "[16, 62, 28, 61, 38, 95, 90, 20, 94, 20, 66, 34, 1, 66, 77, 53, 59, 58, 59, 9]\n",
      "Promedio de la lista :  50.3\n",
      "Cantidad de pares : 12\n",
      "Cantidad de impares : 8\n"
     ]
    }
   ],
   "source": [
    "from random import randint\n",
    "lista3 = []\n",
    "pares = 0\n",
    "impares = 0\n",
    "for i in range(20):\n",
    "    lista3.append(randint(1,100))\n",
    "print(lista3)\n",
    "print(\"Promedio de la lista : \", sum(lista3)/len(lista3))\n",
    "\n",
    "for i in lista3:\n",
    "    if i%2 == 0:\n",
    "        pares += 1\n",
    "    else:\n",
    "        impares += 1\n",
    "print(f\"Cantidad de pares : {pares}\")\n",
    "print(f\"Cantidad de impares : {impares}\")"
   ]
  },
  {
   "cell_type": "markdown",
   "id": "9dfe0c8b",
   "metadata": {},
   "source": [
    "ejercicio 5"
   ]
  },
  {
   "cell_type": "code",
   "execution_count": 36,
   "id": "3019e68a",
   "metadata": {},
   "outputs": [
    {
     "name": "stdout",
     "output_type": "stream",
     "text": [
      "\n",
      "N°  Datos      Horas  Minutos  Segundos\n",
      "1   2343        0      39       3\n",
      "2   23453       6      30       53\n",
      "3   34523       9      35       23\n"
     ]
    }
   ],
   "source": [
    "def HallarTiempo(lista_segundos):\n",
    "    lista1 = []\n",
    "    # Convertir cada tiempo en segundos a horas, minutos y segundos\n",
    "    for segundos in lista_segundos:\n",
    "        horas = segundos // 3600\n",
    "        minutos = (segundos % 3600) // 60\n",
    "        segundo = segundos % 60\n",
    "        lista1.append((segundos, horas, minutos, segundo))\n",
    "\n",
    "    print(\"\\nN°  Datos      Horas  Minutos  Segundos\")\n",
    "    for i, (x, y, z, f) in enumerate(lista1, start=1):\n",
    "        print(f\"{i:<3} {x:<11} {y:<6} {z:<8} {f}\")\n",
    "    \n",
    "\n",
    "def main():\n",
    "    lista_segundos = []\n",
    "    while True:\n",
    "        try:\n",
    "            segundos = int(input(\"Ingrese el tiempo en segundos: \"))\n",
    "            if segundos > 0:\n",
    "                lista_segundos.append(segundos)\n",
    "            else:\n",
    "                print(\"El tiempo debe ser mayor a 0\")\n",
    "        except ValueError:\n",
    "            print(\"No es un número entero\")\n",
    "            continue\n",
    "\n",
    "        salir = input(\"¿Desea registrar más datos? (s/n): \").strip().lower()\n",
    "        if salir == 'n':\n",
    "            break\n",
    "        elif salir != 's':\n",
    "            print(\"Opción no válida. Se asumirá que desea continuar.\")\n",
    "    \n",
    "    HallarTiempo(lista_segundos)\n",
    "\n",
    "main()\n"
   ]
  },
  {
   "cell_type": "markdown",
   "id": "1655ee79",
   "metadata": {},
   "source": [
    "ejercicio 6"
   ]
  },
  {
   "cell_type": "code",
   "execution_count": 2,
   "id": "77d028aa",
   "metadata": {},
   "outputs": [
    {
     "name": "stdout",
     "output_type": "stream",
     "text": [
      "[1] Pulgadas\n",
      "[2] Yardas\n",
      "[3] Millas\n",
      "[4] Milímetros\n",
      "[5] Centímetros\n",
      "[6] Metros\n",
      "[7] Resumen\n",
      "[8] Salir\n",
      "Saliendo del programa.\n"
     ]
    }
   ],
   "source": [
    "def Menu():\n",
    "    print(\"[1] Pulgadas\")\n",
    "    print(\"[2] Yardas\")\n",
    "    print(\"[3] Millas\")\n",
    "    print(\"[4] Milímetros\")\n",
    "    print(\"[5] Centímetros\")\n",
    "    print(\"[6] Metros\")\n",
    "    print(\"[7] Resumen\")\n",
    "    print(\"[8] Salir\")\n",
    "def main():\n",
    "    lista4 = []\n",
    "    Menu()\n",
    "    while True:\n",
    "        while True:\n",
    "            try:\n",
    "                opcion = int(input(\"Ingrese una opción: \"))\n",
    "                if 1<= opcion <= 8:\n",
    "                    break\n",
    "                else:\n",
    "                    print(\"Opción no válida. Intente nuevamente.\")\n",
    "            except ValueError:\n",
    "                print(\"Error en datos de ingreso\")\n",
    "        if opcion == 8:\n",
    "            print(\"Saliendo del programa.\")\n",
    "            break\n",
    "        if opcion == 7:\n",
    "            print(\"Resumen de conversiones:\")\n",
    "            print(\"N° \" , \"Pies\",  \"Covertir a : \", \" Resultado\")\n",
    "            for i, (x, y, Z) in enumerate(lista4, start=1):\n",
    "                print(f\"{i:<3} {x:<3} {y:<5} {round(Z):<11}\")\n",
    "            continue\n",
    "        \n",
    "        \n",
    "        while True:\n",
    "            try:\n",
    "                pies = float(input(\"Ingrese la cantidad de pies: \"))\n",
    "                if pies >0:\n",
    "                    break\n",
    "                else:\n",
    "                    print(\"La cantidad debe ser mayor a 0\")\n",
    "            except ValueError:\n",
    "                print(\"Error en datos de ingreso\")\n",
    "        \n",
    "        if opcion == 1:\n",
    "            resultado = pies * 12\n",
    "            unidad = \"pulgadas\"\n",
    "        elif opcion == 2:\n",
    "            resultado = pies *0.33\n",
    "            unidad = \"yardas\"\n",
    "        elif opcion == 3:\n",
    "            resultado = pies *0.0002\n",
    "            unidad = \"millas\"\n",
    "        elif opcion == 4:\n",
    "            resultado = pies *304.8\n",
    "            unidad = \"milimetros\"\n",
    "        elif opcion == 5:\n",
    "            resultado = pies *30.48\n",
    "            unidad = \"centimetros\"\n",
    "        elif opcion == 6:\n",
    "            resultado = pies *0.3048\n",
    "            unidad = \"metros\"\n",
    "        else:\n",
    "            print(\"Opcion no valida\")\n",
    "        \n",
    "        lista4.append((pies, unidad, resultado))\n",
    "        \n",
    "        while True:\n",
    "            salir = input(\"¿Desea registrar más datos? (s/n): \").lower()\n",
    "            if salir == 'n':\n",
    "                print(\"\\nResumen de conversiones:\")\n",
    "                print(f\"{'N°':<4}{'Pies':>10}{'Convertir a:':>20}{'Resultado':>20}\")\n",
    "                print(\"-\" * 54)\n",
    "                for i, (x, y, z) in enumerate(lista4, start=1):\n",
    "                    print(f\"{i:<4}{x:>10,.2f}{y:>20}{z:>20,.4f}\")\n",
    "                return  # Salir del programa\n",
    "            elif salir == 's':\n",
    "                break\n",
    "            else:\n",
    "                print(\"Opción no válida. Ingrese 's' o 'n'.\")\n",
    "\n",
    "    \n",
    "main()\n",
    "        "
   ]
  },
  {
   "cell_type": "markdown",
   "id": "376131a8",
   "metadata": {},
   "source": [
    "Escriba un programa que pida al usuario que introduzca una lista de enteros\n",
    "positivos. Se termina de ingresar los números cuando se ingrese un cero o un\n",
    "entero negativo, luego haga lo siguiente:\n",
    "\n",
    "• Imprima la cantidad total de números de la lista.\n",
    "\n",
    "• Imprima el último elemento de la lista.\n",
    "\n",
    "• Imprima la lista en orden inverso.\n",
    "\n",
    "• Imprima \"Sí\" si la lista contiene un 5 y no de lo contrario.\n",
    "\n",
    "• Indíquese el número de cincos en la lista.\n",
    "\n",
    "Elimine los primeros y últimos elementos de la lista, ordene los elementos\n",
    "restantes e imprima el resultado"
   ]
  },
  {
   "cell_type": "code",
   "execution_count": 2,
   "id": "535c270e",
   "metadata": {},
   "outputs": [
    {
     "name": "stdout",
     "output_type": "stream",
     "text": [
      "Error en los datos de ingreso\n",
      "Error en los datos de ingreso\n",
      "Lista de numeros ingresados:  \n",
      "[1231, 13, 1, 21, 23, 123]\n",
      "El total de numeros ingresado es : 6 \n",
      "El ultimo elemento de la lista es : 123\n",
      "Lista en orden inverso: \n",
      "[123, 23, 21, 1, 13, 1231]\n",
      "NO\n",
      "El numero 5 se repite 0 veces en la lista\n",
      "Lista despues de eliminar los primeros y ultimos elementos: \n",
      "[13, 21]\n"
     ]
    }
   ],
   "source": [
    "lista = []\n",
    "contador = 0\n",
    "while True: \n",
    "    try:\n",
    "        numero = int(input(\"Ingrese un numero para su lista : \"))\n",
    "        if numero > 0:\n",
    "            lista.append(numero)\n",
    "        else:\n",
    "            break\n",
    "    except ValueError:\n",
    "        print(\"Error en los datos de ingreso\")\n",
    "\n",
    "print(\"Lista de numeros ingresados:  \")\n",
    "print(lista)\n",
    "# total de numeros de la lista\n",
    "print(f\"El total de numeros ingresado es : {len(lista)} \")\n",
    "# ultimo elemento de la lista\n",
    "print(f\"El ultimo elemento de la lista es : {lista[-1]}\")\n",
    "# lista en orden inverso \n",
    "print(\"Lista en orden inverso: \")\n",
    "print(lista[::-1])\n",
    "\n",
    "if 5 in lista:\n",
    "    print(\"SI\")\n",
    "else:\n",
    "    print(\"NO\")\n",
    "    \n",
    "for valor in lista:\n",
    "    if valor == 5: \n",
    "        contador += 1\n",
    "\n",
    "print(f\"El numero 5 se repite {contador} veces en la lista\")\n",
    "\n",
    "# Eliminar los primero y ultimos elementos de la lista\n",
    "\n",
    "lista.pop(0)\n",
    "lista.pop(1)\n",
    "lista.pop(-2)\n",
    "lista.pop(-1)\n",
    "print(\"Lista despues de eliminar los primeros y ultimos elementos: \")\n",
    "print(sorted(lista))"
   ]
  },
  {
   "cell_type": "code",
   "execution_count": null,
   "id": "db7c6033",
   "metadata": {},
   "outputs": [],
   "source": [
    "\n"
   ]
  }
 ],
 "metadata": {
  "kernelspec": {
   "display_name": "Python 3",
   "language": "python",
   "name": "python3"
  },
  "language_info": {
   "codemirror_mode": {
    "name": "ipython",
    "version": 3
   },
   "file_extension": ".py",
   "mimetype": "text/x-python",
   "name": "python",
   "nbconvert_exporter": "python",
   "pygments_lexer": "ipython3",
   "version": "3.12.8"
  }
 },
 "nbformat": 4,
 "nbformat_minor": 5
}
