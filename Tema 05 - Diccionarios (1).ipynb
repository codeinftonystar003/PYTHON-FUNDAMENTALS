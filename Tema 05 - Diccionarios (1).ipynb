{
 "cells": [
  {
   "attachments": {},
   "cell_type": "markdown",
   "id": "e868d1be-20f5-4244-a3ac-68b043fb8417",
   "metadata": {},
   "source": [
    "## ***Diccionarios***\n",
    "- Los diccionarios son la colección de datos más poderosa de Python\n",
    "- Un diccionario es una colección que está ordenada, es cambiable y no permite llaves duplicadas.\n",
    "- Los diccionarios se utilizan para almacenar valores de datos en pares ***clave:valor***.\n",
    "- A partir de la versión 3.7 de Python, los diccionarios están ordenados.\n",
    "- Que los diccionarios están ordenados, significa que los elementos tienen un orden definido, y ese orden no cambiará.\n",
    "- En Python 3.6 y versiones anteriores, los diccionarios no están ordenados.\n",
    "- Los diccionarios se escriben usando llaves {}, y tienen claves y valores.\n",
    "- Los diccionarios nos permiten realizar operaciones rápidas\n",
    "- Las claves pueden ser cualquier tipo de datos inmutable: strings, enteros, flotantes, tuplas"
   ]
  },
  {
   "cell_type": "code",
   "execution_count": 3,
   "id": "0198543e-bf45-408d-a102-387083deb145",
   "metadata": {
    "tags": []
   },
   "outputs": [
    {
     "name": "stdout",
     "output_type": "stream",
     "text": [
      "Ford Mustang 1964\n"
     ]
    }
   ],
   "source": [
    "# Definiendo un diccionario\n",
    "auto = {\"marca\": \"Ford\", \"modelo\": \"Mustang\", \"año\": 1964}\n",
    "print(auto)\n"
   ]
  },
  {
   "cell_type": "markdown",
   "id": "79ad100a-7eb9-4241-9dcf-d035fc7be2bb",
   "metadata": {},
   "source": [
    "Los elementos del diccionario se presentan en pares ***clave:valor*** y se puede hacer referencia a ellos mediante el nombre de la clave.\n",
    "|marca|modelo|año|\n",
    "|:-----:|-----:|:-----:|\n",
    "|Ford|Mustang|1964|"
   ]
  },
  {
   "cell_type": "code",
   "execution_count": 5,
   "id": "ebbb5908-8d7b-4dda-9608-425773bcbf96",
   "metadata": {
    "tags": []
   },
   "outputs": [
    {
     "name": "stdout",
     "output_type": "stream",
     "text": [
      "Ford\n",
      "1964\n"
     ]
    }
   ],
   "source": [
    "# Accesando un valor por su clave\n",
    "auto = {\"marca\": \"Ford\", \"modelo\": \"Mustang\", \"año\": 1964}\n",
    "print(auto[\"marca\"])\n",
    "print(auto[\"año\"])\n"
   ]
  },
  {
   "cell_type": "code",
   "execution_count": 7,
   "id": "80f65615-12f8-483a-a89a-3ce740cdacb8",
   "metadata": {
    "tags": []
   },
   "outputs": [
    {
     "name": "stdout",
     "output_type": "stream",
     "text": [
      "3\n",
      "1964\n"
     ]
    }
   ],
   "source": [
    "# Longitud de un diccionario\n",
    "auto = {\"marca\": \"Ford\", \"modelo\": \"Mustang\", \"año\": 1964}\n",
    "print(len(auto))\n"
   ]
  },
  {
   "cell_type": "markdown",
   "id": "e64c92fe-c547-48bd-bb6b-3e959afc185e",
   "metadata": {},
   "source": [
    "### ***Elementos de diccionario - Tipos de datos***\n",
    "Los valores de los elementos del diccionario pueden ser de cualquier tipo de datos"
   ]
  },
  {
   "cell_type": "code",
   "execution_count": 10,
   "id": "22b64f97-b723-4900-a8f6-3b401ec32e22",
   "metadata": {
    "tags": []
   },
   "outputs": [
    {
     "name": "stdout",
     "output_type": "stream",
     "text": [
      "['negro', 'azul', 'rojo']\n"
     ]
    }
   ],
   "source": [
    "auto = {\n",
    "    \"marca\": \"Ford\",\n",
    "    \"modelo\": \"Mustang\",\n",
    "    \"año\": 1964,\n",
    "    \"colores\": [\"rojo\", \"azul\", \"negro\"],\n",
    "}\n",
    "print(auto[\"colores\"][::-1])\n"
   ]
  },
  {
   "cell_type": "code",
   "execution_count": 12,
   "id": "95792de8-3358-4d93-9277-3fcca975909d",
   "metadata": {
    "tags": []
   },
   "outputs": [
    {
     "name": "stdout",
     "output_type": "stream",
     "text": [
      "{'marca': 'Ford', 'modelo': 'Mustang', 'año': 1964, 'colores': ['rojo', 'azul', 'negro'], 'cilindrada': 3000}\n",
      "{'marca': 'Ford', 'modelo': 'Mustang', 'año': 1964, 'colores': ['rojo', 'azul', 'negro'], 'cilindrada': 2000, 'Caballos': 800}\n",
      "{'marca': 'Ford', 'modelo': 'Mustang', 'año': 1964, 'colores': ['rojo', 'azul perlado', 'negro'], 'cilindrada': 2000, 'Caballos': 800}\n"
     ]
    }
   ],
   "source": [
    "# Adiciones a un diccionario\n",
    "auto = {\n",
    "    \"marca\": \"Ford\",\n",
    "    \"modelo\": \"Mustang\",\n",
    "    \"año\": 1964,\n",
    "    \"colores\": [\"rojo\", \"azul\", \"negro\"]\n",
    "}\n",
    "auto[\"cilindrada\"] = 3000\n",
    "print(auto)\n",
    "auto[\"cilindrada\"] = 2000\n",
    "auto[\"colores\"][1] = \"azul perlado\"\n",
    "print(auto)\n"
   ]
  },
  {
   "cell_type": "markdown",
   "id": "ad08362d-cd83-4f05-85d8-57157c30c14f",
   "metadata": {},
   "source": [
    "### ***Obteniendo valores y llaves de los diccionarios***"
   ]
  },
  {
   "cell_type": "markdown",
   "id": "a8ddbe9e-9068-4828-a30a-418800ba7471",
   "metadata": {},
   "source": [
    "#### ***El método $values()$***"
   ]
  },
  {
   "cell_type": "code",
   "execution_count": 15,
   "id": "0cfa7f84-b3cd-413f-8323-58528cb03fc9",
   "metadata": {
    "tags": []
   },
   "outputs": [
    {
     "name": "stdout",
     "output_type": "stream",
     "text": [
      "dict_values(['Ford', 'Mustang', 1964, ['rojo', 'azul', 'negro']])\n",
      "['Ford', 'Mustang', 1964, ['rojo', 'azul', 'negro']]\n"
     ]
    }
   ],
   "source": [
    "# Obteniendo los valores de un diccionario\n",
    "auto = {\n",
    "    \"marca\": \"Ford\",\n",
    "    \"modelo\": \"Mustang\",\n",
    "    \"año\": 1964,\n",
    "    \"colores\": [\"rojo\", \"azul\", \"negro\"]\n",
    "}\n",
    "val_auto = auto.values()\n",
    "print(val_auto)\n",
    "\n",
    "lista1 = list(auto.values())\n",
    "print(lista1)\n"
   ]
  },
  {
   "cell_type": "markdown",
   "id": "c5648884-6899-4e14-8da1-f51cc73e5591",
   "metadata": {},
   "source": [
    "#### ***El método $keys()$***"
   ]
  },
  {
   "cell_type": "code",
   "execution_count": 19,
   "id": "7b5691c0-ec57-46f5-93a9-157eae169ede",
   "metadata": {},
   "outputs": [
    {
     "name": "stdout",
     "output_type": "stream",
     "text": [
      "['marca', 'modelo', 'año', 'colores']\n"
     ]
    }
   ],
   "source": [
    "# Obteniendo las llaves de un diccionario\n",
    "auto = {\n",
    "    \"marca\": \"Ford\",\n",
    "    \"modelo\": \"Mustang\",\n",
    "    \"año\": 1964,\n",
    "    \"colores\": [\"rojo\", \"azul\", \"negro\"],\n",
    "}\n",
    "lista2 = list(auto.keys())\n",
    "print(lista2)\n"
   ]
  },
  {
   "cell_type": "markdown",
   "id": "4405dc01-b6fe-4040-a5af-26262f25739b",
   "metadata": {},
   "source": [
    "#### ***El método $items()$***"
   ]
  },
  {
   "cell_type": "code",
   "execution_count": 1,
   "id": "941f7ae1-7494-4aca-9719-3bfb84300d5e",
   "metadata": {
    "tags": []
   },
   "outputs": [
    {
     "name": "stdout",
     "output_type": "stream",
     "text": [
      "[('marca', 'Ford'), ('modelo', 'Mustang'), ('año', 1964), ('colores', ['rojo', 'azul', 'negro'])]\n"
     ]
    }
   ],
   "source": [
    "# Obteniendo los llaves y valores de un diccionario\n",
    "auto = {\n",
    "    \"marca\": \"Ford\",\n",
    "    \"modelo\": \"Mustang\",\n",
    "    \"año\": 1964,\n",
    "    \"colores\": [\"rojo\", \"azul\", \"negro\"],\n",
    "}\n",
    "lista1 = list(auto.items())\n",
    "print(lista1)\n"
   ]
  },
  {
   "cell_type": "markdown",
   "id": "f13ac9a6-a7ee-4faa-8e71-7a971eefbe01",
   "metadata": {},
   "source": [
    "#### ***Recorriendo diccionarios***\n",
    "Se pueden por tanto recorrer tanto las llaves como los valores de un diccionario\n",
    "$in$, $keys()$, $values()$, $items()$"
   ]
  },
  {
   "cell_type": "code",
   "execution_count": 24,
   "id": "fc12c59f-9d6f-4ea2-a59d-3c7ecc9a75b6",
   "metadata": {
    "tags": []
   },
   "outputs": [
    {
     "name": "stdout",
     "output_type": "stream",
     "text": [
      "marca\n",
      "modelo\n",
      "año\n",
      "colores\n",
      "\n",
      "\n",
      "marca\n",
      "modelo\n",
      "año\n",
      "colores\n",
      "\n",
      "\n",
      "Ford\n",
      "Mustang\n",
      "1964\n",
      "['rojo', 'azul', 'negro']\n",
      "\n",
      "\n",
      "marca Ford\n",
      "modelo Mustang\n",
      "año 1964\n",
      "colores ['rojo', 'azul', 'negro']\n",
      "marcaFord\n",
      "modeloMustang\n",
      "año1964\n",
      "colores['rojo', 'azul', 'negro']\n"
     ]
    }
   ],
   "source": [
    "auto = {\n",
    "    \"marca\": \"Ford\",\n",
    "    \"modelo\": \"Mustang\",\n",
    "    \"año\": 1964,\n",
    "    \"colores\": [\"rojo\", \"azul\", \"negro\"],\n",
    "}\n",
    "for llaves in auto:\n",
    "    print(f\"{llaves}\")\n",
    "\n",
    "print(\"\\n\")\n",
    "for llaves in auto.keys():\n",
    "    print(f\"{llaves}\")\n",
    "\n",
    "print(\"\\n\")\n",
    "for valores in auto.values():\n",
    "    print(f\"{valores}\")\n",
    "\n",
    "print(\"\\n\")\n",
    "for llaves, valores in auto.items():\n",
    "    print(f\"{llaves} {valores}\")\n"
   ]
  },
  {
   "cell_type": "markdown",
   "id": "0edfc774-6c5a-4b0c-b656-a91d1a07680b",
   "metadata": {},
   "source": [
    "#### ***El operador $in$***\n",
    "Nos permite saber si una llave existe en un diccionario"
   ]
  },
  {
   "cell_type": "code",
   "execution_count": 25,
   "id": "2812d295-cc9e-4c75-94e1-8b91af64665f",
   "metadata": {},
   "outputs": [
    {
     "name": "stdout",
     "output_type": "stream",
     "text": [
      "La llave existe\n"
     ]
    }
   ],
   "source": [
    "auto = {\n",
    "    \"marca\": \"Ford\",\n",
    "    \"modelo\": \"Mustang\",\n",
    "    \"año\": 1964,\n",
    "    \"colores\": [\"rojo\", \"azul\", \"negro\"],\n",
    "}\n",
    "if \"año\" in auto:\n",
    "    print(\"La llave existe\")\n",
    "else:\n",
    "    print(\"La llave no existe\")\n"
   ]
  },
  {
   "attachments": {},
   "cell_type": "markdown",
   "id": "dddff2d3-0782-4c62-9d1f-2590d55e776a",
   "metadata": {},
   "source": [
    "#### ***la función $dict()$***\n",
    "Se pueden crear diccionarios usando la función dict()"
   ]
  },
  {
   "cell_type": "code",
   "execution_count": 26,
   "id": "6ad710f6-e2c3-40d4-a1d6-bd1a320dd3b4",
   "metadata": {},
   "outputs": [
    {
     "name": "stdout",
     "output_type": "stream",
     "text": [
      "{'marca': 'Ford', 'modelo': 'Mustang', 'año': 1964, 'colores': ['rojo', 'azul', 'negro']}\n"
     ]
    }
   ],
   "source": [
    "auto = dict(marca=\"Ford\",\n",
    "            modelo=\"Mustang\",\n",
    "            año=1964,\n",
    "            colores=[\"rojo\", \"azul\", \"negro\"])\n",
    "print(auto)\n"
   ]
  },
  {
   "cell_type": "code",
   "execution_count": null,
   "id": "f7729173-2576-49b2-9966-f31399405d7a",
   "metadata": {},
   "outputs": [],
   "source": [
    "# dict() permite la creación de diccionarios vacíos\n",
    "cuentas = dict()\n",
    "print(cuentas)\n"
   ]
  },
  {
   "attachments": {},
   "cell_type": "markdown",
   "id": "a18df3d3-1ec8-4674-a04d-e24ed8a50990",
   "metadata": {},
   "source": [
    "#### ***El método $get()$***\n",
    "Devuelve el valor para una clave específica, permitiendo especificar un valor alternativo si la llave no existe."
   ]
  },
  {
   "cell_type": "code",
   "execution_count": 30,
   "id": "2af5541e-4ca2-4110-a637-95a871b2b2c7",
   "metadata": {},
   "outputs": [
    {
     "name": "stdout",
     "output_type": "stream",
     "text": [
      "Llave Alicia no existe\n"
     ]
    }
   ],
   "source": [
    "agenda ={\n",
    "    \"Alicia\": 2222,\n",
    "    \"Roberto\": 1111,\n",
    "    \"Lucia\": 3333,\n",
    "    \"Andres\": 5555\n",
    "}\n",
    "llave = \"Alicia\"\n",
    "if llave in agenda:\n",
    "    print(agenda[llave])\n",
    "else:\n",
    "    print(f\"Llave {llave} no existe\")"
   ]
  },
  {
   "cell_type": "code",
   "execution_count": 40,
   "id": "0645914e-b78f-4c63-847b-75028c50994d",
   "metadata": {},
   "outputs": [
    {
     "name": "stdout",
     "output_type": "stream",
     "text": [
      "El valor de la llave Torres es: Llave no existe\n",
      "el valor de la ANTONY es : 202421102\n"
     ]
    }
   ],
   "source": [
    "agenda = {\n",
    "    \"Alicia\": 2222,\n",
    "    \"Roberto\": 1111,\n",
    "    \"Lucia\": 3333,\n",
    "    \"Andres\": 5555,\n",
    "    \"ANTONY\" : 202421102\n",
    "}\n",
    "\n",
    "llave = \"Torres\"\n",
    "print(f\"El valor de la llave {llave} es: {agenda.get(llave, 'Llave no existe')}\")\n",
    "llave2 = \"ANTONY\"\n",
    "print(f\"el valor de la {llave2} es : {agenda.get(llave2,'llave no existe')}\")\n"
   ]
  },
  {
   "cell_type": "code",
   "execution_count": 44,
   "id": "93c7235f-79ce-478a-8235-833070367b68",
   "metadata": {},
   "outputs": [
    {
     "name": "stdout",
     "output_type": "stream",
     "text": [
      "{'csev': 2, 'cwen': 2, 'zqian': 1}\n",
      "{'csev': 4, 'cwen': 4, 'zqian': 2}\n"
     ]
    }
   ],
   "source": [
    "# Veamos el siguiente ejemplo, tenemos una lista con nombres\n",
    "# y se quiere crear un diccionario teniendo como llave es esos nombres\n",
    "# y como valor las veces que aparecen. Veamos y analicemos el código\n",
    "recuentos = dict()\n",
    "nombres = ['csev', 'cwen', 'csev', 'zqian', 'cwen']\n",
    "for nombre in nombres:\n",
    "    recuentos[nombre] = recuentos.get(nombre, 0) + 1\n",
    "print(recuentos)\n"
   ]
  },
  {
   "cell_type": "code",
   "execution_count": 47,
   "id": "94fba1b4-2b68-4409-a00c-84fc16a9df18",
   "metadata": {},
   "outputs": [
    {
     "name": "stdout",
     "output_type": "stream",
     "text": [
      "2199894102336\n",
      "2199895288960\n",
      "2199894102336\n",
      "2199894980288\n"
     ]
    }
   ],
   "source": [
    "# Copiando un diccionario\n",
    "# no se puede hacer dicc2 = dicc1\n",
    "# Usando el método copy\n",
    "auto1 = auto.copy()\n",
    "print(id(auto))\n",
    "print(id(auto1))\n",
    "\n",
    "# Usando dict()\n",
    "auto2 = dict(auto)\n",
    "print(id(auto))\n",
    "print(id(auto2))\n"
   ]
  },
  {
   "attachments": {},
   "cell_type": "markdown",
   "id": "0b221652-6516-4fbc-bb6b-05d4f305d722",
   "metadata": {},
   "source": [
    "#### En Python se puede escribir textos largos, de varias líneas, encerrándolos en triples comillas, sean estas simples o dobles. Veamos el siguiente ejemplo:"
   ]
  },
  {
   "cell_type": "code",
   "execution_count": 48,
   "id": "f18ee4bc-d809-4e5b-9105-a6f3e17fcc19",
   "metadata": {},
   "outputs": [
    {
     "name": "stdout",
     "output_type": "stream",
     "text": [
      "\n",
      "el payaso corrió detrás del coche y el coche se metió en la tienda y\n",
      "la tienda cayó sobre el payaso y el coche\n",
      "\n"
     ]
    }
   ],
   "source": [
    "texto = \"\"\"\n",
    "el payaso corrió detrás del coche y el coche se metió en la tienda y\n",
    "la tienda cayó sobre el payaso y el coche\n",
    "\"\"\"\n",
    "print(texto)\n"
   ]
  },
  {
   "attachments": {},
   "cell_type": "markdown",
   "id": "ef0a2f30-9c6c-4e1c-be06-4c6fbba5d596",
   "metadata": {},
   "source": [
    "### Ejercicio\n",
    "#### Usando diccionarios para contar el número de veces que una palabra aparece en un texto\n",
    "#### Usando el ejemplo anterior, se desarrolla un programa para que cuente cuantas veces aparece cada palabra en el texto"
   ]
  },
  {
   "cell_type": "code",
   "execution_count": 49,
   "id": "0e88b4f2-c56d-4a7e-a698-d7019373e2b7",
   "metadata": {},
   "outputs": [
    {
     "name": "stdout",
     "output_type": "stream",
     "text": [
      "Palabras: ['el', 'payaso', 'corrió', 'detrás', 'del', 'coche', 'y', 'el', 'coche', 'se', 'metió', 'en', 'la', 'tienda', 'y', 'la', 'tienda', 'cayó', 'sobre', 'el', 'payaso', 'y', 'el', 'coche']\n",
      "\n",
      "Contando...\n",
      "Recuento {'el': 4, 'payaso': 2, 'corrió': 1, 'detrás': 1, 'del': 1, 'coche': 3, 'y': 3, 'se': 1, 'metió': 1, 'en': 1, 'la': 2, 'tienda': 2, 'cayó': 1, 'sobre': 1}\n"
     ]
    }
   ],
   "source": [
    "texto = \"\"\"el payaso corrió detrás del coche y el coche se metió en la tienda y\n",
    "la tienda cayó sobre el payaso y el coche\n",
    "\"\"\"\n",
    "recuento = dict()\n",
    "palabras = texto.split()  # la función split() crea una lista con las palabras del texto\n",
    "print(\"Palabras:\", palabras)\n",
    "print(\"\\nContando...\")\n",
    "\n",
    "for palabra in palabras:\n",
    "    recuento[palabra] = recuento.get(palabra, 0) + 1\n",
    "\n",
    "print(\"Recuento\", recuento)\n"
   ]
  },
  {
   "cell_type": "code",
   "execution_count": null,
   "id": "1233c5de",
   "metadata": {},
   "outputs": [],
   "source": [
    "texto2 = \"\"\"el payaso corrió detrás del coche y el coche se metió en la tienda y\n",
    "la tienda cayó sobre el payaso y el coche\n",
    "\"\"\"\n",
    "recuento1= dict()\n",
    "texto2= texto2.split()\n",
    "for palabra in texto2: \n",
    "    recuento1[palabra] = recuento1.get(palabra, 0 )+ 1\n",
    "print(recuento1)"
   ]
  },
  {
   "cell_type": "markdown",
   "id": "100fff13-e835-432c-bcf2-926342510b51",
   "metadata": {
    "tags": []
   },
   "source": [
    "### ***Dicionarios dentro de diccionarios***"
   ]
  },
  {
   "cell_type": "code",
   "execution_count": 58,
   "id": "d16976a0-fa81-48ca-aa5c-8e27c736c9e3",
   "metadata": {
    "tags": []
   },
   "outputs": [
    {
     "name": "stdout",
     "output_type": "stream",
     "text": [
      "{'alumno1': {'Fundamentos en programación': 13, 'OOP': 18}, 'alumno2': {'Fundamentos en programación': 15, 'OOP': 15}, 'alumno3': {'Fundamentos en programación': 16, 'OOP': 19}}\n",
      "[('alumno1', {'Fundamentos en programación': 13, 'OOP': 18}), ('alumno2', {'Fundamentos en programación': 15, 'OOP': 15}), ('alumno3', {'Fundamentos en programación': 16, 'OOP': 19})]\n"
     ]
    }
   ],
   "source": [
    "alumnos = {\n",
    "    \"alumno1\": {\"Fundamentos en programación\": 13, \"OOP\": 18},\n",
    "    \"alumno2\": {\"Fundamentos en programación\": 15, \"OOP\": 15},\n",
    "    \"alumno3\": {\"Fundamentos en programación\": 16, \"OOP\": 19},\n",
    "}\n",
    "print(alumnos)\n"
   ]
  },
  {
   "cell_type": "markdown",
   "id": "c8fd7f0b-bd65-4df0-b38e-5d0411efe6e0",
   "metadata": {},
   "source": [
    "### ***Otras acciones sobre diccionarios***"
   ]
  },
  {
   "cell_type": "code",
   "execution_count": 59,
   "id": "a52e2d4e-2543-4691-b16f-ecefdc106bb1",
   "metadata": {},
   "outputs": [
    {
     "name": "stdout",
     "output_type": "stream",
     "text": [
      "{'alumno1': {'Fundamentos en programación': 13, 'OOP': 18}, 'alumno3': {'Fundamentos en programación': 16, 'OOP': 19}}\n"
     ]
    }
   ],
   "source": [
    "# Eliminando un elemento\n",
    "alumnos.pop(\"alumno2\")\n",
    "print(alumnos)\n"
   ]
  },
  {
   "cell_type": "code",
   "execution_count": 60,
   "id": "e7213b47-166d-4ac4-8108-377b5f8dbbbd",
   "metadata": {},
   "outputs": [
    {
     "name": "stdout",
     "output_type": "stream",
     "text": [
      "{'alumno1': {'Fundamentos en programación': 13, 'OOP': 18}, 'alumno3': {'Fundamentos en programación': 16, 'OOP': 19}, 'alumno4': {'Fundamentos en programación': 14, 'OOP': 17}, 'alumno5': {'Fundamentos en programación': 17, 'OOP': 13.5}}\n",
      "{'alumno1': {'Fundamentos en programación': 13, 'OOP': 18}, 'alumno3': {'Fundamentos en programación': 16, 'OOP': 19}, 'alumno4': {'Fundamentos en programación': 14, 'OOP': 17}, 'alumno5': {'Fundamentos en programación': 17, 'OOP': 13.5}}\n"
     ]
    }
   ],
   "source": [
    "# Juntando Diccionarios\n",
    "reg_auxi = {\n",
    "    \"alumno4\": {\"Fundamentos en programación\": 14, \"OOP\": 17},\n",
    "    \"alumno5\": {\"Fundamentos en programación\": 17, \"OOP\": 13.5}\n",
    "}\n",
    "alumnos.update(reg_auxi)\n",
    "print(alumnos)\n"
   ]
  },
  {
   "cell_type": "code",
   "execution_count": 64,
   "id": "4b6a5e6c-3983-4dbb-b34d-bfab2a627125",
   "metadata": {},
   "outputs": [
    {
     "name": "stdout",
     "output_type": "stream",
     "text": [
      "56\n",
      "18\n",
      "10\n",
      "14.0\n",
      "14.0\n"
     ]
    }
   ],
   "source": [
    "numeros = {\"PC1\": 13, \"PC2\": 15, \"PC3\": 18, \"PC4\": 10}\n",
    "\n",
    "print(sum(numeros.values()))\n",
    "print(max(numeros.values()))\n",
    "print(min(numeros.values()))\n",
    "print(sum(numeros.values()) / len(numeros))"
   ]
  },
  {
   "cell_type": "markdown",
   "id": "f23c6f4b-6f84-4711-a827-0b96fb03eafa",
   "metadata": {
    "id": "ryuPxatoS5Oh"
   },
   "source": [
    "### ***Ejercicio 37***"
   ]
  },
  {
   "cell_type": "markdown",
   "id": "a2c6892e-3eb0-45e3-a0ed-40aeb8015b87",
   "metadata": {},
   "source": [
    "Se muestra el equipo de la selección peruna que inició las acciones así como los cambios que se dieron en un partido de la era Gareca\n",
    "\n",
    "* 1 Pedro Gallese\n",
    "* 22 Alexander Callens\n",
    "* 4 Anderson Santamaría sustituido  por 5 Carlos Zambrano\n",
    "* 6 Marcos López\n",
    "* 17 Luis Advíncula\n",
    "* 10 Christian Cueva sustituido por 8 Sergio Peña\n",
    "* 13 Renato Tapia\n",
    "* 23 Pedro Aquino sustiuido por 24 Alex Valera\n",
    "* 9 Gianluca Lapadula sustituido por 30 Raúl Ruidíaz\n",
    "* 20 Edison Flores sustituido por 16 Christofer Gonzáles\n",
    "* 18 André Carrillo sustituido por 26 Yordy Reyna\n",
    "\n",
    "Se pide:\n",
    "- Crear un diccionario con el equipo que salió como titular\n",
    "- Imprimir, usando adecuadamente f-string. el equipo con el que inició el partido la selección peruana\n",
    "- Sustituir a Anderson Santa Maria por Carlos Zambrano y listar como quedó el equipo\n",
    "- Sustituir a resto de los jugadores que fueron cambiados y listar como quedó el equipo\n",
    "- Mostrar el equipo inicial ordenado por número\n",
    "- Mostrar el equipo final ordenado por Nombre"
   ]
  },
  {
   "cell_type": "code",
   "execution_count": 1,
   "id": "ce64e032-d6b2-4f82-8784-a06452d19948",
   "metadata": {},
   "outputs": [
    {
     "name": "stdout",
     "output_type": "stream",
     "text": [
      "------TITULARES DE LA SELECCION PERUANA------------\n",
      "Pedro Gallese\n",
      "Alexander Callens\n",
      "Anderson Santamaria\n",
      "Marco Lopez\n",
      "Luis Advincula\n",
      "Christian Cueva\n",
      "Renato Tapia\n",
      "Pedro Aquino\n",
      "Gianluca Lapadura\n",
      "Edison Flores\n",
      "Andre Carrillo\n",
      "\n",
      "\n",
      "\n",
      "\n",
      "--------SELECCION PERUANA--------\n",
      "Pedro Gallese\n",
      "Alexander Callens\n",
      "Anderson Santamaria\n",
      "Marco Lopez\n",
      "Luis Advincula\n",
      "Christian Cueva\n",
      "Renato Tapia\n",
      "Pedro Aquino\n",
      "Gianluca Lapadura\n",
      "Edison Flores\n",
      "Andre Carrillo\n",
      "Carlos Zambrano\n",
      "Sergio Pena\n",
      "Alex Valera\n",
      "Raul Ruidiaz\n",
      "Christofer Gonzales\n",
      "Yordy Reyna\n",
      "\n",
      "\n",
      "\n",
      "\n",
      "------Cambio de Suplentes------\n",
      "Pedro Gallese\n",
      "Alexander Callens\n",
      "Carlos Zambrano\n",
      "Marco Lopez\n",
      "Luis Advincula\n",
      "Sergio Pena\n",
      "Renato Tapia\n",
      "Alex Valera\n",
      "Raul Ruidiaz\n",
      "Christofer Gonzales\n",
      "Yordy Reyna\n",
      "\n",
      "\n",
      "\n",
      "\n",
      "------Ordenado por numeros------\n",
      "[(1, 'Pedro Gallese'),\n",
      " (4, 'Carlos Zambrano'),\n",
      " (6, 'Marco Lopez'),\n",
      " (9, 'Raul Ruidiaz'),\n",
      " (10, 'Sergio Pena'),\n",
      " (13, 'Renato Tapia'),\n",
      " (17, 'Luis Advincula'),\n",
      " (18, 'Yordy Reyna'),\n",
      " (20, 'Christofer Gonzales'),\n",
      " (22, 'Alexander Callens'),\n",
      " (23, 'Alex Valera')]\n",
      "\n",
      "\n",
      "\n",
      "\n",
      "------Ordenado por Nombres------\n",
      "['Alex Valera',\n",
      " 'Alexander Callens',\n",
      " 'Carlos Zambrano',\n",
      " 'Christofer Gonzales',\n",
      " 'Luis Advincula',\n",
      " 'Marco Lopez',\n",
      " 'Pedro Gallese',\n",
      " 'Raul Ruidiaz',\n",
      " 'Renato Tapia',\n",
      " 'Sergio Pena',\n",
      " 'Yordy Reyna']\n"
     ]
    }
   ],
   "source": [
    "from pprint import pprint\n",
    "\n",
    "Titular = {\n",
    "    1: \"Pedro Gallese\",\n",
    "    22: \"Alexander Callens\",\n",
    "    4: \"Anderson Santamaria\",\n",
    "    6: \"Marco Lopez\",\n",
    "    17: \"Luis Advincula\",\n",
    "    10: \"Christian Cueva\",\n",
    "    13: \"Renato Tapia\",\n",
    "    23: \"Pedro Aquino\",\n",
    "    9: \"Gianluca Lapadura\",\n",
    "    20: \"Edison Flores\",\n",
    "    18: \"Andre Carrillo\",\n",
    "}\n",
    "\n",
    "\n",
    "suplentes = {\n",
    "    5: \"Carlos Zambrano\",\n",
    "    8: \"Sergio Pena\",\n",
    "    24: \"Alex Valera\",\n",
    "    30: \"Raul Ruidiaz\",\n",
    "    16: \"Christofer Gonzales\",\n",
    "    26: \"Yordy Reyna\"\n",
    "}\n",
    "\n",
    "\n",
    "print(\"------TITULARES DE LA SELECCION PERUANA------------\")\n",
    "for x in Titular.values():\n",
    "    print(f\"{x}\")\n",
    "\n",
    "print(\"\\n\")\n",
    "print(\"\\n\")\n",
    "\n",
    "\n",
    "print(\"--------SELECCION PERUANA--------\")\n",
    "Titular.update(suplentes)\n",
    "for x in Titular.values():\n",
    "    print(f\"{x}\")\n",
    "\n",
    "print(\"\\n\")\n",
    "print(\"\\n\")\n",
    "\n",
    "#ANDERSON SANTAMARIA POR CARLOZ ZAMBRANO\n",
    "Titular[4] = suplentes[5]\n",
    "Titular[10] = suplentes[8]\n",
    "Titular[23] = suplentes[24]\n",
    "Titular[9] = suplentes[30]\n",
    "Titular[20] = suplentes[16]\n",
    "Titular[18] = suplentes[26]\n",
    "Titular.pop(5)\n",
    "Titular.pop(8)\n",
    "Titular.pop(24)\n",
    "Titular.pop(30)\n",
    "Titular.pop(16)\n",
    "Titular.pop(26)\n",
    "\n",
    "print(\"------Cambio de Suplentes------\")\n",
    "for x in Titular.values():\n",
    "    print(f\"{x}\")\n",
    "\n",
    "print(\"\\n\")\n",
    "print(\"\\n\")\n",
    "\n",
    "\n",
    "print(\"------Ordenado por numeros------\")\n",
    "xd = sorted(Titular.items(), reverse=False)\n",
    "pprint(xd)\n",
    "\n",
    "print(\"\\n\")\n",
    "print(\"\\n\")\n",
    "\n",
    "print(\"------Ordenado por Nombres------\")\n",
    "xd = sorted(Titular.values(), reverse=False)\n",
    "pprint(xd)"
   ]
  },
  {
   "cell_type": "markdown",
   "id": "ca9fe56e-7fd8-47d3-93da-f0cb337a7a28",
   "metadata": {},
   "source": [
    "### Otros casos de ordanmiento de diccionarios\n",
    "- Se va a ordenar el diccionario, que tiene la siguiente estructura:\n",
    "- {codigo: [descripción, precio, stock]}\n",
    "- por el precio en forma descendente\n",
    "- Los datos son:\n",
    "  - codigo = 12345, descripción = Prod1, precio= 99, stock = 20\n",
    "  - codigo = 23456, descripción = Prod2, precio= 100, stock = 24\n",
    "  - codigo = 34567, descripción = Prod3, precio= 78, stock = 12\n",
    "  - codigo = 89012, descripción = Prod4, precio= 55, stock = 29"
   ]
  }
 ],
 "metadata": {
  "kernelspec": {
   "display_name": "Python 3",
   "language": "python",
   "name": "python3"
  },
  "language_info": {
   "codemirror_mode": {
    "name": "ipython",
    "version": 3
   },
   "file_extension": ".py",
   "mimetype": "text/x-python",
   "name": "python",
   "nbconvert_exporter": "python",
   "pygments_lexer": "ipython3",
   "version": "3.13.1"
  }
 },
 "nbformat": 4,
 "nbformat_minor": 5
}
