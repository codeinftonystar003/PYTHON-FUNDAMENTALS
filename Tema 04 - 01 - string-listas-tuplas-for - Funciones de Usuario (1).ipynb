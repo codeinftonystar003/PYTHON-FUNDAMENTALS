{
 "cells": [
  {
   "attachments": {},
   "cell_type": "markdown",
   "id": "c2c691bd-f4bc-48d7-b616-49041d0c4fd4",
   "metadata": {},
   "source": [
    "## ***string***\n",
    "- Los strings de Python son uno de los tipos de datos más importantes del lenguaje.\n",
    "- Un string en Python es básicamente una secuencia de varios caracteres individuales.\n",
    "- Los string no pueden ser modificadas\n",
    "- Se pueden escribir entre comillas simple o dobles"
   ]
  },
  {
   "cell_type": "code",
   "execution_count": 1,
   "id": "5fc8e3e6-b58d-493f-bd5c-72e509d58acb",
   "metadata": {},
   "outputs": [
    {
     "name": "stdout",
     "output_type": "stream",
     "text": [
      "Hola hola\n"
     ]
    }
   ],
   "source": [
    "cadena1 =\"Hola\"\n",
    "cadena2 = 'hola'\n",
    "print(cadena1, cadena2)\n"
   ]
  },
  {
   "attachments": {},
   "cell_type": "markdown",
   "id": "b60545fd-db1c-45c6-ba4e-4feb68a9c30c",
   "metadata": {},
   "source": [
    "En Python se puede escribir textos largos, de varias líneas, encerrándolos en triples comillas, sean estas simples o dobles. Veamos el siguiente ejemplo:"
   ]
  },
  {
   "cell_type": "code",
   "execution_count": 2,
   "id": "8dc21e2b-ee59-4735-be47-b8bc4a109169",
   "metadata": {},
   "outputs": [
    {
     "name": "stdout",
     "output_type": "stream",
     "text": [
      "\n",
      "el payaso corrió detrás del coche y el coche se metió en la tienda y la tienda cayó\n",
      "sobre el payaso y el coche\n",
      "\n"
     ]
    }
   ],
   "source": [
    "texto = \"\"\"\n",
    "el payaso corrió detrás del coche y el coche se metió en la tienda y la tienda cayó\n",
    "sobre el payaso y el coche\n",
    "\"\"\"\n",
    "print(texto)\n"
   ]
  },
  {
   "cell_type": "code",
   "execution_count": 3,
   "id": "f5dc7b74-0d13-4ea9-901a-7059615c5ffe",
   "metadata": {
    "colab": {
     "base_uri": "https://localhost:8080/"
    },
    "executionInfo": {
     "elapsed": 248,
     "status": "ok",
     "timestamp": 1649099896078,
     "user": {
      "displayName": "Jose Luis Ojeda",
      "userId": "12240071782040482724"
     },
     "user_tz": 300
    },
    "id": "gW2HX2CAADV6",
    "outputId": "41c8892c-4b5d-4136-d5bb-0c76ad133d70",
    "tags": []
   },
   "outputs": [
    {
     "name": "stdout",
     "output_type": "stream",
     "text": [
      "Hola\n",
      "Mundo\n",
      "Hola Mundo\n",
      "Hola Mundo\n"
     ]
    }
   ],
   "source": [
    "# concatenar dos strings\n",
    "x = \"Hola\"\n",
    "y = \"Mundo\"\n",
    "print(x)\n",
    "print(y)\n",
    "print(x + \" \" + y)\n",
    "z = x + \" \" + y\n",
    "print(z)\n"
   ]
  },
  {
   "cell_type": "code",
   "execution_count": 4,
   "id": "c80b821b-8fc5-4393-b6dc-263f153fc34e",
   "metadata": {
    "colab": {
     "base_uri": "https://localhost:8080/"
    },
    "executionInfo": {
     "elapsed": 294,
     "status": "ok",
     "timestamp": 1649100123877,
     "user": {
      "displayName": "Jose Luis Ojeda",
      "userId": "12240071782040482724"
     },
     "user_tz": 300
    },
    "id": "eNZnX88DDEBN",
    "outputId": "02972d9f-0934-46d2-80d7-cc295a31c973"
   },
   "outputs": [
    {
     "name": "stdout",
     "output_type": "stream",
     "text": [
      "hola hola hola hola \n"
     ]
    }
   ],
   "source": [
    "# repetir strings\n",
    "cadena = \"hola \" * 4\n",
    "print(cadena)\n"
   ]
  },
  {
   "cell_type": "markdown",
   "id": "24682b99-8ea6-4815-8b5b-0da30bc569fa",
   "metadata": {
    "id": "SpjPQaa1HgRX"
   },
   "source": [
    "## ***Indexación y Slicing***"
   ]
  },
  {
   "cell_type": "markdown",
   "id": "8e84e1ab-92c3-4aa5-9d88-009571a686ee",
   "metadata": {
    "id": "Duj1YFj_HsRS"
   },
   "source": [
    "|0|1|2|3|4|5|6|7|8|9|10|11|\n",
    "|:---:|:---:|:---:|:---:|:---:|:---:|:---:|:---:|:---:|:---:|:---:|:---:|\n",
    "|H|o|l|a|,| |m|u|n|d|o|.|\n",
    "|-12|-11|-10|-9|-8|-7|-6|-5|-4|-3|-2|-1|"
   ]
  },
  {
   "cell_type": "markdown",
   "id": "524f04d7-931c-4f97-939d-18d7d551dfe4",
   "metadata": {},
   "source": [
    "Se puede acceder a algún carácter del string a través de sus índices"
   ]
  },
  {
   "cell_type": "code",
   "execution_count": 6,
   "id": "b9a58b80-1da7-4980-a99a-7a3c62b7ae7b",
   "metadata": {
    "colab": {
     "base_uri": "https://localhost:8080/"
    },
    "executionInfo": {
     "elapsed": 264,
     "status": "ok",
     "timestamp": 1649100444006,
     "user": {
      "displayName": "Jose Luis Ojeda",
      "userId": "12240071782040482724"
     },
     "user_tz": 300
    },
    "id": "rvoRrqzMHpc6",
    "outputId": "1d2fead6-4fd3-4f37-9c24-62b8a83961eb"
   },
   "outputs": [
    {
     "name": "stdout",
     "output_type": "stream",
     "text": [
      "l\n"
     ]
    }
   ],
   "source": [
    "#Acceso a un carácter puntual\n",
    "holaMundo = \"Hola, mundo.\"\n",
    "print(holaMundo[-10])\n"
   ]
  },
  {
   "cell_type": "code",
   "execution_count": 7,
   "id": "cc42f636-4b52-4f34-8e2e-39843ff047ed",
   "metadata": {},
   "outputs": [
    {
     "name": "stdout",
     "output_type": "stream",
     "text": [
      "m\n"
     ]
    }
   ],
   "source": [
    "cadena = \"Hola, mundo.\"\n",
    "print(cadena[6])\n"
   ]
  },
  {
   "cell_type": "code",
   "execution_count": 8,
   "id": "221c7f57",
   "metadata": {},
   "outputs": [
    {
     "name": "stdout",
     "output_type": "stream",
     "text": [
      "1\n"
     ]
    }
   ],
   "source": [
    "upc = \"123456\"\n",
    "print(upc[0])"
   ]
  },
  {
   "cell_type": "markdown",
   "id": "8d9ed545-314a-42f1-900d-7eb5273c1abb",
   "metadata": {},
   "source": [
    "#### ***Sintaxis del slicing***\n",
    "##### cadena[***inicio***:***final***:***paso***]\n",
    "\n",
    "- Si el \"paso\" es positivo, se lee de izquierda a derecha\n",
    "- Si el \"paso\" es negativo, se lee de derecha a izquierda\n",
    "- Si no se pone \"paso\", el valor por defecto es 1 positivo\n",
    "- Si no se pone \"inicio\", se entiende que es desde el primero elemento del string\n",
    "- Si no se pone \"final\", se entiende que es hasta el último elemento del string si el paso es positivo o el inicio si el paso es negativo\n",
    "- No se incluye al caracter cuyo índice es el que figura como \"final\""
   ]
  },
  {
   "cell_type": "markdown",
   "id": "d365fe07-70d0-40a1-89ef-5f045fbe76d8",
   "metadata": {
    "id": "Duj1YFj_HsRS"
   },
   "source": [
    "|0|1|2|3|4|5|6|7|8|9|10|11|\n",
    "|:---:|:---:|:---:|:---:|:---:|:---:|:---:|:---:|:---:|:---:|:---:|:---:|\n",
    "|H|o|l|a|,| |m|u|n|d|o|.|\n",
    "|-12|-11|-10|-9|-8|-7|-6|-5|-4|-3|-2|-1|"
   ]
  },
  {
   "cell_type": "code",
   "execution_count": 35,
   "id": "29735444-c89c-4e4c-a44a-d6bdc2f2a37f",
   "metadata": {
    "colab": {
     "base_uri": "https://localhost:8080/"
    },
    "executionInfo": {
     "elapsed": 250,
     "status": "ok",
     "timestamp": 1649100828954,
     "user": {
      "displayName": "Jose Luis Ojeda",
      "userId": "12240071782040482724"
     },
     "user_tz": 300
    },
    "id": "D_70rCjsEMG6",
    "outputId": "11d06f8f-b352-45b9-cda1-892fd78a5634"
   },
   "outputs": [
    {
     "name": "stdout",
     "output_type": "stream",
     "text": [
      "Hola\n",
      "Hl\n",
      "mundo.\n",
      "mundo\n",
      ", mundo.\n",
      ",aloH\n",
      ".odnum ,aloH\n"
     ]
    }
   ],
   "source": [
    "# Con slicing\n",
    "holaMundo = \"Hola, mundo.\"\n",
    "print(holaMundo[:4])\n",
    "print(holaMundo[:4:2])\n",
    "print(holaMundo[-6:])\n",
    "print(holaMundo[-6:-1])\n",
    "print(holaMundo[-8::1])\n",
    "\n",
    "print(holaMundo[-8::-1])\n",
    "\n",
    "print(holaMundo[::-1])\n"
   ]
  },
  {
   "cell_type": "markdown",
   "id": "4d50f1a8-1d35-4072-8c4d-61bd55171f20",
   "metadata": {
    "id": "3BjX907nkJPJ"
   },
   "source": [
    "#### ***Las cadenas son inmutables***"
   ]
  },
  {
   "cell_type": "code",
   "execution_count": null,
   "id": "518773b9-4654-4beb-a524-7fa547567089",
   "metadata": {
    "colab": {
     "base_uri": "https://localhost:8080/",
     "height": 166
    },
    "executionInfo": {
     "elapsed": 325,
     "status": "error",
     "timestamp": 1649101316294,
     "user": {
      "displayName": "Jose Luis Ojeda",
      "userId": "12240071782040482724"
     },
     "user_tz": 300
    },
    "id": "ENAvcz9dkMoj",
    "outputId": "d1f70cb8-784d-409e-bc75-e6d7ddce76a8"
   },
   "outputs": [],
   "source": [
    "holaMundo = \"Hola, mundo.\"\n",
    "holaMundo[11] = \"!\"\n"
   ]
  },
  {
   "cell_type": "code",
   "execution_count": null,
   "id": "aa839acb-63f8-4f54-8167-4a50ca1d821f",
   "metadata": {},
   "outputs": [],
   "source": [
    "holaMundo = \"Hola, mundo.\"\n",
    "print(id(holaMundo))\n",
    "holaMundo = holaMundo[:11] + \"!\"\n",
    "print(holaMundo)\n",
    "print(id(holaMundo))\n"
   ]
  },
  {
   "cell_type": "markdown",
   "id": "683e15fd-34bc-44d1-b042-0c3379a9b774",
   "metadata": {},
   "source": [
    "### ***Comparando strings***"
   ]
  },
  {
   "cell_type": "code",
   "execution_count": 32,
   "id": "f1d610ea-e848-4be6-b50d-1b63e82dae4f",
   "metadata": {
    "tags": []
   },
   "outputs": [
    {
     "name": "stdout",
     "output_type": "stream",
     "text": [
      "True\n",
      "False\n"
     ]
    }
   ],
   "source": [
    "resultado1 = \"hola\" == \"hOla\"\n",
    "resultado2 = \"hola\" > \"hOla\"\n",
    "\n",
    "print(resultado1)\n",
    "print(resultado2)\n"
   ]
  },
  {
   "cell_type": "markdown",
   "id": "3503d888-3005-4c47-9cb2-3ba7ea11f675",
   "metadata": {
    "id": "6be0c52c-7d38-4105-b236-c19bb831902a"
   },
   "source": [
    "## ***Listas***\n",
    "- Es una colección ordenada y modificable de diferentes tipos de datos.\n",
    "- Permite miembros duplicados.\n",
    "- En Python las listas se escriben entre corchetes.\n",
    "- Los corchetes indican el inicio y el final de la lista\n",
    "- Los elementos están separados por comas."
   ]
  },
  {
   "cell_type": "markdown",
   "id": "ca1c6d9a-3b24-446d-aec2-78dfb026df50",
   "metadata": {
    "id": "ff60cd95-f2fc-4d17-ae23-4acfb6234f5e"
   },
   "source": [
    "### ***Creando Listas***"
   ]
  },
  {
   "cell_type": "code",
   "execution_count": 37,
   "id": "c6f57e08-08d4-40fb-ba69-fb2cf821e16d",
   "metadata": {
    "id": "48b5334b-78bd-4ed3-b925-fae684117b26"
   },
   "outputs": [
    {
     "name": "stdout",
     "output_type": "stream",
     "text": [
      "<class 'list'>\n",
      "[1, 2, 3]\n",
      "[1, ['a', 'e', 'i', 'o', 'u'], 8.9, 'hola']\n",
      "[[1, 2], [4, 5], [7, 4]]\n"
     ]
    }
   ],
   "source": [
    "# crear una lista lista1 con los elementos 1, 2, 3\n",
    "\n",
    "lista1 = [1, 2, 3]\n",
    "print(type(lista1))\n",
    "print(lista1)\n",
    "\n",
    "# crea una lista con los elementos 1, ['a', 'e', 'i', 'o', 'u'], 8.9, 'hola']\n",
    "lista2 = [1, ['a', 'e', 'i', 'o', 'u'], 8.9, 'hola']\n",
    "print(lista2)\n",
    "\n",
    "# Crear una lista cuyos elementos sean lista de dos elementos\n",
    "lista3 = [[1, 2], [4, 5], [7, 4]]  # Matriz de 3x2\n",
    "print(lista3)\n"
   ]
  },
  {
   "cell_type": "markdown",
   "id": "eb14dfda-b603-46fd-b7af-4215ea0fedb0",
   "metadata": {
    "id": "bd608ef1-e5fb-4eb9-b8cc-30c16315dfc7"
   },
   "source": [
    "### ***Creando listas con el constructor list***"
   ]
  },
  {
   "cell_type": "code",
   "execution_count": 38,
   "id": "04d337c5-3193-483d-8c96-e209509783db",
   "metadata": {
    "colab": {
     "base_uri": "https://localhost:8080/"
    },
    "executionInfo": {
     "elapsed": 27,
     "status": "ok",
     "timestamp": 1681310584294,
     "user": {
      "displayName": "Jose Luis Ojeda",
      "userId": "12240071782040482724"
     },
     "user_tz": 300
    },
    "id": "2ad603ef-4989-42fd-8415-ec7cdb8e176c",
    "outputId": "01a036d3-e632-4f8c-f734-8381e072955e",
    "tags": []
   },
   "outputs": [
    {
     "name": "stdout",
     "output_type": "stream",
     "text": [
      "<class 'list'>\n",
      "['a', 'e', 'i', 'o', 'u']\n"
     ]
    }
   ],
   "source": [
    "# crea una lista desde el string \"aeiou\"\n",
    "c = list(\"aeiou\")\n",
    "print(type(c))\n",
    "print(c)\n"
   ]
  },
  {
   "cell_type": "markdown",
   "id": "66d0e6f7-23bb-4ad0-ae22-4678a1e00ea9",
   "metadata": {
    "id": "d4eb04e8-af2e-4f79-b90d-ad9612f2cc07",
    "tags": []
   },
   "source": [
    "### ***Índices y slicing***\n",
    "De manera similar a los strings, las lista tienen índices comenzando desde 0. También se tiene índices de derecha a izquierda, que se numeran en forma negativa"
   ]
  },
  {
   "cell_type": "markdown",
   "id": "2a80a7ce-4fa2-44a7-87b8-f53c42e82f1c",
   "metadata": {
    "id": "Duj1YFj_HsRS"
   },
   "source": [
    "|0|1|2|3|4|5|6|\n",
    "|:---:|:---:|:---:|:---:|:---:|:---:|:---:|\n",
    "|Alberto|Juan|Mario|Renan|Luis|Javier|Humberto|\n",
    "|-7|-6|-5|-4|-3|-2|-1|"
   ]
  },
  {
   "cell_type": "code",
   "execution_count": 44,
   "id": "6a579642-cf30-49d4-96ac-ebe7330bd8ee",
   "metadata": {
    "id": "836a2a4f-9dff-4642-b508-141e5607cdc6"
   },
   "outputs": [
    {
     "name": "stdout",
     "output_type": "stream",
     "text": [
      "Javier\n",
      "Javier\n",
      "Javier Humberto\n",
      "['Mario', 'Renan']\n",
      "['Humberto', 'Javier', 'Luis', 'Renan', 'Mario', 'Juan', 'Alberto']\n"
     ]
    }
   ],
   "source": [
    "# slicing en listas\n",
    "lista = [\"Alberto\", \"Juan\", \"Mario\", \"Renan\", \"Luis\", \"Javier\", \"Humberto\"]\n",
    "\n",
    "# Se puede acceder a un elemento a través de su índice\n",
    "print(lista[-2])\n",
    "print(lista[5])\n",
    "print(lista[5], lista[6])\n",
    "\n",
    "# Con slicing\n",
    "print(lista[2:4])\n",
    "print(lista[::-1])\n"
   ]
  },
  {
   "cell_type": "markdown",
   "id": "cdb4e354-2b6b-4a36-8997-56e5aa25b8d2",
   "metadata": {
    "id": "1222a60b-dd33-44da-a8ea-f3a099393b3a"
   },
   "source": [
    "### ***Añadir elementos a una lista***"
   ]
  },
  {
   "cell_type": "markdown",
   "id": "5f7bc664-a63a-49a7-a050-6b86077f3732",
   "metadata": {
    "id": "c2d7ca03-dee8-4ff5-be1b-635e0a799e65"
   },
   "source": [
    "#### Usando el método ***append()***"
   ]
  },
  {
   "cell_type": "code",
   "execution_count": 49,
   "id": "a81d0c72-7394-438a-acb4-5fab6c02e5c2",
   "metadata": {
    "colab": {
     "base_uri": "https://localhost:8080/"
    },
    "executionInfo": {
     "elapsed": 25,
     "status": "ok",
     "timestamp": 1681309153828,
     "user": {
      "displayName": "Jose Luis Ojeda",
      "userId": "12240071782040482724"
     },
     "user_tz": 300
    },
    "id": "ecc449e0-d707-4793-a0b2-f6aa87a76a9a",
    "outputId": "2fd8d20d-3a4f-4047-dac0-38cb3ebdfeac"
   },
   "outputs": [
    {
     "name": "stdout",
     "output_type": "stream",
     "text": [
      "3012646420800\n",
      "['Alberto', 'Juan', 'Miguel', 'Mario', 'Renan', 'Luis', 'Javier', 'Humberto']\n",
      "3012646420800\n"
     ]
    }
   ],
   "source": [
    "# añade un nuevo elemento al final de la lista\n",
    "lista = [\"Alberto\", \"Juan\", \"Mario\", \"Renan\", \"Luis\", \"Javier\", \"Humberto\"]\n",
    "print(id(lista))\n",
    "lista.append(\"Miguel\")\n",
    "print(lista)\n",
    "print(id(lista))\n"
   ]
  },
  {
   "cell_type": "code",
   "execution_count": 50,
   "id": "8eee6463-ec68-472f-9765-d0ca99a63a46",
   "metadata": {},
   "outputs": [
    {
     "name": "stdout",
     "output_type": "stream",
     "text": [
      "[6, 14, 4, 10, 5, 3, 6, 3, 7, 5]\n"
     ]
    }
   ],
   "source": [
    "# Creando una lista vacía y luego añadiendo números aleatorios\n",
    "from random import randint\n",
    "\n",
    "lista3 = []\n",
    "for i in range(10):\n",
    "    lista3.append(randint(1, 20))\n",
    "\n",
    "print(lista3)\n"
   ]
  },
  {
   "cell_type": "code",
   "execution_count": 51,
   "id": "bfa8513b-28cf-474f-94d4-928a1089ebb8",
   "metadata": {
    "colab": {
     "base_uri": "https://localhost:8080/"
    },
    "executionInfo": {
     "elapsed": 496,
     "status": "ok",
     "timestamp": 1681309175918,
     "user": {
      "displayName": "Jose Luis Ojeda",
      "userId": "12240071782040482724"
     },
     "user_tz": 300
    },
    "id": "c7bd6603-82cf-4517-b3f0-c26cfe09e526",
    "outputId": "c64b9ade-0af4-4618-dfb7-19af8a32fed1"
   },
   "outputs": [
    {
     "name": "stdout",
     "output_type": "stream",
     "text": [
      "[0, 0, 0, 0, 0, 0, 0, 0, 0, 0]\n",
      "[1, 1, 1, 1, 1, 1, 1, 1, 1, 1]\n"
     ]
    }
   ],
   "source": [
    "# Creando una lista con un número determinado de elementos y un valor determinado¶\n",
    "lista4 = [0]*10\n",
    "print(lista4)\n",
    "\n",
    "lista5 = [1]*10\n",
    "print(lista5)\n"
   ]
  },
  {
   "cell_type": "markdown",
   "id": "1d712a52-648a-4d77-95c4-00e30348fc92",
   "metadata": {
    "id": "4a75fac3-b147-41c9-8d40-01cd4c8aab20"
   },
   "source": [
    "### ***Modificando elementos de una lista***"
   ]
  },
  {
   "cell_type": "code",
   "execution_count": 53,
   "id": "f3c88dfc-3eba-4be2-8d22-a3059b51cee3",
   "metadata": {
    "colab": {
     "base_uri": "https://localhost:8080/"
    },
    "executionInfo": {
     "elapsed": 691,
     "status": "ok",
     "timestamp": 1681309199903,
     "user": {
      "displayName": "Jose Luis Ojeda",
      "userId": "12240071782040482724"
     },
     "user_tz": 300
    },
    "id": "443c02f0-c118-46ac-ba92-22046b4d7165",
    "outputId": "bb17468e-72c4-42ac-a432-045e20174071"
   },
   "outputs": [
    {
     "name": "stdout",
     "output_type": "stream",
     "text": [
      "[1, 2, 3, 4, 5, 6, 7, 20]\n"
     ]
    }
   ],
   "source": [
    "# Modificando un elemento de una posición determinada\n",
    "lis1 = [1, 2, 3, 4, 5, 6, 7, 8]\n",
    "lis1[1] = 20\n",
    "print(lis1)\n"
   ]
  },
  {
   "cell_type": "markdown",
   "id": "dad97d2e-eae6-4d7d-aba2-1e05b1989aea",
   "metadata": {
    "id": "3753f04b-c704-4baf-9d24-e2d2d2c7be7c"
   },
   "source": [
    "### ***Eliminar elementos de una lista***"
   ]
  },
  {
   "cell_type": "markdown",
   "id": "5ab69470-c5c1-4559-8986-82962619d13e",
   "metadata": {
    "id": "0e445677-31bb-4121-a6bd-9871f93a7564"
   },
   "source": [
    "### Usando el método ***pop()***"
   ]
  },
  {
   "cell_type": "code",
   "execution_count": 54,
   "id": "e731590a-b938-4992-b81d-57348e613f8d",
   "metadata": {
    "colab": {
     "base_uri": "https://localhost:8080/"
    },
    "executionInfo": {
     "elapsed": 362,
     "status": "ok",
     "timestamp": 1681309273124,
     "user": {
      "displayName": "Jose Luis Ojeda",
      "userId": "12240071782040482724"
     },
     "user_tz": 300
    },
    "id": "eeca8fc4-f11b-4400-9894-f5de30c6c581",
    "outputId": "61ba33bd-748a-4c11-a248-45a789d175d8"
   },
   "outputs": [
    {
     "name": "stdout",
     "output_type": "stream",
     "text": [
      "['a', 'e', 'i', 'o']\n",
      "['a', 'e', 'i']\n"
     ]
    }
   ],
   "source": [
    "# usando el método \"pop\" sin argumento\n",
    "# elimina el últmo elemento de la lista\n",
    "lis_1 = list(\"aeiou\")\n",
    "lis_1.pop()\n",
    "print(lis_1)\n",
    "lis_1.pop()\n",
    "print(lis_1)\n"
   ]
  },
  {
   "cell_type": "code",
   "execution_count": 55,
   "id": "67274c80-b6d0-44b4-a1fe-ab4184d499a8",
   "metadata": {
    "colab": {
     "base_uri": "https://localhost:8080/"
    },
    "executionInfo": {
     "elapsed": 370,
     "status": "ok",
     "timestamp": 1681309285168,
     "user": {
      "displayName": "Jose Luis Ojeda",
      "userId": "12240071782040482724"
     },
     "user_tz": 300
    },
    "id": "4634066f-9333-47b9-a75f-8a76fbce4c75",
    "outputId": "8a4f4904-4965-45fd-d076-2627e6741a78"
   },
   "outputs": [
    {
     "name": "stdout",
     "output_type": "stream",
     "text": [
      "['a', 'e', 'o', 'u']\n"
     ]
    }
   ],
   "source": [
    "# usando el método \"pop\" con índice\n",
    "lis_1 = list(\"aeiou\")\n",
    "lis_1.pop(1)\n",
    "print(lis_1)\n"
   ]
  },
  {
   "cell_type": "markdown",
   "id": "302fbd9a-02a1-455b-ae81-918f14d5517a",
   "metadata": {
    "id": "07eeade5-7ef3-4e8a-8c57-aeaff22efc07"
   },
   "source": [
    "### ***Copiando listas***"
   ]
  },
  {
   "cell_type": "code",
   "execution_count": null,
   "id": "da78db45-d475-4eb8-9f64-3be3fd65529a",
   "metadata": {
    "colab": {
     "base_uri": "https://localhost:8080/"
    },
    "executionInfo": {
     "elapsed": 24,
     "status": "ok",
     "timestamp": 1681310065284,
     "user": {
      "displayName": "Jose Luis Ojeda",
      "userId": "12240071782040482724"
     },
     "user_tz": 300
    },
    "id": "94b773f1-bf4e-4a22-a2c1-3dc5923d1b7b",
    "outputId": "fbc747b5-64fe-4674-c522-444b0ee67d89"
   },
   "outputs": [],
   "source": [
    "# Esto sólo pone otra etiqueta al objeto tipo lista\n",
    "num1 = [1, 2, 3, 4]\n",
    "num2 = num1\n",
    "print(id(num1))\n",
    "print(id(num2))\n",
    "print(num1 is num2)\n",
    "num1[0] = 10\n",
    "print(num1)\n",
    "print(num2)\n"
   ]
  },
  {
   "cell_type": "markdown",
   "id": "67a27294-cab2-4e99-b390-543efd567a70",
   "metadata": {
    "id": "28c5a042-e3fe-4760-a854-8e2ca82adf20"
   },
   "source": [
    "### ***Copiar usando slicing***"
   ]
  },
  {
   "cell_type": "code",
   "execution_count": 57,
   "id": "1a724dfe-dd6c-4496-be3e-a0ccc98b3444",
   "metadata": {
    "colab": {
     "base_uri": "https://localhost:8080/"
    },
    "executionInfo": {
     "elapsed": 364,
     "status": "ok",
     "timestamp": 1681310133593,
     "user": {
      "displayName": "Jose Luis Ojeda",
      "userId": "12240071782040482724"
     },
     "user_tz": 300
    },
    "id": "8992ae70-5e26-4266-ac16-537c1c578c3e",
    "outputId": "da5d4b70-d93e-4639-c741-e8f52d8b05b2"
   },
   "outputs": [
    {
     "name": "stdout",
     "output_type": "stream",
     "text": [
      "3012646433856\n",
      "3012646387136\n",
      "False\n",
      "[20, 2, 3, 4]\n",
      "[1, 2, 3, 4]\n"
     ]
    }
   ],
   "source": [
    "# Usando slicing\n",
    "num1 = [1, 2, 3, 4]\n",
    "num2 = num1[:]\n",
    "print(id(num1))\n",
    "print(id(num2))\n",
    "print(num1 is num2)\n",
    "num1[0] = 20\n",
    "print(num1)\n",
    "print(num2)\n"
   ]
  },
  {
   "cell_type": "markdown",
   "id": "2a365ab0-c392-468b-8905-057813535ca4",
   "metadata": {
    "id": "528cebf5-958d-4bdd-a459-efeb9d165e9d"
   },
   "source": [
    "### ***Usando el método copy()***"
   ]
  },
  {
   "cell_type": "code",
   "execution_count": 58,
   "id": "a1e16a39-827f-4bed-98d1-72da58e31af0",
   "metadata": {
    "colab": {
     "base_uri": "https://localhost:8080/"
    },
    "executionInfo": {
     "elapsed": 655,
     "status": "ok",
     "timestamp": 1681310184707,
     "user": {
      "displayName": "Jose Luis Ojeda",
      "userId": "12240071782040482724"
     },
     "user_tz": 300
    },
    "id": "0b5d2fc9-f8c5-403e-8644-ae4b7b2bf24e",
    "outputId": "cf9c9eb3-8199-4a1b-924b-a9eaa1a170cf"
   },
   "outputs": [
    {
     "name": "stdout",
     "output_type": "stream",
     "text": [
      "3012646379264\n",
      "3012646673664\n",
      "False\n",
      "[20, 2, 3, 4]\n",
      "[1, 2, 3, 4]\n"
     ]
    }
   ],
   "source": [
    "num1 = [1, 2, 3, 4]\n",
    "num2 = num1.copy()\n",
    "print(id(num1))\n",
    "print(id(num2))\n",
    "print(num1 is num2)\n",
    "num1[0] = 20\n",
    "print(num1)\n",
    "print(num2)\n"
   ]
  },
  {
   "cell_type": "markdown",
   "id": "5cd64327-9e30-44db-9e05-27d2691278bf",
   "metadata": {
    "id": "3ZOajt88BKuS"
   },
   "source": [
    "# ***Tuplas***\n",
    "- Las tuplas son un conjunto de datos que tienen las siguientes características\n",
    "   1. Son iterables\n",
    "   2. Son inmutables\n"
   ]
  },
  {
   "cell_type": "code",
   "execution_count": 59,
   "id": "bb3739e2-c070-4824-bb8a-2f5af4095175",
   "metadata": {
    "colab": {
     "base_uri": "https://localhost:8080/"
    },
    "executionInfo": {
     "elapsed": 288,
     "status": "ok",
     "timestamp": 1650910541188,
     "user": {
      "displayName": "Jose Luis Ojeda",
      "userId": "12240071782040482724"
     },
     "user_tz": 300
    },
    "id": "nqmscL-_7NG8",
    "outputId": "58ce4493-627e-4d05-cbe0-df2cf3d9f2dc",
    "tags": []
   },
   "outputs": [
    {
     "name": "stdout",
     "output_type": "stream",
     "text": [
      "<class 'tuple'>\n",
      "(1, 2, 3)\n"
     ]
    }
   ],
   "source": [
    "# Creando Tuplas\n",
    "mitupla1 = (1, 2, 3)\n",
    "print(type(mitupla1))\n",
    "print(mitupla1)\n"
   ]
  },
  {
   "cell_type": "code",
   "execution_count": 60,
   "id": "af0abf69-5370-4513-86d8-548e0d793384",
   "metadata": {
    "colab": {
     "base_uri": "https://localhost:8080/"
    },
    "executionInfo": {
     "elapsed": 270,
     "status": "ok",
     "timestamp": 1650910720257,
     "user": {
      "displayName": "Jose Luis Ojeda",
      "userId": "12240071782040482724"
     },
     "user_tz": 300
    },
    "id": "JqMjQuF7785t",
    "outputId": "6e4fa445-a229-4a27-d034-cc8955c31a97",
    "tags": []
   },
   "outputs": [
    {
     "name": "stdout",
     "output_type": "stream",
     "text": [
      "<class 'tuple'>\n",
      "(1, 2, 3)\n"
     ]
    }
   ],
   "source": [
    "# Los paréntesis son opcionales\n",
    "miTupla2 = 1, 2, 3\n",
    "print(type(miTupla2))\n",
    "print(miTupla2)\n"
   ]
  },
  {
   "cell_type": "code",
   "execution_count": 63,
   "id": "85c5c5fb-bc56-4633-a5d3-a9bf3b211f75",
   "metadata": {
    "colab": {
     "base_uri": "https://localhost:8080/"
    },
    "executionInfo": {
     "elapsed": 292,
     "status": "ok",
     "timestamp": 1650910681539,
     "user": {
      "displayName": "Jose Luis Ojeda",
      "userId": "12240071782040482724"
     },
     "user_tz": 300
    },
    "id": "xRMcMLlL8O7T",
    "outputId": "59f17820-216d-42b7-c3c9-c7fcd281cb89",
    "tags": []
   },
   "outputs": [
    {
     "name": "stdout",
     "output_type": "stream",
     "text": [
      "<class 'tuple'>\n",
      "<class 'tuple'>\n",
      "<class 'tuple'>\n"
     ]
    }
   ],
   "source": [
    "# Forma incorrecta de definir una tupla\n",
    "x = (1)\n",
    "print(type(x))\n",
    "\n",
    "## Las dos formas que siguen son corretas\n",
    "x = 1,\n",
    "y = (2,)\n",
    "\n",
    "print(type(x))\n",
    "print(type(y))\n"
   ]
  },
  {
   "cell_type": "markdown",
   "id": "6b5dc35d-ec5f-4c98-aabe-55d00ead944b",
   "metadata": {},
   "source": [
    "### ***Acceso a elementos y Slicing en tuplas***\n",
    "|0|1|2|3|4|5|\n",
    "|:-----:|:------:|:-----:|:------:|:------:|:-----:|\n",
    "|\"Hola\"|24|[1, 2]|(\"Python\",\"3.10.7\")|3.14159|True|\n",
    "|-6|-5|-4|-3|-2|-1|"
   ]
  },
  {
   "cell_type": "code",
   "execution_count": 65,
   "id": "12e8776e-b3d2-4921-9440-83478f56594c",
   "metadata": {
    "colab": {
     "base_uri": "https://localhost:8080/"
    },
    "executionInfo": {
     "elapsed": 284,
     "status": "ok",
     "timestamp": 1650911050970,
     "user": {
      "displayName": "Jose Luis Ojeda",
      "userId": "12240071782040482724"
     },
     "user_tz": 300
    },
    "id": "EyJbs85X85yk",
    "outputId": "6432ef49-da97-4288-8cd1-4e2ca4b886ef",
    "tags": []
   },
   "outputs": [
    {
     "name": "stdout",
     "output_type": "stream",
     "text": [
      "('Hola', 24, [1, 2], ('Python', '3.10.4'), 3.14159, True)\n",
      "('Python', '3.10.4')\n",
      "(('Python', '3.10.4'), 3.14159, True)\n",
      "1\n",
      "(True, 3.14159, ('Python', '3.10.4'), [1, 2], 24, 'Hola')\n",
      "3.10.4\n"
     ]
    }
   ],
   "source": [
    "# Otros ejemplos de crear tuplas\n",
    "miTupla = (\"Hola\", 24, [1, 2], (\"Python\", \"3.10.4\"), 3.14159, 5 > 3)\n",
    "print(miTupla)\n",
    "\n",
    "print(miTupla[3])\n",
    "print(miTupla[3:])\n",
    "print(miTupla[2][0])\n",
    "print(miTupla[::-1])\n"
   ]
  },
  {
   "cell_type": "code",
   "execution_count": 66,
   "id": "3d2165ac-caff-4f03-add7-e9e42ee33871",
   "metadata": {
    "colab": {
     "base_uri": "https://localhost:8080/"
    },
    "executionInfo": {
     "elapsed": 305,
     "status": "ok",
     "timestamp": 1650911206063,
     "user": {
      "displayName": "Jose Luis Ojeda",
      "userId": "12240071782040482724"
     },
     "user_tz": 300
    },
    "id": "z83u2Wa7-Bsi",
    "outputId": "abf4dd1c-92a6-4cfd-9f37-3f861c52d484",
    "tags": []
   },
   "outputs": [
    {
     "name": "stdout",
     "output_type": "stream",
     "text": [
      "[4, 5, 6, 9, 10]\n",
      "(4, 5, 6, 9, 10)\n"
     ]
    }
   ],
   "source": [
    "# Convirtiendo listas en tuplas: Función tuple()\n",
    "miLista = [4, 5, 6, 9, 10]\n",
    "miTupla = tuple(miLista)\n",
    "print(f\"{miLista}\\n{miTupla}\")\n"
   ]
  },
  {
   "cell_type": "code",
   "execution_count": 67,
   "id": "3276f5fa-7925-46a5-b8da-709d5ca9f2f2",
   "metadata": {
    "colab": {
     "base_uri": "https://localhost:8080/"
    },
    "executionInfo": {
     "elapsed": 321,
     "status": "ok",
     "timestamp": 1650911325637,
     "user": {
      "displayName": "Jose Luis Ojeda",
      "userId": "12240071782040482724"
     },
     "user_tz": 300
    },
    "id": "4cZM0AYd-j4c",
    "outputId": "cfc67053-324a-44cf-da4b-509a9f1941dc",
    "tags": []
   },
   "outputs": [
    {
     "name": "stdout",
     "output_type": "stream",
     "text": [
      "('Hola', 'Mundo')\n",
      "['Hola', 'Mundo']\n"
     ]
    }
   ],
   "source": [
    "# Convirtiendo tuplas en listas\n",
    "miTupla = (\"Hola\", \"Mundo\")\n",
    "miLista = list(miTupla)\n",
    "print(f\"{miTupla}\\n{miLista}\")\n"
   ]
  },
  {
   "cell_type": "markdown",
   "id": "6ebd52fe-af1b-49a7-8676-d47b3235d480",
   "metadata": {},
   "source": [
    "### ***Empaquetado***\n",
    "Si a una variable se le asigna una secuencia de valores separados por comas, el valor de esa variable será la tupla formada por todos los valores asignados. A esta operación se la denomina empaquetado de tuplas."
   ]
  },
  {
   "cell_type": "code",
   "execution_count": 82,
   "id": "c80207ed-825e-419f-9a43-be1b67026671",
   "metadata": {
    "colab": {
     "base_uri": "https://localhost:8080/"
    },
    "executionInfo": {
     "elapsed": 288,
     "status": "ok",
     "timestamp": 1650911614642,
     "user": {
      "displayName": "Jose Luis Ojeda",
      "userId": "12240071782040482724"
     },
     "user_tz": 300
    },
    "id": "7m_fv18M_c6c",
    "outputId": "5c58db11-421c-4adb-d995-e47c061f149e",
    "tags": []
   },
   "outputs": [
    {
     "name": "stdout",
     "output_type": "stream",
     "text": [
      "<class 'tuple'>\n",
      "(125, 3.14159, 'Ana')\n",
      "3\n"
     ]
    }
   ],
   "source": [
    "# Ejemplo de empaquetado de tuplas\n",
    "a = 125\n",
    "b = 3.14159\n",
    "c = \"Ana\"\n",
    "d = a, b, c\n",
    "print(type(d))\n",
    "print(d)\n",
    "print(len(d))  # len también funciona en tuplas\n"
   ]
  },
  {
   "cell_type": "markdown",
   "id": "6554d1a2-3d4f-49f6-a0c3-7caadac89d93",
   "metadata": {},
   "source": [
    "### ***Desempaquetado***\n",
    "Si se tiene una tupla de longitud k, se puede asignar la tupla a k variables distintas y en cada variable quedará una de las componentes de la tupla. A esta operación se la denomina desempaquetado de tuplas."
   ]
  },
  {
   "cell_type": "code",
   "execution_count": 84,
   "id": "5837aedc-a8e7-411c-a45b-3bdc7714bac7",
   "metadata": {
    "colab": {
     "base_uri": "https://localhost:8080/"
    },
    "executionInfo": {
     "elapsed": 273,
     "status": "ok",
     "timestamp": 1650911676171,
     "user": {
      "displayName": "Jose Luis Ojeda",
      "userId": "12240071782040482724"
     },
     "user_tz": 300
    },
    "id": "PPZBUDiJAHrc",
    "outputId": "c5f7d362-a8d3-48e4-e578-2c147477932a",
    "tags": []
   },
   "outputs": [
    {
     "name": "stdout",
     "output_type": "stream",
     "text": [
      "125\n"
     ]
    }
   ],
   "source": [
    "# Ejemplo de desempaquetado de tuplas\n",
    "(125, 3.14159, 'Ana') == d\n",
    "x,y,z = d\n",
    "print(x,y,z)"
   ]
  },
  {
   "cell_type": "code",
   "execution_count": 85,
   "id": "75e5c2a3-28c9-406a-a886-3e427539bc9d",
   "metadata": {
    "tags": []
   },
   "outputs": [
    {
     "name": "stdout",
     "output_type": "stream",
     "text": [
      "(125, 3.14159, 'Ana')\n",
      "3012647532672\n",
      "3012647532672\n"
     ]
    }
   ],
   "source": [
    "x = d\n",
    "print(x)\n",
    "print(id(x))\n",
    "print(id(d))\n"
   ]
  },
  {
   "cell_type": "code",
   "execution_count": null,
   "id": "086494e4-dffd-417e-8eb6-3ad09d04c847",
   "metadata": {
    "colab": {
     "base_uri": "https://localhost:8080/",
     "height": 166
    },
    "executionInfo": {
     "elapsed": 299,
     "status": "error",
     "timestamp": 1650910749261,
     "user": {
      "displayName": "Jose Luis Ojeda",
      "userId": "12240071782040482724"
     },
     "user_tz": 300
    },
    "id": "R6JPo1K08llC",
    "outputId": "2e372db9-0f1a-4bc7-94b8-43bce33a6dfb",
    "tags": []
   },
   "outputs": [],
   "source": [
    "# Las tuplas son inmutables\n",
    "myTupla = (1, 2, 3, 4, 5)\n",
    "miTupla[0] = 10\n"
   ]
  },
  {
   "cell_type": "code",
   "execution_count": 87,
   "id": "9536939f-628d-45b7-a9c1-06306a2b431b",
   "metadata": {
    "tags": []
   },
   "outputs": [
    {
     "name": "stdout",
     "output_type": "stream",
     "text": [
      "('Hola', 24, [1, 2], ('Python', '3.10.4'), 3.14159, True)\n",
      "('Hola', 24, [1, 2, 3], ('Python', '3.10.4'), 3.14159, True)\n"
     ]
    }
   ],
   "source": [
    "# ¿Son realmente inmutables las tuplas?\n",
    "miTupla = (\"Hola\", 24, [1, 2], (\"Python\", \"3.10.4\"), 3.14159, 5 > 3)\n",
    "print(miTupla)\n",
    "\n",
    "miTupla[2].append(3)\n",
    "print(miTupla)\n"
   ]
  },
  {
   "cell_type": "markdown",
   "id": "860ad865-488d-4b55-bf21-79b677b4804e",
   "metadata": {},
   "source": [
    "### la función ***len()***\n",
    "Aplica a string, listas, tuplas y diccionarios"
   ]
  },
  {
   "cell_type": "code",
   "execution_count": 107,
   "id": "2d9bd57d-e5a9-43a6-a3ab-ce88b1652281",
   "metadata": {},
   "outputs": [
    {
     "name": "stdout",
     "output_type": "stream",
     "text": [
      "10\n",
      "9\n",
      "8\n"
     ]
    }
   ],
   "source": [
    "cadena = \"Hola , mu nd o      \"\n",
    "lista1 = [1, 2, 3, 4, 5, 6.5, 7, 8, cadena]\n",
    "tupla1 = (1, 2, 3, 4, 5, 6, cadena, lista1)\n",
    "print(len(cadena.replace(\" \",\"\")))\n",
    "print(len(lista1))\n",
    "print(len(tupla1))\n"
   ]
  },
  {
   "cell_type": "markdown",
   "id": "28bc39d9-c108-4d79-b9dc-77226ca90311",
   "metadata": {},
   "source": [
    "## Bucles ***for***"
   ]
  },
  {
   "attachments": {},
   "cell_type": "markdown",
   "id": "6bfdb49e-a406-4e71-9b18-52e62bd68520",
   "metadata": {},
   "source": [
    "- Los bucles ***for*** en Python son un tipo especial de sentencia que se utiliza para el recorrido secuencial.\n",
    "- El bucle ***for*** de Python se utiliza para iterar sobre un elemento iterable como un string, una tupla, una lista, o un diccionario.\n",
    "- En Python, no existe un bucle ***for*** al estilo C++, es decir, for (i=0; I <n; i++)\n",
    "La sintaxis básica es la siguiente:\n",
    "```\n",
    "for variable in iterable:\n",
    "    # código python\n",
    "```\n",
    "Hay dos palabras clave, ***for*** e ***in***\n",
    "Observe también la indentación que señala el bloque de código que pertenece al ***for***"
   ]
  },
  {
   "attachments": {},
   "cell_type": "markdown",
   "id": "49280a78-a5bc-4ed4-8df1-7b1c7eb8edf5",
   "metadata": {},
   "source": [
    "### ***Recorriendo strings, listas y tuplas con for***"
   ]
  },
  {
   "cell_type": "code",
   "execution_count": 108,
   "id": "3e56d35e-b7e6-4276-8013-e89690486ffa",
   "metadata": {},
   "outputs": [
    {
     "name": "stdout",
     "output_type": "stream",
     "text": [
      "Impriminedo elementos de un string\n",
      "H\n",
      "o\n",
      "l\n",
      "a\n",
      ",\n",
      " \n",
      "m\n",
      "u\n",
      "n\n",
      "d\n",
      "o\n",
      ".\n",
      "\n",
      "Impriminedo elementos de una lista\n",
      "manzana\n",
      "pera\n",
      "mango\n",
      "sandía\n",
      "melón\n",
      "plátano\n",
      "\n",
      "Impriminedo elementos de una tupla\n",
      "1\n",
      "2\n",
      "3\n",
      "4\n",
      "5\n"
     ]
    }
   ],
   "source": [
    "# strings\n",
    "print(\"Impriminedo elementos de un string\")\n",
    "holaMundo = \"Hola, mundo.\"\n",
    "for caracter in holaMundo:\n",
    "    print(caracter)\n",
    "\n",
    "# listas\n",
    "print(\"\\nImpriminedo elementos de una lista\")\n",
    "frutas = [\"manzana\", \"pera\", \"mango\", \"sandía\", \"melón\", \"plátano\"]\n",
    "for elemento in frutas:\n",
    "    print(elemento)\n",
    "\n",
    "# Tuplas\n",
    "print(\"\\nImpriminedo elementos de una tupla\")\n",
    "myTupla = (1, 2, 3, 4, 5)\n",
    "for valor in myTupla:\n",
    "    print(valor)\n"
   ]
  },
  {
   "cell_type": "markdown",
   "id": "e2e495ce-8f97-4ad6-8969-99972da73847",
   "metadata": {},
   "source": [
    "### Usando ***in*** como operador lógico en strings, listas y tuplas"
   ]
  },
  {
   "cell_type": "markdown",
   "id": "b2ff063f-fac6-4a45-bf82-2882e08ad20c",
   "metadata": {},
   "source": [
    "### ***en strings***"
   ]
  },
  {
   "cell_type": "code",
   "execution_count": 111,
   "id": "be51eb67-9860-4557-b713-862e4f0500c3",
   "metadata": {},
   "outputs": [
    {
     "name": "stdout",
     "output_type": "stream",
     "text": [
      "Errado\n"
     ]
    }
   ],
   "source": [
    "# En string permite saber si un substring está dentro de un string\n",
    "# Ejemplo 1\n",
    "x = \"Curso Progamación Orientada a Objetos\"\n",
    "if \"P\" in x:\n",
    "    print(\"Correcto\")\n",
    "else:\n",
    "    print(\"Errado\")\n"
   ]
  },
  {
   "cell_type": "code",
   "execution_count": 112,
   "id": "fc04edf1-65b4-4ad6-bf60-cced501d3200",
   "metadata": {},
   "outputs": [
    {
     "name": "stdout",
     "output_type": "stream",
     "text": [
      "Correcto\n"
     ]
    }
   ],
   "source": [
    "# Ejemplo 2\n",
    "x = \"Curso Programación Orientada a Objetos\"\n",
    "if \"Programación\" in x:\n",
    "    print(\"Correcto\")\n",
    "else:\n",
    "    print(\"Errado\")\n"
   ]
  },
  {
   "cell_type": "code",
   "execution_count": null,
   "id": "40bdb5e4-1c46-4ea8-a5fb-be7e6782283e",
   "metadata": {},
   "outputs": [
    {
     "name": "stdout",
     "output_type": "stream",
     "text": [
      "Correcto\n"
     ]
    }
   ],
   "source": [
    "# Ejemplo 3\n",
    "x = \"Curso Progamación Orientada a Objetos\"\n",
    "if \"Objeto\" in x:\n",
    "    print(\"Correcto\")\n",
    "else:\n",
    "    print(\"Errado\")\n"
   ]
  },
  {
   "cell_type": "markdown",
   "id": "d658401d-1757-46c4-87bc-95420da7c93a",
   "metadata": {},
   "source": [
    "### en ***listas***"
   ]
  },
  {
   "cell_type": "code",
   "execution_count": 118,
   "id": "f9e37078-f839-48bc-9b25-0dd36759983a",
   "metadata": {},
   "outputs": [],
   "source": [
    "colores = [\"azul\", \"blanco\", \"negro\"]\n",
    "nuevo_color = \"marrón\"\n",
    "if nuevo_color in colores:\n",
    "    print(\"Elemento ya existe en la lista\")\n",
    "else:\n",
    "    colores.append(nuevo_color)\n",
    "\n",
    "print(colores)\n"
   ]
  },
  {
   "cell_type": "code",
   "execution_count": 119,
   "id": "2a6f5887-7dc8-402b-a012-7d89173892cb",
   "metadata": {},
   "outputs": [
    {
     "name": "stdout",
     "output_type": "stream",
     "text": [
      "Elemento ya existe en la lista\n",
      "['azul', 'blanco', 'negro']\n"
     ]
    }
   ],
   "source": [
    "colores = [\"azul\", \"blanco\", \"negro\"]\n",
    "nuevo_color = \"blanco\"\n",
    "if nuevo_color in colores:\n",
    "    print(\"Elemento ya existe en la lista\")\n",
    "else:\n",
    "    colores.append(nuevo_color)\n",
    "\n",
    "print(colores)\n"
   ]
  },
  {
   "cell_type": "markdown",
   "id": "04cd46c3-7670-41da-b423-5985050d1d50",
   "metadata": {},
   "source": [
    "### en ***tuplas***"
   ]
  },
  {
   "cell_type": "code",
   "execution_count": 122,
   "id": "d32cd0e7-9333-49d2-8a24-bcb67a0c25bb",
   "metadata": {},
   "outputs": [
    {
     "name": "stdout",
     "output_type": "stream",
     "text": [
      "Falso\n"
     ]
    }
   ],
   "source": [
    "miTupla = (1, 2, 3, 4, 5)\n",
    "if 3 in miTupla:\n",
    "    print(\"Correcto\")\n",
    "else:\n",
    "    print(\"Falso\")\n"
   ]
  },
  {
   "attachments": {},
   "cell_type": "markdown",
   "id": "d8d9d1d6-30c2-43e7-b1c1-adce037a7f89",
   "metadata": {},
   "source": [
    "### ***enumerate()***\n",
    "En Python, un bucle for generalmente se escribe como un bucle sobre un objeto iterable. \n",
    "Esto significa que no necesita una variable de recuento para acceder a los elementos del iterable. \n",
    "A veces, sin embargo, desea tener una variable que cambie en cada iteración del bucle. \n",
    "En lugar de crear e incrementar una variable, se puede usar enumerate() de Python para obtener un contador y el valor del iterable al mismo tiempo.\n",
    "La sintaxis es la siguiente:\n",
    "```\n",
    "enumerate(iterable, start=0)\n",
    "```\n",
    "Donde:\n",
    "Iterable: cualquier objeto que admita iteración.\n",
    "start: el valor del índice desde el cual se iniciará el contador, por defecto es 0"
   ]
  },
  {
   "cell_type": "code",
   "execution_count": 128,
   "id": "b0654079-79f2-4dfb-9d49-8f24dce1855b",
   "metadata": {},
   "outputs": [
    {
     "name": "stdout",
     "output_type": "stream",
     "text": [
      "Con inicio en 0\n",
      "0 H\n",
      "1 o\n",
      "2 l\n",
      "3 a\n",
      "4  \n",
      "5 m\n",
      "6 u\n",
      "7 n\n",
      "8 d\n",
      "9 o\n",
      "\n",
      "Con inicio diferente de 0\n",
      "1 H\n",
      "2 o\n",
      "3 l\n",
      "4 a\n",
      "5  \n",
      "6 m\n",
      "7 u\n",
      "8 n\n",
      "9 d\n",
      "10 o\n"
     ]
    }
   ],
   "source": [
    "# string\n",
    "print(\"Con inicio en 0\")\n",
    "cadena = \"Hola mundo\"\n",
    "for i, valor in enumerate(cadena):\n",
    "    print(i, valor)\n",
    "\n",
    "print(\"\\nCon inicio diferente de 0\")\n",
    "for i, valor in enumerate(cadena, 1):\n",
    "    print(i, valor)\n"
   ]
  },
  {
   "cell_type": "code",
   "execution_count": 129,
   "id": "ccefd967-e0a5-42f5-8457-9860dbc79256",
   "metadata": {},
   "outputs": [
    {
     "name": "stdout",
     "output_type": "stream",
     "text": [
      "0 manzana\n",
      "1 pera\n",
      "2 mango\n",
      "3 sandía\n",
      "4 melón\n",
      "5 plátano\n",
      "\n",
      "1 manzana\n",
      "2 pera\n",
      "3 mango\n",
      "4 sandía\n",
      "5 melón\n",
      "6 plátano\n"
     ]
    }
   ],
   "source": [
    "# listas\n",
    "frutas = [\"manzana\", \"pera\", \"mango\", \"sandía\", \"melón\", \"plátano\"]\n",
    "for i, fruta in enumerate(frutas):\n",
    "    print(i, fruta)\n",
    "print()\n",
    "for i, fruta in enumerate(frutas, 1):\n",
    "    print(i, fruta)\n"
   ]
  },
  {
   "cell_type": "code",
   "execution_count": 130,
   "id": "3476406f-844f-4730-aabe-082d4b3b6bdc",
   "metadata": {},
   "outputs": [
    {
     "name": "stdout",
     "output_type": "stream",
     "text": [
      "0 manzana\n",
      "1 pera\n",
      "2 mango\n",
      "3 sandía\n",
      "4 melón\n",
      "5 plátano\n",
      "\n",
      "1 manzana\n",
      "2 pera\n",
      "3 mango\n",
      "4 sandía\n",
      "5 melón\n",
      "6 plátano\n"
     ]
    }
   ],
   "source": [
    "# tuplas\n",
    "for i, fruta in enumerate(frutas):\n",
    "    print(i, fruta)\n",
    "\n",
    "print()\n",
    "\n",
    "for i, fruta in enumerate(frutas, 1):\n",
    "    print(i, fruta)\n"
   ]
  },
  {
   "attachments": {},
   "cell_type": "markdown",
   "id": "fd061f5c-6f04-4850-993c-e9a3749a8cbc",
   "metadata": {},
   "source": [
    "### Creando secuencia de números: ***range()***\n",
    "Sintaxis de range:\n",
    "```\n",
    "range(inicio, final, paso)\n",
    "```\n",
    "- Si se omite el inicio, comienza con el valor 0\n",
    "- Si se omite el paso, el valor por defecto es uno\n",
    "- El valor final nunca está incluido en el iterador generado"
   ]
  },
  {
   "cell_type": "code",
   "execution_count": 132,
   "id": "b2a868f0-7556-4c64-81e9-b14dd1dd524a",
   "metadata": {},
   "outputs": [
    {
     "name": "stdout",
     "output_type": "stream",
     "text": [
      "12\n",
      "0\n",
      "1\n",
      "2\n",
      "3\n",
      "4\n",
      "5\n",
      "6\n",
      "7\n",
      "8\n",
      "9\n",
      "10\n",
      "11\n"
     ]
    }
   ],
   "source": [
    "# Ejemplo de len y range\n",
    "holaMundo = \"Hola, mundo.\"\n",
    "print(len(holaMundo))\n",
    "\n",
    "for i in range(len(holaMundo)):\n",
    "    print(holaMundo[i])\n"
   ]
  },
  {
   "cell_type": "code",
   "execution_count": 133,
   "id": "a77cfc38-daa1-410c-bd60-7bae8e55e2ed",
   "metadata": {},
   "outputs": [
    {
     "name": "stdout",
     "output_type": "stream",
     "text": [
      "[2, 4, 6, 8, 10, 12, 14, 16, 18, 20, 22, 24, 26]\n"
     ]
    }
   ],
   "source": [
    "# Ejemplo\n",
    "# Generar una lista con \"n\" números pares\n",
    "def numPares(n):\n",
    "    lista1 = list(range(2, n*2+1, 2))\n",
    "    print(lista1)\n",
    "\n",
    "\n",
    "# Programa principal\n",
    "numero = 13\n",
    "numPares(numero)\n"
   ]
  },
  {
   "cell_type": "markdown",
   "id": "28177c3c-5f69-4b38-ac04-6e29e930c3c6",
   "metadata": {},
   "source": [
    "### ***Número aleatorios enteros***\n",
    "Sintaxis:\n",
    "```\n",
    "randint(a, b)\n",
    "```\n",
    "La función randint(a, b), genera números aleatorios enteros entre a y b, ambos (a y b) incluidos"
   ]
  },
  {
   "cell_type": "code",
   "execution_count": 162,
   "id": "a4423e4e-d65f-49c9-a5b3-dc47ea9359ab",
   "metadata": {},
   "outputs": [
    {
     "name": "stdout",
     "output_type": "stream",
     "text": [
      "2 1 1 3 2 "
     ]
    }
   ],
   "source": [
    "# Ejemplo 1\n",
    "# usando generación de números aleatorios enteros\n",
    "# Se usa la biblioteca randon\n",
    "# Se genera 5 números aleatorios entre 1 y 3\n",
    "import random\n",
    "\n",
    "for i in range(5):\n",
    "    print(random.randint(1, 3), end=\" \")\n"
   ]
  },
  {
   "cell_type": "code",
   "execution_count": 167,
   "id": "aee38990",
   "metadata": {},
   "outputs": [
    {
     "name": "stdout",
     "output_type": "stream",
     "text": [
      "['A'] ['B'] ['C'] ['D'] ['E'] ['F'] ['G'] ['H'] ['I'] ['J'] ['K'] ['L'] ['M'] ['N'] ['O'] ['P'] ['Q'] ['R'] ['S'] ['T'] ['U'] ['V'] ['W'] ['X'] ['Y'] ['Z'] "
     ]
    }
   ],
   "source": [
    "letras = (random.randint(65,90))\n",
    "for letras in range (65,91):\n",
    "    lista1= list(chr(letras))\n",
    "    print((lista1) ,end=\" \")"
   ]
  },
  {
   "cell_type": "code",
   "execution_count": 168,
   "id": "cd6bebc6-df0e-47e7-bb33-078ce227e12d",
   "metadata": {},
   "outputs": [
    {
     "name": "stdout",
     "output_type": "stream",
     "text": [
      "2 3 1 3 1 "
     ]
    }
   ],
   "source": [
    "# Ejemplo 2\n",
    "# Otra forma de hacer el import es la siguiente, es la más usual\n",
    "from random import randint\n",
    "\n",
    "for i in range(5):\n",
    "    print(randint(1, 3), end=\" \")\n"
   ]
  },
  {
   "cell_type": "code",
   "execution_count": 169,
   "id": "250544a4-359b-42ba-aaf4-9068fd31e278",
   "metadata": {},
   "outputs": [
    {
     "name": "stdout",
     "output_type": "stream",
     "text": [
      "[11, 3, 13, 4, 12, 17, 18, 10, 16, 13]\n"
     ]
    }
   ],
   "source": [
    "# Ejemplo 3\n",
    "# Generando listas con números aleatorios y usando range\n",
    "from random import randint\n",
    "\n",
    "lista3 = []\n",
    "for i in range(10):\n",
    "    lista3.append(randint(1, 20))\n",
    "\n",
    "print(lista3)\n"
   ]
  },
  {
   "attachments": {},
   "cell_type": "markdown",
   "id": "1dadae2e-85eb-4c6b-a2a9-af3dab4e8d95",
   "metadata": {},
   "source": [
    "### ***Funciones de usuario – pasar parámetros por valor y por referencia***\n",
    "#### ***Argumentos de las funciones***\n",
    "- ***Paso por valor y por referencia:***\n",
    "  - En muchos lenguajes de programación existen los conceptos de paso por valor y por referencia que aplican a la hora de como trata una función a los parámetros que se le pasan como entrada. Su comportamiento es el siguiente:\n",
    "    - Si usamos un parámetro pasado por valor, se creará una copia local de la variable, lo que implica que cualquier modificación sobre la misma no tendrá efecto sobre la original.\n",
    "    - Con una variable pasada por referencia, se actuará directamente sobre la variable pasada, por lo que las modificaciones afectarán a la variable original.\n",
    "  - En Python el comportamiento estará definido por el tipo de variable con la que estamos tratando\n",
    "  - Las variables numéricas, string se pasan por valor\n",
    "  - Las listas, dado que son mutables, se pasan por referencia"
   ]
  },
  {
   "cell_type": "code",
   "execution_count": 170,
   "id": "2fad60e2-aec6-4d54-b666-d6fa254c22ea",
   "metadata": {},
   "outputs": [
    {
     "name": "stdout",
     "output_type": "stream",
     "text": [
      "func_numerica valor de x =  20\n",
      "Programa principal valor de x =  10\n",
      "func_cadena valor de y =  Hola Mundo Hola Mundo \n",
      "Programa principal valor de y =  Hola Mundo \n"
     ]
    }
   ],
   "source": [
    "# Numéricas y string\n",
    "def func_numerica(entrada):\n",
    "    entrada = entrada * 2\n",
    "    print(\"func_numerica valor de x = \", entrada)\n",
    "\n",
    "\n",
    "def func_cadena(entrada):\n",
    "    entrada = entrada * 2\n",
    "    print(\"func_cadena valor de y = \", entrada)\n",
    "\n",
    "\n",
    "# Programa principal\n",
    "x = 10\n",
    "func_numerica(x)\n",
    "print(\"Programa principal valor de x = \", x)\n",
    "y = \"Hola Mundo \"\n",
    "func_cadena(y)\n",
    "print(\"Programa principal valor de y = \", y)\n"
   ]
  },
  {
   "cell_type": "code",
   "execution_count": 171,
   "id": "bc3649d8-a5a5-406f-a414-9c4b87bb9808",
   "metadata": {},
   "outputs": [
    {
     "name": "stdout",
     "output_type": "stream",
     "text": [
      "[10, 20, 30]\n",
      "Del programa principal 3012646367616\n",
      "De la función          3012646367616\n",
      "[10, 20, 30, 40]\n"
     ]
    }
   ],
   "source": [
    "# Listas, estas pasan por referencia\n",
    "def funcion(entrada):\n",
    "    entrada.append(40)\n",
    "    print(\"De la función         \", id(entrada))\n",
    "\n",
    "\n",
    "# Programa principal\n",
    "lista1 = [10, 20, 30]\n",
    "print(lista1)\n",
    "print(\"Del programa principal\", id(lista1))\n",
    "funcion(lista1)\n",
    "print(lista1)\n"
   ]
  },
  {
   "cell_type": "code",
   "execution_count": 175,
   "id": "b87c32d1-6354-4a1c-92d4-2830e9cf6ba1",
   "metadata": {},
   "outputs": [
    {
     "name": "stdout",
     "output_type": "stream",
     "text": [
      "Principal id =  3012645982784\n",
      "Función id =  3012646971648\n",
      "[10, 20, 30, 40]\n",
      "[10, 20, 30]\n"
     ]
    }
   ],
   "source": [
    "# Pasando una lista por valor\n",
    "def funcion(entrada):\n",
    "    entrada.append(40)\n",
    "    print(\"Función id = \", id(entrada))\n",
    "    print(entrada)\n",
    "\n",
    "\n",
    "# Programa principal\n",
    "lista1 = [10, 20, 30]\n",
    "print(\"Principal id = \", id(lista1))\n",
    "funcion(lista1[:])\n",
    "print(lista1)\n"
   ]
  },
  {
   "attachments": {},
   "cell_type": "markdown",
   "id": "3f88ea2a-004b-4ea0-903d-c843f28fb8cf",
   "metadata": {},
   "source": [
    "### ***Pasando argumentos de cantidad variable a funciones de usuario***\n",
    "- Para pasar argumentos de cantidad variable se usa un * antes del nombre del parámetro\n",
    "- La función recibe el valor como una tupla"
   ]
  },
  {
   "cell_type": "code",
   "execution_count": 179,
   "id": "bd9a54e0-fc96-4b8c-bf07-197a0caabeb2",
   "metadata": {},
   "outputs": [
    {
     "name": "stdout",
     "output_type": "stream",
     "text": [
      "<class 'tuple'>\n",
      "83\n",
      "<class 'tuple'>\n",
      "17\n"
     ]
    }
   ],
   "source": [
    "# Ejemplo con cantidad variables de argumentos\n",
    "def suma(*numeros):\n",
    "    print(type(numeros))\n",
    "    return sum(numeros)\n",
    "\n",
    "\n",
    "# Programa principal\n",
    "res = suma(1, 2, 4, 10, 100, -34)\n",
    "print(res)\n",
    "res = suma(1, 2, 4, 10)\n",
    "print(res)\n"
   ]
  },
  {
   "cell_type": "code",
   "execution_count": null,
   "id": "827dec15-4088-48be-82f9-f222299ffef6",
   "metadata": {},
   "outputs": [],
   "source": []
  }
 ],
 "metadata": {
  "kernelspec": {
   "display_name": "Python 3",
   "language": "python",
   "name": "python3"
  },
  "language_info": {
   "codemirror_mode": {
    "name": "ipython",
    "version": 3
   },
   "file_extension": ".py",
   "mimetype": "text/x-python",
   "name": "python",
   "nbconvert_exporter": "python",
   "pygments_lexer": "ipython3",
   "version": "3.13.1"
  }
 },
 "nbformat": 4,
 "nbformat_minor": 5
}
