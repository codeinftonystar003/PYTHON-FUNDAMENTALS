{
 "cells": [
  {
   "cell_type": "markdown",
   "id": "afd8f14f",
   "metadata": {
    "vscode": {
     "languageId": "bat"
    }
   },
   "source": [
    "ejercicio 1"
   ]
  },
  {
   "cell_type": "code",
   "execution_count": null,
   "id": "b969b721",
   "metadata": {},
   "outputs": [],
   "source": [
    "# temperatura\n",
    "while True : \n",
    "    try: \n",
    "        fahrenheit = float(input(\"Digite a temperatura em Fahrenheit: \"))\n",
    "        if  fahrenheit >= -459.67: \n",
    "            break\n",
    "    except ValueError: \n",
    "        print(\"Valor inválido. Tente novamente.\")\n",
    "        \n",
    "    \n",
    "valor = (fahrenheit - 32) * 1.8\n",
    "print(f\"A temperatura em Celsius é: {valor:.2f}°C\")"
   ]
  },
  {
   "cell_type": "markdown",
   "id": "9a8b2407",
   "metadata": {},
   "source": [
    "ejercicio 2\n"
   ]
  },
  {
   "cell_type": "code",
   "execution_count": 8,
   "id": "ce9e201f",
   "metadata": {},
   "outputs": [
    {
     "name": "stdout",
     "output_type": "stream",
     "text": [
      "el dato ingresado tiene 2 cifras\n"
     ]
    }
   ],
   "source": [
    "# ejercicio 2\n",
    "\n",
    "while True:\n",
    "    try:\n",
    "        numero = int(input(\"Ingrese un número entero positivo entre 1 y 100: \"))\n",
    "        if 1 <= numero <= 100:\n",
    "            break\n",
    "        else:\n",
    "            print(\"Número fuera del intervalo. Intente nuevamente.\")\n",
    "    except ValueError:\n",
    "        print(\"Valor inválido. Intente nuevamente.\")\n",
    "    \n",
    "if numero < 10:\n",
    "    print(\"el dato ingresado tiene 1 cifra\")\n",
    "elif numero < 100:\n",
    "    print(\"el dato ingresado tiene 2 cifras\")\n",
    "elif numero == 100:\n",
    "    print(\"el dato ingresado tiene 3 cifras\")\n",
    "else:\n",
    "    print(\"Error - número de 4 cifras.\")"
   ]
  },
  {
   "cell_type": "markdown",
   "id": "8e395cb6",
   "metadata": {},
   "source": [
    "ejercicio 3\n"
   ]
  },
  {
   "cell_type": "code",
   "execution_count": null,
   "id": "1e8215ac",
   "metadata": {},
   "outputs": [],
   "source": [
    "while True:\n",
    "    try:\n",
    "        n1 = int(input(\"Ingrese el primer número: \"))\n",
    "        n2 = int(input(\"Ingrese el segundo número: \"))\n",
    "        n3 = int(input(\"Ingrese el tercer número: \"))\n",
    "        if n1 > 0 and n2 > 0 and n3 > 0:\n",
    "            if n1 != n2 and n1 != n3 and n2 != n3:\n",
    "                break\n",
    "            else:\n",
    "                print(\"Los números deben ser diferentes. Intente nuevamente.\")\n",
    "        else:\n",
    "            print(\"Todos los números deben ser positivos. Intente nuevamente.\")\n",
    "    except ValueError:\n",
    "        print(\"Valor inválido. Intente nuevamente.\")\n",
    "    \n",
    "\n",
    "if n1 > n2 and n1 > n3:\n",
    "    mayor = n1\n",
    "elif n2 > n1 and n2 > n3:\n",
    "    mayor = n2\n",
    "else:\n",
    "    mayor = n3\n",
    "\n",
    "if n1< n2 and n1< n3:\n",
    "    menor = n1\n",
    "elif n2< n1 and n2< n3:\n",
    "    menor = n2\n",
    "else:\n",
    "    menor = n3\n",
    "\n",
    "print(f\"El número mayor es: {mayor}\")\n",
    "print(f\"El número menor es: {menor}\")"
   ]
  },
  {
   "cell_type": "markdown",
   "id": "98d83b58",
   "metadata": {},
   "source": [
    "ejercicio 4"
   ]
  },
  {
   "cell_type": "code",
   "execution_count": 21,
   "id": "07f4b5f1",
   "metadata": {},
   "outputs": [
    {
     "name": "stdout",
     "output_type": "stream",
     "text": [
      "SOBRESALIENTE\n"
     ]
    }
   ],
   "source": [
    "while True:\n",
    "    try:\n",
    "        nota = float(input(\"Ingrese la nota del alumno (0-10): \"))\n",
    "        if 0 <= nota <= 10:\n",
    "            break\n",
    "        else:\n",
    "            print(\"Nota fuera del rango. Intente nuevamente.\")\n",
    "    except ValueError:\n",
    "        print(\"Valor inválido. Intente nuevamente.\")\n",
    "\n",
    "if 0<= nota <= 4:\n",
    "    print(\"iNSUFICIENTE\")\n",
    "elif nota == 5:\n",
    "    print(\"SUFICIENTE\")\n",
    "elif nota == 6:\n",
    "    print(\"BIEN\")\n",
    "elif 7<= nota <= 8:\n",
    "    print(\"NOTABLE\")\n",
    "else:\n",
    "    print(\"SOBRESALIENTE\")"
   ]
  },
  {
   "cell_type": "markdown",
   "id": "e36c16a9",
   "metadata": {},
   "source": [
    "ejercicio 5"
   ]
  },
  {
   "cell_type": "code",
   "execution_count": 33,
   "id": "41319e07",
   "metadata": {},
   "outputs": [
    {
     "name": "stdout",
     "output_type": "stream",
     "text": [
      "El número 5 es impar y su doble es 10.\n"
     ]
    }
   ],
   "source": [
    "while True:\n",
    "    try:\n",
    "        numero = int(input(\"Ingrese un número entero positivo: \"))\n",
    "        if numero > 0:\n",
    "            break\n",
    "        else:\n",
    "            print(\"El número debe ser entero + . Intente nuevamente.\")\n",
    "    except ValueError:\n",
    "        print(\"Valor inválido. Intente nuevamente.\")\n",
    "\n",
    "if not numero % 2 == 0:\n",
    "    impar = numero\n",
    "    print(f\"El número {impar} es impar y su doble es {numero* 2}.\")\n",
    "else:\n",
    "    print(\"El número es par. Intente nuevamente.\")"
   ]
  },
  {
   "cell_type": "markdown",
   "id": "f85409c2",
   "metadata": {},
   "source": [
    "ejercicio 6\n"
   ]
  },
  {
   "cell_type": "code",
   "execution_count": 34,
   "id": "329a8e52",
   "metadata": {},
   "outputs": [
    {
     "name": "stdout",
     "output_type": "stream",
     "text": [
      "La diferencia entre los años es: 12 años\n"
     ]
    }
   ],
   "source": [
    "cadena1 = \"El tercer campeonato mundial de fútbol fue en 1938\"\n",
    "cadena2 = \"El cuarto campeonato mundial de fútbol fue en 1950\"\n",
    "\n",
    "año1 = int(cadena1[-4:])\n",
    "año2 = int(cadena2[-4:])\n",
    "\n",
    "diferencia = año2 - año1\n",
    "print(f\"La diferencia entre los años es: {diferencia} años\")\n"
   ]
  },
  {
   "cell_type": "markdown",
   "id": "49765637",
   "metadata": {},
   "source": [
    "ejercicio 7"
   ]
  },
  {
   "cell_type": "code",
   "execution_count": 54,
   "id": "b5eac5ec",
   "metadata": {},
   "outputs": [
    {
     "name": "stdout",
     "output_type": "stream",
     "text": [
      " que el 202 sea un mundo maravilloso y  sostenible\n"
     ]
    }
   ],
   "source": [
    "\"\"\"Se tiene la siguiente frase: “2025 maravilloso el sostenible que sea mundo un\n",
    "y”. Empleando slicing, elabore la frase: “Que el 202 sea un mundo maravilloso\n",
    "y sostenible”\"\"\"\n",
    "\n",
    "cadena = \"2025 maravilloso el sostenible que sea mundo un y\"\n",
    "nueva_cadena = (f\" {cadena[-18:-15]} {cadena[17:19]} { cadena[:3]} {cadena[-14:-11]}\"\n",
    "                f\" {cadena[-4:-2]} {cadena[-10:-5]} {cadena[5:16]} {cadena[-1]} {cadena[19:30]}\") \n",
    "\n",
    "print(nueva_cadena)"
   ]
  },
  {
   "cell_type": "markdown",
   "id": "8d43b0e9",
   "metadata": {},
   "source": [
    "ejercicio 8"
   ]
  },
  {
   "cell_type": "code",
   "execution_count": 63,
   "id": "ec313ce7",
   "metadata": {},
   "outputs": [
    {
     "name": "stdout",
     "output_type": "stream",
     "text": [
      "es más\n",
      "En el mar\n",
      "más sabrosa\n",
      "ram le\n"
     ]
    }
   ],
   "source": [
    "cadena_v = \"En el mar, la vida es más sabrosa\"\n",
    "cadenaN = cadena[-14:-8]\n",
    "print(cadenaN)\n",
    "cadenaM = cadena[:9]\n",
    "print(cadenaM)\n",
    "cadenaP = cadena[-11:]\n",
    "print(cadenaP)\n",
    "cadenaQ = cadena[3:9]\n",
    "print(cadenaQ[::-1])"
   ]
  },
  {
   "cell_type": "markdown",
   "id": "532294f0",
   "metadata": {},
   "source": [
    "ejercicio 9\n"
   ]
  },
  {
   "cell_type": "code",
   "execution_count": null,
   "id": "22d7a01d",
   "metadata": {},
   "outputs": [
    {
     "name": "stdout",
     "output_type": "stream",
     "text": [
      "Orden descendente: 9, 8, 4\n",
      "Orden ascendente: 4, 8, 9\n"
     ]
    }
   ],
   "source": [
    "# Mayor numero\n",
    "def Mayor(a, b ,c): \n",
    "    mayor = 0\n",
    "    if a > b and a > c:\n",
    "        mayor = a\n",
    "    elif b > a and b > c:\n",
    "        mayor = b\n",
    "    else:\n",
    "        mayor = c\n",
    "    return mayor\n",
    "\n",
    "# Menor numero\n",
    "def Menor(a, b ,c):\n",
    "    menor = 0\n",
    "    if a < b and a < c:\n",
    "        menor = a\n",
    "    elif b < a and b < c:\n",
    "        menor = b\n",
    "    else:\n",
    "        menor = c\n",
    "    return menor\n",
    "\n",
    "# ordenar descendentemente los numeros\n",
    "def Ordenar_numeros(a, b, c):\n",
    "    mayor = Mayor(a, b, c)\n",
    "    menor = Menor(a, b, c)\n",
    "    medio = a + b + c - mayor - menor\n",
    "    print(\"Orden descendente:\" ,mayor, medio, menor)\n",
    "\n",
    "def main():\n",
    "    while True:\n",
    "        try: \n",
    "            a = int(input(\"Ingrese el primer número: \"))\n",
    "            b = int(input(\"Ingrese el segundo número: \"))\n",
    "            c = int(input(\"Ingrese el tercer número: \"))\n",
    "            if a > 0 and b > 0 and c > 0:\n",
    "                break\n",
    "            else:\n",
    "                print(\"Los números deben ser positivos. Intente nuevamente.\")\n",
    "        except ValueError:\n",
    "            print(\"Datos invalidos. Intente nuevamente.\")\n",
    "    \n",
    "    Mayor(a, b, c)\n",
    "    Menor(a, b, c)\n",
    "    Ordenar_numeros(a, b, c)\n",
    "    \n",
    "main()      "
   ]
  },
  {
   "cell_type": "markdown",
   "id": "b28afae4",
   "metadata": {},
   "source": [
    "ejercicio 10"
   ]
  },
  {
   "cell_type": "code",
   "execution_count": null,
   "id": "e7758a34",
   "metadata": {},
   "outputs": [],
   "source": [
    "def ingresar_datos():\n",
    "    while True:\n",
    "        escala = input(\"Ingrese la escala de pago (A, B,C): \").upper()\n",
    "        if escala == \"A\" or escala == \"B\" or escala == \"C\" or escala == \"D\":\n",
    "            break\n",
    "        else:\n",
    "            print(\"Escala inválida. Intente nuevamente.\")\n",
    "    while True:\n",
    "        try:\n",
    "            cursos = int(input(\"Ingrese la cantidad de cursos: \"))\n",
    "            if cursos > 0:\n",
    "                break\n",
    "            else:\n",
    "                print(\"La cantidad de cursos debe ser positiva. Intente nuevamente.\")\n",
    "        except ValueError:\n",
    "            print(\"Valor inválido. Intente nuevamente.\")\n",
    "    return escala, cursos\n",
    "\n",
    "def validar_importe(escala, cursos):\n",
    "    if escala == \"A\":\n",
    "        if 1<= cursos <= 5:\n",
    "            importe = 350 + 400\n",
    "        elif cursos <= 8:\n",
    "            importe = 350 + 600\n",
    "        else:\n",
    "            importe = 350 + 900\n",
    "                    \n",
    "    elif escala == \"B\":\n",
    "        if 1<= cursos <= 3:\n",
    "            importe = 350 + 350\n",
    "        elif cursos <= 7:\n",
    "            importe = 350 + 500\n",
    "        else:\n",
    "            importe =350  + 700\n",
    "            \n",
    "    elif escala == \"C\":\n",
    "        if 1<= cursos <= 3:\n",
    "            importe = 350 + 320\n",
    "        elif cursos <= 7:\n",
    "            importe = 350 + 480\n",
    "        else:\n",
    "            importe = 350 + 685\n",
    "            \n",
    "    elif escala == \"D\":\n",
    "        if 1<= cursos <= 4:\n",
    "            importe = 350 + 310\n",
    "        elif cursos <= 8:\n",
    "            importe = 350 + 475\n",
    "        else:\n",
    "            importe = 350 + 680\n",
    "    print(f\"El importe a pagar es: {importe} s/ \")\n",
    "        \n",
    "def main():\n",
    "    escala, cursos = ingresar_datos()\n",
    "    validar_importe(escala, cursos)\n",
    "    \n",
    "main()\n",
    "    "
   ]
  },
  {
   "cell_type": "markdown",
   "id": "1f9e07b9",
   "metadata": {},
   "source": [
    "Ejercicio 11"
   ]
  },
  {
   "cell_type": "code",
   "execution_count": null,
   "id": "1b3609bf",
   "metadata": {},
   "outputs": [],
   "source": []
  },
  {
   "cell_type": "markdown",
   "id": "7d91be4f",
   "metadata": {},
   "source": [
    "Ejercicio 12"
   ]
  },
  {
   "cell_type": "code",
   "execution_count": 7,
   "id": "b2fcbca7",
   "metadata": {},
   "outputs": [
    {
     "name": "stdout",
     "output_type": "stream",
     "text": [
      "El número debe tener entre 3 y 5 cifras. Intente nuevamente.\n",
      "El número 11023 no es capicúa. La suma de 11023 + 32011 es: 43034.\n"
     ]
    }
   ],
   "source": [
    "\n",
    "def Ingresar_numero():\n",
    "    while True:\n",
    "        try:\n",
    "            numero = int(input(\"Ingrese un numero de 3, 4 o 5 cifras: \"))\n",
    "            if 100 <= numero <= 99999:\n",
    "                break\n",
    "            else:\n",
    "                print(\"El número debe tener entre 3 y 5 cifras. Intente nuevamente.\")\n",
    "        except ValueError:\n",
    "            print(\"Valor inválido. Intente nuevamente.\")\n",
    "    return numero\n",
    "\n",
    "def EsCapicua(numero):\n",
    "    num_str = str(numero)\n",
    "    if num_str == num_str[::-1]:\n",
    "        print(f\"El número {numero} es capicúa.\")\n",
    "    else:\n",
    "        inverso = int(num_str[::-1])\n",
    "        suma = numero + inverso\n",
    "        print(f\"El número {numero} no es capicúa. La suma de {numero} + {inverso} es: {suma}.\")\n",
    "\n",
    "def main():\n",
    "    numero = Ingresar_numero()\n",
    "    EsCapicua(numero)\n",
    "\n",
    "main()"
   ]
  }
 ],
 "metadata": {
  "kernelspec": {
   "display_name": "Python 3",
   "language": "python",
   "name": "python3"
  },
  "language_info": {
   "codemirror_mode": {
    "name": "ipython",
    "version": 3
   },
   "file_extension": ".py",
   "mimetype": "text/x-python",
   "name": "python",
   "nbconvert_exporter": "python",
   "pygments_lexer": "ipython3",
   "version": "3.12.8"
  }
 },
 "nbformat": 4,
 "nbformat_minor": 5
}
