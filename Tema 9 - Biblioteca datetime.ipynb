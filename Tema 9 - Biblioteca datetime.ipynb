{
 "cells": [
  {
   "cell_type": "markdown",
   "id": "f4bef20a-16cd-4d27-9439-13d7feed5be0",
   "metadata": {
    "id": "1EAEY9pZRFDD"
   },
   "source": [
    "# ***datetime***\n",
    "- Python ofrece un módulo datetime que nos permite manipular la fecha y la hora de muchas maneras.\n",
    "- Tiene 5 clase de objetos, en el curso veremos 4 de ellos\n",
    "### ***Class datetime.date***\n",
    "- Nos permite manipular las fechas, asumiendo el calendario gregoriano actual.\n",
    "- Nos permite manipular la fecha sin interferir con el tiempo\n",
    "- Atributos: year, month, y day.\n",
    "\n",
    "### ***Class datetime.time***\n",
    "- Nos permite manipular la hora, asumiendo que cada día tiene exactamente 24 * 60 * 60 segundos.\n",
    "- Nos permite manipular el tiempo sin interferir con la fecha\n",
    "- Atributos: hour, minute, second, microsecond.\n",
    "\n",
    "### ***Class datetime.datetime***\n",
    "- Nos permite manipular la combinación de fecha y hora.\n",
    "- Atributos: year, month, day, hour, minute, second, microsecond.\n",
    "\n",
    "### ***Class datetime.timedelta***\n",
    "- Duración que expresa la diferencia entre dos date, time, o datetime."
   ]
  },
  {
   "cell_type": "markdown",
   "id": "85a06d79-372b-45e3-b4a5-5c20437a4684",
   "metadata": {},
   "source": [
    "### ***1. Usando datetime.date***\n",
    "Cuando se crea una instancia de un objeto de esta clase, representa una fecha con el formato AAAA-MM-DD. El constructor de esta clase necesita tres argumentos obligatorios year, month y day.\n",
    "- Sintaxis:\n",
    "  - date(year, month, day)\n",
    "Los argumentos deben estar en el siguiente rango:\n",
    "- MINYEAR <= year <= MAXYEAR\n",
    "- 1 <= month <= 12\n",
    "- 1 <= day <= Número de días En el mes y año dado\n",
    "\n",
    "MINYEAR = 1, MAXYEAR = 9999"
   ]
  },
  {
   "cell_type": "code",
   "execution_count": null,
   "id": "0feae487-77e0-4c27-934a-f790361c695a",
   "metadata": {},
   "outputs": [
    {
     "name": "stdout",
     "output_type": "stream",
     "text": [
      "2024-07-28 <class 'datetime.date'>\n",
      "2023-12-25\n"
     ]
    }
   ],
   "source": [
    "# Ejemplo 1\n",
    "# generando una variable de fecha\n",
    "from datetime import date # importando el date\n",
    "\n",
    "fecha = date(2024, 7, 28) # asignando la variable fecha a date(year,mont,day)\n",
    "print(fecha, type(fecha))\n",
    "\n",
    "#asignando las fechas\n",
    "aaaa = 2023\n",
    "mm = 12\n",
    "dd = 25\n",
    "\n",
    "navidad = date(aaaa, mm, dd) # asignando las fechas a la variable navidad\n",
    "print(navidad)\n"
   ]
  },
  {
   "cell_type": "markdown",
   "id": "6afb2d73-382d-4dcc-af88-563e917a3535",
   "metadata": {},
   "source": [
    "#### El método ***today()***"
   ]
  },
  {
   "cell_type": "code",
   "execution_count": 9,
   "id": "bb762616-8814-4d28-a8ee-cc33c1a41490",
   "metadata": {},
   "outputs": [
    {
     "name": "stdout",
     "output_type": "stream",
     "text": [
      "2025-02-19\n",
      "2025/2/19\n"
     ]
    }
   ],
   "source": [
    "# Ejemplo 2\n",
    "from datetime import date\n",
    "\n",
    "hoy = date.today()\n",
    "print(hoy)\n",
    "print(f\"{hoy.year}/{hoy.month}/{hoy.day}\")\n"
   ]
  },
  {
   "cell_type": "markdown",
   "id": "2018caca-a18d-4d98-8a64-dfefb6f86767",
   "metadata": {},
   "source": [
    "#### El método ***isoweekday()***\n",
    "Devuelve un número de 1 al 7, donde 1 es lunes y 7 domingo"
   ]
  },
  {
   "cell_type": "code",
   "execution_count": 2,
   "id": "5ab53897-acd9-44a8-8050-065d6f274cca",
   "metadata": {},
   "outputs": [
    {
     "name": "stdout",
     "output_type": "stream",
     "text": [
      "Miercoles\n"
     ]
    }
   ],
   "source": [
    "# Ejemplo 3\n",
    "from datetime import date\n",
    "\n",
    "\n",
    "class Fecha:\n",
    "    def __init__(self, aaaa, mm, dd):\n",
    "        self.aaaa = aaaa\n",
    "        self.mm = mm\n",
    "        self.dd = dd\n",
    "        self.fecha = date(self.aaaa, self.mm, self.dd)\n",
    "\n",
    "    def nombreDia(self):\n",
    "        diaSemana = self.fecha.isoweekday()\n",
    "        match diaSemana:\n",
    "            case 1: print(\"Lunes\")\n",
    "            case 2: print(\"Martes\")\n",
    "            case 3: print(\"Miercoles\")\n",
    "            case 4: print(\"Jueves\")\n",
    "            case 5: print(\"Viernes\")\n",
    "            case 6: print(\"Sábado\")\n",
    "            case 7: print(\"Domingo\")\n",
    "\n",
    "\n",
    "# Programa principal\n",
    "fecha1 = Fecha(2100, 4, 21)\n",
    "fecha1.nombreDia()\n"
   ]
  },
  {
   "cell_type": "code",
   "execution_count": 15,
   "id": "df6a5742-aaa1-47ff-a41a-b6fdc32fc5d0",
   "metadata": {},
   "outputs": [
    {
     "name": "stdout",
     "output_type": "stream",
     "text": [
      "La fecha 2025-02-19 cae Miercoles\n",
      "La fecha 2025-12-24 cae Miercoles\n"
     ]
    }
   ],
   "source": [
    "# Ejemplo 4\n",
    "from datetime import date\n",
    "\n",
    "\n",
    "class Fecha:\n",
    "    def __init__(self, aaaa, mm, dd):\n",
    "        self.aaaa = aaaa\n",
    "        self.mm = mm\n",
    "        self.dd = dd\n",
    "        self.fecha = date(self.aaaa, self.mm, self.dd)\n",
    "\n",
    "    def nombreDia(self):\n",
    "\n",
    "        diaSemana = self.fecha.isoweekday()\n",
    "        nombreDia = diasSemana[diaSemana]\n",
    "        print(f\"La fecha {self.fecha} cae {diasSemana[self.fecha.isoweekday()]}\")\n",
    "\n",
    "\n",
    "# Programa principal\n",
    "diasSemana = {\n",
    "    1: \"Lunes\",\n",
    "    2: \"Martes\",\n",
    "    3: \"Miercoles\",\n",
    "    4: \"Jueves\",\n",
    "    5: \"Viernes\",\n",
    "    6: \"Sábado\",\n",
    "    7: \"Domingo\",\n",
    "}\n",
    "fecha2 = Fecha(date.today().year, date.today().month, date.today().day)\n",
    "fecha2.nombreDia()\n",
    "fecha3 = Fecha(2025, 12, 24)\n",
    "fecha3.nombreDia()\n"
   ]
  },
  {
   "cell_type": "code",
   "execution_count": 16,
   "id": "56005568-14f1-4ee4-9fc0-f6746eb77af3",
   "metadata": {},
   "outputs": [
    {
     "name": "stdout",
     "output_type": "stream",
     "text": [
      "El 2/19 en el año 2009 cayó Jueves\n",
      "El 2/19 en el año 2010 cayó Viernes\n",
      "El 2/19 en el año 2011 cayó Sábado\n",
      "El 2/19 en el año 2012 cayó Domingo\n",
      "El 2/19 en el año 2013 cayó Martes\n",
      "El 2/19 en el año 2014 cayó Miercoles\n",
      "El 2/19 en el año 2015 cayó Jueves\n",
      "El 2/19 en el año 2016 cayó Viernes\n",
      "El 2/19 en el año 2017 cayó Domingo\n",
      "El 2/19 en el año 2018 cayó Lunes\n",
      "El 2/19 en el año 2019 cayó Martes\n",
      "El 2/19 en el año 2020 cayó Miercoles\n",
      "El 2/19 en el año 2021 cayó Viernes\n",
      "El 2/19 en el año 2022 cayó Sábado\n",
      "El 2/19 en el año 2023 cayó Domingo\n",
      "El 2/19 en el año 2024 cayó Lunes\n",
      "El 2/19 en el año 2025 cayó Miercoles\n"
     ]
    }
   ],
   "source": [
    "# Ejemplo 5\n",
    "# Obtener el día de la semana para un día como hoy desde 2009 hasta el presente año\n",
    "from datetime import date\n",
    "\n",
    "\n",
    "class Fecha:\n",
    "    def __init__(self, aaBase, aaActual, mm, dd):\n",
    "        self.aaBase = aaBase\n",
    "        self.aaActual = aaActual\n",
    "        self.mm = mm\n",
    "        self.dd = dd\n",
    "        self.diasSemana = {\n",
    "            1: \"Lunes\",\n",
    "            2: \"Martes\",\n",
    "            3: \"Miercoles\",\n",
    "            4: \"Jueves\",\n",
    "            5: \"Viernes\",\n",
    "            6: \"Sábado\",\n",
    "            7: \"Domingo\",\n",
    "        }\n",
    "\n",
    "    def imprimirDias(self):\n",
    "        for i in range(self.aaBase, self.aaActual + 1):\n",
    "            nomDia = self.diasSemana[date(i, self.mm, self.dd).isoweekday()]\n",
    "            print(f\"El {self.mm}/{self.dd} en el año {i} cayó {nomDia}\")\n",
    "\n",
    "\n",
    "def main():\n",
    "    hoy = date.today()\n",
    "    aaBase = 2009\n",
    "    aaActual = hoy.year\n",
    "    mes = hoy.month\n",
    "    dia = hoy.day\n",
    "    fecha1 = Fecha(aaBase, aaActual, mes, dia)\n",
    "    fecha1.imprimirDias()\n",
    "\n",
    "\n",
    "# Programa principal\n",
    "main()\n"
   ]
  },
  {
   "cell_type": "markdown",
   "id": "07b6150d-2ddf-44f5-b0f7-7736663800f8",
   "metadata": {},
   "source": [
    "### ***2. Usando datetime.time***\n",
    "La clase time crea el objeto time que representa la hora local, independientemente de cualquier día.\n",
    "- Sintaxis básica:\n",
    "  - time(hour=0, minute=0, second=0, microsecond=0)\n",
    "- Todos los argumentos son opcionales y tienen valores por defecto\n",
    "Esta clase tiene los siguientes principales atributos:\n",
    "- 0 <= hora < 24\n",
    "- 0 <= minuto < 60\n",
    "- 0 <= segundo < 60\n",
    "- 0 <= microsegundo < 1000000"
   ]
  },
  {
   "cell_type": "code",
   "execution_count": 3,
   "id": "21af610a-6548-4836-a312-02d5ae6ea5dd",
   "metadata": {},
   "outputs": [
    {
     "name": "stdout",
     "output_type": "stream",
     "text": [
      "Hora introducida 13:24:56\n",
      "\n",
      "El tiempo con un argumento 00:12:00\n",
      "\n",
      "Tiempo sin argumentos 00:00:00\n"
     ]
    }
   ],
   "source": [
    "# Ejemplo 6\n",
    "from datetime import time\n",
    "\n",
    "# Creando la variable de hora\n",
    "miTiempo = time(13, 24, 56)\n",
    "print(\"Hora introducida\", miTiempo)\n",
    "\n",
    "# con 1 argumento\n",
    "miTiempo = time(minute=12)\n",
    "print(\"\\nEl tiempo con un argumento\", miTiempo)\n",
    "\n",
    "# con 0 argumentos\n",
    "miTiempo = time()\n",
    "print(\"\\nTiempo sin argumentos\", miTiempo)\n",
    "\n"
   ]
  },
  {
   "cell_type": "code",
   "execution_count": null,
   "id": "33236d39-2003-40be-bba4-d137295cc519",
   "metadata": {},
   "outputs": [
    {
     "name": "stdout",
     "output_type": "stream",
     "text": [
      "hora = 11\n",
      "minuto = 34\n",
      "segundo = 56\n",
      "microsegundo = 0\n"
     ]
    }
   ],
   "source": [
    "# Ejemplo 7\n",
    "# Después de crear un objeto de tiempo,\n",
    "# sus atributos también se pueden imprimir por separado.\n",
    "from datetime import time\n",
    "\n",
    "hora = time(11, 34, 56)\n",
    "\n",
    "print(\"hora =\", hora.hour)\n",
    "print(\"minuto =\", hora.minute)\n",
    "print(\"segundo =\", hora.second)\n",
    "print(\"microsegundo =\", hora.microsecond)"
   ]
  },
  {
   "cell_type": "markdown",
   "id": "0231b3f1-b600-4d02-a50d-1de319c1e1cc",
   "metadata": {},
   "source": [
    "### ***3. Usando datetime.datetime***\n",
    "La clase DateTime contiene información sobre la fecha y la hora. Al igual que un objeto de fecha, datetime asume que el calendario gregoriano actual. Al igual que un objeto de tiempo, DateTime asume que hay exactamente 3600 * 24 segundos en cada día.\n",
    "- Sintaxis básica\n",
    "  - datetime(year, month, day, hour=0, minute=0, second=0, microsecond=0)\n",
    "Los argumentos year, month y day son obligatorios. El resto de los atributos deben ser un número entero en el siguiente rango:\n",
    "- MINYEAR <= year <= MAXYEAR\n",
    "- 1 <= month <= 12\n",
    "- 1 <= day <= Número de días En el mes y año dado\n",
    "- 0 <= hour < 24\n",
    "- 0 <= minute < 60\n",
    "- 0 <= second < 60\n",
    "- 0 <= microsecond < 1000000\n",
    "Al pasar un argumento que no sea un número entero, se generará un TypeError y al pasar argumentos fuera del rango se generará ValueError.\n",
    "\n",
    "MINYEAR = 1, MAXYEAR = 9999"
   ]
  },
  {
   "cell_type": "code",
   "execution_count": 13,
   "id": "975a1643-41cc-45af-a1d2-79eaceeeb1f9",
   "metadata": {},
   "outputs": [
    {
     "name": "stdout",
     "output_type": "stream",
     "text": [
      "1999-12-12 00:00:00\n",
      "1999-12-12 12:12:12.342380\n"
     ]
    }
   ],
   "source": [
    "# Ejemplo 8\n",
    "from datetime import datetime\n",
    "\n",
    "# Con parámetros mínimos\n",
    "a = datetime(1999, 12, 12)\n",
    "print(a)\n",
    "\n",
    "# Incluyendo parámetros de tiempo\n",
    "a = datetime(1999, 12, 12, 12, 12, 12, 342380)\n",
    "print(a)\n"
   ]
  },
  {
   "cell_type": "code",
   "execution_count": 14,
   "id": "f1454bf2-7a16-4067-a6a6-3fc4ee580787",
   "metadata": {},
   "outputs": [
    {
     "name": "stdout",
     "output_type": "stream",
     "text": [
      "año = 2024\n",
      "mes = 12\n",
      "hora = 12\n",
      "minuto = 12\n"
     ]
    }
   ],
   "source": [
    "# Ejemplo 9\n",
    "from datetime import datetime\n",
    " \n",
    "a = datetime(2024, 12, 12, 12, 12, 12)\n",
    " \n",
    "print(\"año =\", a.year)\n",
    "print(\"mes =\", a.month)\n",
    "print(\"hora =\", a.hour)\n",
    "print(\"minuto =\", a.minute)\n"
   ]
  },
  {
   "cell_type": "markdown",
   "id": "7da313df-0015-4c09-a41e-4b75f6836723",
   "metadata": {},
   "source": [
    "### ***Fecha y hora actuales***\n",
    "Puede imprimir la fecha y hora actuales utilizando la función Datetime.now(). now() devuelve la fecha y hora locales actuales.\n"
   ]
  },
  {
   "cell_type": "code",
   "execution_count": 15,
   "id": "0eae72a6-c961-45f3-a319-dc5c53316b82",
   "metadata": {},
   "outputs": [
    {
     "name": "stdout",
     "output_type": "stream",
     "text": [
      "La fecha y hora actuales son 2024-09-18 12:45:40.902495\n"
     ]
    }
   ],
   "source": [
    "# Ejemplo 10\n",
    "from datetime import datetime\n",
    "\n",
    "hoy = datetime.now()\n",
    "print(\"La fecha y hora actuales son\", hoy)\n"
   ]
  },
  {
   "cell_type": "markdown",
   "id": "282dae61-9ead-44bc-ae22-05b6f2ca4a8a",
   "metadata": {},
   "source": [
    "### ***4. Usando datetime.timedelta***\n",
    "La clase timedelta de Python se usa para calcular diferencias en fechas y también se puede usar para manipulaciones de fechas en Python. Es una de las formas más fáciles de realizar manipulaciones de fechas.\n",
    "- Sintaxis básica\n",
    "  - timedelta(days=0, seconds=0, microseconds=0, milliseconds=0, minutes=0, hours=0, weeks=0)"
   ]
  },
  {
   "cell_type": "code",
   "execution_count": null,
   "id": "94ab0c40-1149-437a-aa8f-db8abe3d6f16",
   "metadata": {},
   "outputs": [
    {
     "name": "stdout",
     "output_type": "stream",
     "text": [
      "fecha inicial 2025-02-20 12:08:51.878533\n",
      "fecha futura 2 años: 2027-02-20 12:08:51.878533\n",
      "fecha futura 2 dias: 2025-02-22 12:08:51.878533\n"
     ]
    }
   ],
   "source": [
    "# Ejemplo 11\n",
    "from datetime import datetime, timedelta\n",
    "\n",
    "# Uso de la hora actual\n",
    "fechaInicial = datetime.now()\n",
    "\n",
    "# Impresión de la fecha inicial\n",
    "print(\"fecha inicial\", str(fechaInicial))\n",
    "\n",
    "# Cálculo de fechas futuras para dos años y dos días\n",
    "fechaFutura2AAAA = fechaInicial + timedelta(days=730)\n",
    "\n",
    "fechaFutura2Dias = fechaInicial + timedelta(days=2)\n",
    "\n",
    "# Impresión de fechas futuras calculadas\n",
    "print(\"fecha futura 2 años:\", str(fechaFutura2AAAA))\n",
    "print(\"fecha futura 2 dias:\", str(fechaFutura2Dias))\n"
   ]
  },
  {
   "cell_type": "code",
   "execution_count": 17,
   "id": "4159fcbf-91d2-4607-b17b-ed8ad9cfd196",
   "metadata": {},
   "outputs": [
    {
     "name": "stdout",
     "output_type": "stream",
     "text": [
      "Fecha Inicial 2024-09-18 12:49:19.150322\n",
      "Fecha Final 2024-09-20 12:49:19.150322\n",
      "Diferencia: 2 days, 0:00:00\n"
     ]
    }
   ],
   "source": [
    "# Ejemplo 12\n",
    "# Diferencia entre dos fechas y horas\n",
    "# Las diferencias de fecha y hora también se pueden encontrar usando esta clase.\n",
    "\n",
    "# Demostración de la función Timedelta\n",
    "from datetime import datetime, timedelta\n",
    "\n",
    "# Inicio\n",
    "fechaInicial = datetime.now()\n",
    "\n",
    "# Imprimiendo de fecha inicial\n",
    "print(f\"Fecha Inicial {fechaInicial}\")\n",
    "\n",
    "# Otra fecha\n",
    "fechaFinal = fechaInicial + timedelta(days=2)\n",
    "\n",
    "# Imprimiendo fecha Final\n",
    "print(f\"Fecha Final {fechaFinal}\")\n",
    "\n",
    "# Imprimiendo diferencia de días.\n",
    "print(f\"Diferencia: {fechaFinal - fechaInicial}\")\n"
   ]
  },
  {
   "cell_type": "code",
   "execution_count": 10,
   "id": "9d64868f-a0f7-477c-bb41-eb3b6f8dc3d0",
   "metadata": {},
   "outputs": [
    {
     "name": "stdout",
     "output_type": "stream",
     "text": [
      "Fecha Inicial 2025-02-20\n",
      "Fecha Final 2025-02-22\n",
      "Diferencia: 2 days, 0:00:00\n",
      "FechaFinal > FechaInicial: True\n"
     ]
    }
   ],
   "source": [
    "# Ejemplo 13\n",
    "# También se puede hacer con date\n",
    "\n",
    "# Demostración de la función Timedelta\n",
    "from datetime import date, timedelta\n",
    "\n",
    "# Inicio\n",
    "fechaInicial = date.today()\n",
    "\n",
    "# Imprimiendo de fecha inicial\n",
    "print(f\"Fecha Inicial {fechaInicial}\")\n",
    "\n",
    "# Otra fecha\n",
    "fechaFinal = fechaInicial + timedelta(days=2)\n",
    "\n",
    "# Imprimiendo fecha Final\n",
    "print(f\"Fecha Final {fechaFinal}\")\n",
    "\n",
    "# Imprimiendo diferencia de días.\n",
    "print(f\"Diferencia: {fechaFinal - fechaInicial}\")\n",
    "\n",
    "# Comparar dos fechas\n",
    "print(f\"FechaFinal > FechaInicial: {fechaFinal > fechaInicial}\")\n"
   ]
  },
  {
   "cell_type": "markdown",
   "id": "76a2057b-7afc-4397-afb0-7fbf927992b3",
   "metadata": {},
   "source": [
    "- Una acción de mucha importancia cuando se programa temas complejos con fechas es el cálculo de la diferencia de días entre fechas.\n",
    "- A continuación mostraremos ejemplos adicionales de como realizar esto\n",
    "- Es preciso señalar que cuando se calcula la diferencia de días entre dos fechas, se obtiene un objeto de la clase timedelta, y este objeto tiene el atributo ***days***, que nos permite obtener la diferencia de días como un entero\n"
   ]
  },
  {
   "cell_type": "code",
   "execution_count": 13,
   "id": "56913837-8b7c-4e84-97d9-129755d2af94",
   "metadata": {},
   "outputs": [
    {
     "name": "stdout",
     "output_type": "stream",
     "text": [
      "2025-03-01\n",
      "2025-02-20\n",
      "9 days, 0:00:00\n",
      "El tipo de datos dif <class 'datetime.timedelta'>\n",
      "El tipo de datos difdias <class 'int'>\n",
      "El número de dias como entero 9\n"
     ]
    }
   ],
   "source": [
    "# Ejemplo 14\n",
    "# Hallando la diferencia de días entre fechas\n",
    "from datetime import datetime, date, time, timedelta\n",
    "\n",
    "\n",
    "lunes = date(2025, 3, 1)\n",
    "print(lunes)\n",
    "hoy = date.today()\n",
    "print(hoy)\n",
    "\n",
    "dif = (lunes - hoy )\n",
    "print(dif)\n",
    "print(f\"El tipo de datos dif {type(dif)}\")\n",
    "# dif es una clase de tipo datetime.timedelta, luego tiene el atributo days\n",
    "difdias = dif.days\n",
    "print(f\"El tipo de datos difdias {type(difdias)}\")\n",
    "print(f\"El número de dias como entero {difdias}\")\n"
   ]
  },
  {
   "cell_type": "code",
   "execution_count": 18,
   "id": "0acf4769-6ee5-4096-ae6e-15d953678be6",
   "metadata": {},
   "outputs": [
    {
     "name": "stdout",
     "output_type": "stream",
     "text": [
      "Fecha inicial el lunes 2022-05-09\n",
      "La fecha de hoy 2025-02-20\n",
      "La diferencia de días es 1018\n"
     ]
    }
   ],
   "source": [
    "# Ejemplo 15\n",
    "# Otra forma de hacer lo anterior\n",
    "from datetime import datetime, date, time, timedelta\n",
    "\n",
    "\n",
    "lunes = date(2022, 5, 9)\n",
    "print(f\"Fecha inicial el lunes {lunes}\")\n",
    "hoy = date.today()\n",
    "print(f\"La fecha de hoy {hoy}\")\n",
    "\n",
    "dif = (hoy - lunes).days\n",
    "print(f\"La diferencia de días es {dif}\")\n"
   ]
  },
  {
   "cell_type": "markdown",
   "id": "04056b50-0e67-4882-82da-b30e5441cd6e",
   "metadata": {},
   "source": [
    "### 5. Aplicando formatos a fechas y horas: ***strftime()***\n",
    "\n",
    "El método ***strftime()*** devuelve una cadena que representa la fecha y la hora utilizando el objeto date , time o datetime. Permite aplicar diferentes formatos de cadena. Existen muchos de estos formatos, en el curso veremos algunos de ellos. La lista debajo muestra los códigos principales"
   ]
  },
  {
   "cell_type": "markdown",
   "id": "5c2293f2-b59b-4c4d-a783-d96b0baf21fd",
   "metadata": {
    "id": "ansSwHc746kR"
   },
   "source": [
    "|Código|Significado|Ejemplo|\n",
    "|:---|:---|:---|\n",
    "|%a|Nombre abreviado del día de la semana.|Sun, Mon, ...|\n",
    "|%A|Nombre completo del día de la semana.|Sunday, Monday, ...|\n",
    "|%b|Nombre del mes abreviado.|Jan, Feb, ..., Dec|\n",
    "|%B|Nombre del mes completo.|January, February, ...|\n",
    "|%d|Día del mes como decimal con ceros.|01, 02, ..., 31|\n",
    "|%m|Mes como un número decimal con ceros.|01, 02, ..., 12|\n",
    "|%y|Año sin siglo como un número decimal con ceros.|00, 01, ..., 59|\n",
    "|%Y|Año con siglo como número decimal.|2013, 2019 etc.|\n",
    "|%H|Hora (reloj de 24 horas) como un número decimal con ceros.|00, 01, ..., 23|\n",
    "|%M|Minuto como un número decimal con ceros.|00, 01, ..., 59|\n",
    "|%S|Segundo como un número decimal con ceros.|00, 01, ..., 59|\n",
    "|%I|Hora (reloj de 12 horas) como un número decimal con ceros.|01, 02, ..., 12|\n",
    "|%p|AM o PM de la localidad.|AM, PM|"
   ]
  },
  {
   "cell_type": "code",
   "execution_count": 19,
   "id": "a844e620-5a4c-4cbe-96a9-b7e7fbd49cb9",
   "metadata": {},
   "outputs": [
    {
     "name": "stdout",
     "output_type": "stream",
     "text": [
      "año: 2025\n",
      "mes: 02\n",
      "day: 20\n",
      "hora: 12:29:28\n",
      "Es el día 20/02/2025 siendo las 12:29:28\n"
     ]
    }
   ],
   "source": [
    "# Ejemplo 16\n",
    "# Ejemplos del uso de strftime()\n",
    "from datetime import datetime\n",
    "\n",
    "# Fecha del día\n",
    "hoy = datetime.now()\n",
    "# Año en formato de cuatro diígitos\n",
    "año = hoy.strftime(\"%Y\")\n",
    "print(f\"año: {año}\")\n",
    "# Mes con dos dígitos\n",
    "mes = hoy.strftime(\"%m\")\n",
    "print(f\"mes: {mes}\")\n",
    "# Día con dos dígitos\n",
    "day = hoy.strftime(\"%d\")\n",
    "print(f\"day: {day}\")\n",
    "# Hora con formato HH, segundos de MM, segundos de SS\n",
    "hora = hoy.strftime(\"%H:%M:%S\")\n",
    "print(f\"hora: {hora}\")\n",
    "# Fecha en formato dd/mm/AAAA, hora en HH:MM:SS\n",
    "# Observar que strftime, permite textos\n",
    "diaHora = hoy.strftime(\"Es el día %d/%m/%Y siendo las %H:%M:%S\")\n",
    "print(f\"{diaHora}\")\n"
   ]
  },
  {
   "cell_type": "code",
   "execution_count": 20,
   "id": "054e8f77-59fb-423e-bbb8-81067ab11526",
   "metadata": {},
   "outputs": [
    {
     "name": "stdout",
     "output_type": "stream",
     "text": [
      "Fecha en formato ISO 8601: 2025-02-20 12:30:08.444915\n",
      "Formato 1: Thu Feb 20 12:30:08 2025\n",
      "Formato 2: 20-02-2025 12:30 PM\n",
      "Formato 3: Thursday February 20 12:30:08 25\n"
     ]
    }
   ],
   "source": [
    "# Ejemplo 17\n",
    "from datetime import datetime\n",
    "\n",
    "# Los formatos se pueden asignar a variables de tipo string\n",
    "# Asigna formato de ejemplo 1\n",
    "formato1 = \"%a %b %d %H:%M:%S %Y\"\n",
    "# Asigna formato de ejemplo 2\n",
    "formato2 = \"%d-%m-%Y %I:%M %p\"\n",
    "# Asigna formato de ejemplo 3\n",
    "formato3 = \"%A %B %d %H:%M:%S %y\"\n",
    "# Asigna fecha-hora\n",
    "hoy = datetime.today()\n",
    "# Muestra fecha-hora según ISO 8601 que es valor por defecto\n",
    "print(\"Fecha en formato ISO 8601:\", hoy)\n",
    "# Aplica formato ejemplo 1\n",
    "cadena1 = hoy.strftime(formato1)\n",
    "# Aplica formato ejemplo 2\n",
    "cadena2 = hoy.strftime(formato2)\n",
    "# Aplica formato ejemplo 3\n",
    "cadena3 = hoy.strftime(formato3)\n",
    "# Muestra fecha-hora con formato 1\n",
    "print(f\"Formato 1: {cadena1}\")\n",
    "# Muestra fecha-hora con formato 2\n",
    "print(f\"Formato 2: {cadena2}\")\n",
    "# Muestra fecha-hora con formato 3\n",
    "print(f\"Formato 3: {cadena3}\")\n"
   ]
  },
  {
   "cell_type": "code",
   "execution_count": 2,
   "id": "f4c366ed-ae69-41ef-bc66-5c49842e9cda",
   "metadata": {},
   "outputs": [
    {
     "name": "stdout",
     "output_type": "stream",
     "text": [
      "año: 2024\n",
      "mes: 09\n",
      "day: 17\n",
      "Es el día 17/09/2024\n"
     ]
    }
   ],
   "source": [
    "# Ejemplo 18\n",
    "# Ejemplos del uso de strftime, con datetime.date\n",
    "from datetime import date\n",
    "\n",
    "# Fecha del día\n",
    "hoy = date.today()\n",
    "# Año en formato de cuatro diígitos\n",
    "año = hoy.strftime(\"%Y\")\n",
    "print(f\"año: {año}\")\n",
    "# Mes con dos dígitos\n",
    "mes = hoy.strftime(\"%m\")\n",
    "print(f\"mes: {mes}\")\n",
    "# Día con dos dígitos\n",
    "day = hoy.strftime(\"%d\")\n",
    "print(f\"day: {day}\")\n",
    "# Fecha en formato dd/mm/AAAA\n",
    "# Observar que strftime, permite textos\n",
    "diaHora = hoy.strftime(\"Es el día %d/%m/%Y\")\n",
    "print(f\"{diaHora}\")\n"
   ]
  },
  {
   "cell_type": "markdown",
   "id": "7ded408f-c83a-4936-9a81-4897e8552a07",
   "metadata": {},
   "source": [
    "### 6. ***El método strptime()***\n",
    "- El método ***strptime()*** permite crear un objeto de ***fecha y hora*** (de datetime) a partir de la cadena dada\n",
    "- No se puede crear un objeto datetime a partir de cualquier cadena. La cadena debe tener un formato determinado.\n",
    "- El método ***strptime()*** toma dos argumentos:\n",
    "  * cadena (que se puede convertir a fecha y hora)\n",
    "  * código de formato\n",
    "- Según la cadena y el código de formato utilizado, el método devuelve el objeto datetime equivalente."
   ]
  },
  {
   "cell_type": "code",
   "execution_count": 25,
   "id": "3e083a03-37b1-4ca5-a6f7-817786752154",
   "metadata": {},
   "outputs": [
    {
     "name": "stdout",
     "output_type": "stream",
     "text": [
      "1958-03-19 00:00:00\n"
     ]
    }
   ],
   "source": [
    "# Ejemplo 19\n",
    "from datetime import datetime\n",
    "\n",
    "unafecha = '19/3/1958'\n",
    "formato = '%d/%m/%Y'\n",
    "fecha = datetime.strptime(unafecha,formato)\n",
    "print(fecha)\n"
   ]
  },
  {
   "cell_type": "markdown",
   "id": "78a582dd-1694-4364-9cb0-baeb20cbb1f8",
   "metadata": {
    "id": "Fj_BanGXvpXv"
   },
   "source": [
    "### ***Problema 1***\n",
    "- Generar un programa que permita el ingreso de fechas por el teclado y calcular su diferencia, sólo si la fecha final es mayor que la fecha inicial.\n",
    "- El programa debe controlar que el ingreso de las fechas sea en el formato dd/mm/yyyy y evitar que se ingresen fechas erradas\n",
    "- El programa debe preguntar si se quiere continuar ingresando más fechas"
   ]
  },
  {
   "cell_type": "code",
   "execution_count": null,
   "id": "299b5337-652a-4cbe-aea9-c36924ebd6e7",
   "metadata": {
    "colab": {
     "base_uri": "https://localhost:8080/"
    },
    "executionInfo": {
     "elapsed": 95837,
     "status": "ok",
     "timestamp": 1652731417142,
     "user": {
      "displayName": "Jose Luis Ojeda",
      "userId": "12240071782040482724"
     },
     "user_tz": 300
    },
    "id": "9vzF0uWpVZcf",
    "outputId": "edd40050-5a3f-4ff4-a4b6-3788a20e35d8",
    "tags": []
   },
   "outputs": [
    {
     "name": "stdout",
     "output_type": "stream",
     "text": [
      "\n",
      "La diferencia entre 12/02/2025 y 21/02/2025 es de 9 días\n"
     ]
    }
   ],
   "source": [
    "# Diferencias de fecha\n",
    "# Diferencias de fecha\n",
    "from datetime import datetime\n",
    "\n",
    "\n",
    "def ingfecha(msj1, msj2):\n",
    "    while True:\n",
    "        try:\n",
    "            fechaing = datetime.strptime(input(msj1), \"%d/%m/%Y\")\n",
    "            return fechaing\n",
    "        except ValueError:\n",
    "            print(f\"La fecha {msj2} esta errada, inténtelo nuevamente\")\n",
    "\n",
    "\n",
    "def reporte(fechaI, fechaF):\n",
    "    diferencia = (fechaF - fechaI).days\n",
    "    fechaI = datetime.strftime(fechaI, \"%d/%m/%Y\")\n",
    "    fechaF = datetime.strftime(fechaF, \"%d/%m/%Y\")\n",
    "\n",
    "    if diferencia >= 0:\n",
    "        print(f\"\\nLa diferencia entre {fechaI} y {fechaF} es de {diferencia} días\")\n",
    "    else:\n",
    "        print(f\"\\nFecha final {fechaF} es menor a la inicial {fechaI}\")\n",
    "\n",
    "\n",
    "def main():\n",
    "    while True:\n",
    "        fechaInicial = ingfecha(\"Ingrese fecha inicial dd/mm/aaaa \", \"inicial\")\n",
    "        fechaFinal = ingfecha(\"Ingrese fecha final dd/mm/aaaa\", \"final\")\n",
    "        reporte(fechaInicial, fechaFinal)\n",
    "\n",
    "        res = input(\"\\n¿Desea continuar? \").upper()\n",
    "        if res != \"S\":\n",
    "            return\n",
    "\n",
    "\n",
    "# Programa principal\n",
    "main()\n"
   ]
  },
  {
   "cell_type": "code",
   "execution_count": null,
   "id": "ee388b48-548d-4996-9332-d5a96d76e7f6",
   "metadata": {},
   "outputs": [],
   "source": []
  }
 ],
 "metadata": {
  "kernelspec": {
   "display_name": "Python 3",
   "language": "python",
   "name": "python3"
  },
  "language_info": {
   "codemirror_mode": {
    "name": "ipython",
    "version": 3
   },
   "file_extension": ".py",
   "mimetype": "text/x-python",
   "name": "python",
   "nbconvert_exporter": "python",
   "pygments_lexer": "ipython3",
   "version": "3.13.1"
  }
 },
 "nbformat": 4,
 "nbformat_minor": 5
}
