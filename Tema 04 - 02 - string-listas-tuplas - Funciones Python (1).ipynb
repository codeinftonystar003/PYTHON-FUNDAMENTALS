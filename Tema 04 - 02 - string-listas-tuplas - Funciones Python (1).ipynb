{
 "cells": [
  {
   "attachments": {},
   "cell_type": "markdown",
   "id": "a1b052fe-e80f-4670-81dc-2604bf95bdab",
   "metadata": {},
   "source": [
    "## ***Métodos y funciones de strings/listas/tuplas***"
   ]
  },
  {
   "attachments": {},
   "cell_type": "markdown",
   "id": "638094ec-eeaf-4449-98f3-45f177922e81",
   "metadata": {},
   "source": [
    "### ***find(valor, inicio, final)***"
   ]
  },
  {
   "cell_type": "code",
   "execution_count": 6,
   "id": "1f1359df-540f-4926-860a-d249e73c081a",
   "metadata": {},
   "outputs": [
    {
     "name": "stdout",
     "output_type": "stream",
     "text": [
      "14\n"
     ]
    }
   ],
   "source": [
    "# Ejemplo 1\n",
    "txt = \"Hola, bienvenido a mi mundo\"\n",
    "x = txt.find(\"e\")\n",
    "print(x)\n"
   ]
  },
  {
   "cell_type": "code",
   "execution_count": 7,
   "id": "0f8fd5b9-3561-4986-91a6-29155ee45fd7",
   "metadata": {},
   "outputs": [
    {
     "name": "stdout",
     "output_type": "stream",
     "text": [
      "11\n"
     ]
    }
   ],
   "source": [
    "# Ejemplo 2\n",
    "txt = \"Hola, bienvenido a mi mundo\"\n",
    "x = txt.find(\"e\", 9, 15)\n",
    "print(x)\n"
   ]
  },
  {
   "cell_type": "code",
   "execution_count": 10,
   "id": "017204ce-3e66-4581-bbfd-221b37e617fe",
   "metadata": {},
   "outputs": [
    {
     "name": "stdout",
     "output_type": "stream",
     "text": [
      "-1\n"
     ]
    }
   ],
   "source": [
    "# Ejemplo 3\n",
    "txt = \"Hola, bienvenido a mi mundo\"\n",
    "x = txt.find(\"q\")\n",
    "print(x)\n"
   ]
  },
  {
   "attachments": {},
   "cell_type": "markdown",
   "id": "6f98a3fd-91a0-496b-a8af-8abdaede6a8a",
   "metadata": {},
   "source": [
    "### ***isdigit(), lower(), upper()***"
   ]
  },
  {
   "cell_type": "code",
   "execution_count": 13,
   "id": "9f32fb81-8c94-4bb7-be2f-0c5e8ce40840",
   "metadata": {},
   "outputs": [
    {
     "name": "stdout",
     "output_type": "stream",
     "text": [
      "correcto\n"
     ]
    }
   ],
   "source": [
    "# Ejemplo 4:  isdigit()\n",
    "dni = \"080804832\"\n",
    "if dni.isdigit():\n",
    "    print(\"correcto\")\n",
    "else:\n",
    "    print(\"error\")\n"
   ]
  },
  {
   "cell_type": "code",
   "execution_count": 14,
   "id": "353d4704-ed7c-4375-a0b0-16a6cde55df2",
   "metadata": {},
   "outputs": [
    {
     "name": "stdout",
     "output_type": "stream",
     "text": [
      "primer id 2173718870192\n",
      "hola mundo\n",
      "segundo id 2173718737328\n"
     ]
    }
   ],
   "source": [
    "# Ejemplo 5: lower()\n",
    "cadena = \"Hola Mundo\"\n",
    "print(\"primer id\", id(cadena))\n",
    "cadena = cadena.lower()\n",
    "print(cadena)\n",
    "print(\"segundo id\", id(cadena))\n"
   ]
  },
  {
   "cell_type": "code",
   "execution_count": 15,
   "id": "073f1708-03ad-49b9-9fe9-a21abebf0bb1",
   "metadata": {},
   "outputs": [
    {
     "name": "stdout",
     "output_type": "stream",
     "text": [
      "primer id 2173718739120\n",
      "HOLA MUNDO\n",
      "segundo id 2173697224688\n"
     ]
    }
   ],
   "source": [
    "# Ejemplo 6: upper()\n",
    "cadena = \"Hola Mundo\"\n",
    "print(\"primer id\", id(cadena))\n",
    "cadena = cadena.upper()\n",
    "print(cadena)\n",
    "print(\"segundo id\", id(cadena))\n"
   ]
  },
  {
   "attachments": {},
   "cell_type": "markdown",
   "id": "8dace5b0-c2c6-4a9c-b8c9-c5b218fc10ee",
   "metadata": {},
   "source": [
    "### ***title(), strip()***"
   ]
  },
  {
   "cell_type": "code",
   "execution_count": 16,
   "id": "0d79ee98-d7ff-4dec-9ff0-8eca806082f1",
   "metadata": {},
   "outputs": [
    {
     "name": "stdout",
     "output_type": "stream",
     "text": [
      "Juan Esteban Rodriguez\n"
     ]
    }
   ],
   "source": [
    "# Ejemplo 7: title\n",
    "nombre = \"juan esteban rodriguez\"\n",
    "nombre = nombre.title()\n",
    "print(nombre)\n"
   ]
  },
  {
   "cell_type": "code",
   "execution_count": 18,
   "id": "f9d44454-5c92-467e-a3c2-41e6c1f192dc",
   "metadata": {},
   "outputs": [
    {
     "name": "stdout",
     "output_type": "stream",
     "text": [
      "   cadena de prueba    22\n",
      "cadena de prueba 16\n"
     ]
    }
   ],
   "source": [
    "# Ejemplo 8: strip()\n",
    "z = \"   cadena de prueba   \"\n",
    "print(z, len(z))\n",
    "z = z.strip()\n",
    "print(z, len(z))\n"
   ]
  },
  {
   "cell_type": "code",
   "execution_count": 19,
   "id": "57854e07-a508-463c-a86d-7e8d5477e8a0",
   "metadata": {},
   "outputs": [
    {
     "name": "stdout",
     "output_type": "stream",
     "text": [
      "La variable está vacía o en blanco\n"
     ]
    }
   ],
   "source": [
    "# Ejemplo 9: strip()\n",
    "var1 = \" \"\n",
    "if var1.strip() == \"\":\n",
    "    print(\"La variable está vacía o en blanco\")\n",
    "else:\n",
    "    print(\"La variable no está vacía\")\n"
   ]
  },
  {
   "cell_type": "code",
   "execution_count": 25,
   "id": "55060baa-8b17-400c-99d9-65ae4187d8f6",
   "metadata": {},
   "outputs": [
    {
     "name": "stdout",
     "output_type": "stream",
     "text": [
      "Hola Mundo!\n"
     ]
    }
   ],
   "source": [
    "# Ejemplo 10: strip()\n",
    "holaMundo = \"Hola Mundo!\"\n",
    "holaMundo = holaMundo.strip(\" Mundo!\")\n",
    "print(holaMundo)\n"
   ]
  },
  {
   "attachments": {},
   "cell_type": "markdown",
   "id": "ccc1de01-72b4-4045-8e14-7d84f041d579",
   "metadata": {},
   "source": [
    "### ***replace(antiguo, nuevo, contador)***"
   ]
  },
  {
   "cell_type": "code",
   "execution_count": 28,
   "id": "9dcf31b8-4909-4c0d-90dc-b4b93c3a3803",
   "metadata": {},
   "outputs": [
    {
     "name": "stdout",
     "output_type": "stream",
     "text": [
      "Hola-Mundo-Nuevo\n"
     ]
    }
   ],
   "source": [
    "# Ejemplo 11: replace\n",
    "cadenaSinGuion = \"Hola Mundo Nuevo\"\n",
    "cadenaConGuion = cadenaSinGuion.replace(\" \", \"-\")\n",
    "print(cadenaConGuion)\n"
   ]
  },
  {
   "cell_type": "code",
   "execution_count": 35,
   "id": "62ffc077-efb6-496f-a5f3-de83887d575e",
   "metadata": {},
   "outputs": [
    {
     "name": "stdout",
     "output_type": "stream",
     "text": [
      "Hola-Mundo Nuevo \n"
     ]
    }
   ],
   "source": [
    "# Ejemplo 12: replace\n",
    "cadenaSinGuion = \"Hola Mundo Nuevo \"\n",
    "cadenaConGuion = cadenaSinGuion.replace(\" \", \"-\",1)\n",
    "print(cadenaConGuion)\n"
   ]
  },
  {
   "cell_type": "markdown",
   "id": "e84f1878-df54-4f6f-ac37-deab5f990144",
   "metadata": {},
   "source": [
    "### ***count()***"
   ]
  },
  {
   "cell_type": "code",
   "execution_count": 36,
   "id": "0168a6a0-2bb2-425e-8d2c-d78d7447d215",
   "metadata": {},
   "outputs": [
    {
     "name": "stdout",
     "output_type": "stream",
     "text": [
      "Cantidad de 'o' 4\n",
      "Cantidad de 'n' 3\n"
     ]
    }
   ],
   "source": [
    "# Ejemplo 13: count en string\n",
    "cadena = \"Hola alumnos de la UPC, Programación Orientada a Objetos\"\n",
    "print(\"Cantidad de 'o'\", cadena.count(\"o\"))\n",
    "print(\"Cantidad de 'n'\", cadena.count(\"n\"))\n"
   ]
  },
  {
   "cell_type": "code",
   "execution_count": 37,
   "id": "6eb2fd27-ae4c-4cbc-87d2-5c00fa1238dc",
   "metadata": {},
   "outputs": [
    {
     "name": "stdout",
     "output_type": "stream",
     "text": [
      "Cantidad de números 3 en la lista 2\n"
     ]
    }
   ],
   "source": [
    "# Ejemplo 14: count en listas\n",
    "lista1 = [1, 2, 3, 4, 5, 6, 7, 8, 2, 3, 1, 4, 5, 6]\n",
    "print(\"Cantidad de números 3 en la lista\", lista1.count(3))\n"
   ]
  },
  {
   "attachments": {},
   "cell_type": "markdown",
   "id": "87f1b99c-a14e-4df5-939b-bdee316ede1c",
   "metadata": {},
   "source": [
    "### ***sum(), max(), min()***"
   ]
  },
  {
   "cell_type": "code",
   "execution_count": 38,
   "id": "125dfadc-19cf-4acc-9de7-fb975728c2ee",
   "metadata": {},
   "outputs": [
    {
     "name": "stdout",
     "output_type": "stream",
     "text": [
      "La suma es 57\n",
      "El valor máximo es 8\n",
      "El valor mínimo es 1\n",
      "El promedio es 4.07\n"
     ]
    }
   ],
   "source": [
    "# Ejemplo 15: sum, max, min\n",
    "lista1 = [1, 2, 3, 4, 5, 6, 7, 8, 2, 3, 1, 4, 5, 6]\n",
    "# Imprime suma, máximo y mínimo\n",
    "print(\"La suma es\", sum(lista1))\n",
    "print(\"El valor máximo es\", max(lista1))\n",
    "print(\"El valor mínimo es\", min(lista1))\n",
    "# imprime promedio\n",
    "print(\"El promedio es\", round(sum(lista1) / len(lista1), 2))\n"
   ]
  },
  {
   "cell_type": "markdown",
   "id": "7c659f98-7b9a-4193-935e-33d44b779c76",
   "metadata": {},
   "source": [
    "### ***join()***"
   ]
  },
  {
   "cell_type": "code",
   "execution_count": 43,
   "id": "4286cdc0-00d2-4a39-b249-28d1b0fdd3c1",
   "metadata": {},
   "outputs": [
    {
     "name": "stdout",
     "output_type": "stream",
     "text": [
      "<class 'tuple'>\n",
      "El valor de x es Juan # Pedro # Vicky\n",
      "Y es del tipo <class 'str'>\n"
     ]
    }
   ],
   "source": [
    "# Ejemplo 16: join\n",
    "miTupla = (\"Juan\", \"Pedro\", \"Vicky\")\n",
    "print(type(miTupla))\n",
    "x = \" # \".join(miTupla)\n",
    "print(f\"El valor de x es {x}\\nY es del tipo {type(x)}\")\n"
   ]
  },
  {
   "cell_type": "code",
   "execution_count": 46,
   "id": "382c3794-6f0f-4fff-a3f0-0aa63398148c",
   "metadata": {},
   "outputs": [
    {
     "name": "stdout",
     "output_type": "stream",
     "text": [
      "El valor de x es Juan#Pedro#Vicky\n",
      "Y es del tipo <class 'str'>\n"
     ]
    }
   ],
   "source": [
    "# Ejemplo 17: join\n",
    "miLista = [\"Juan\", \"Pedro\", \"Vicky\"]\n",
    "x = \"#\".join(miLista)\n",
    "print(f\"El valor de x es {x}\\nY es del tipo {type(x)}\")\n"
   ]
  },
  {
   "cell_type": "code",
   "execution_count": 48,
   "id": "35e4a54a-2cf7-4653-a836-2a0fa6413943",
   "metadata": {},
   "outputs": [
    {
     "name": "stdout",
     "output_type": "stream",
     "text": [
      "P-r-o-g-r-a-m-a-c-i-ó-n- -o-r-i-e-n-t-a-d-a- -a- -O-b-j-e-t-o-s\n"
     ]
    }
   ],
   "source": [
    "# Ejemplo 18: join\n",
    "miCadena = \"Programación orientada a Objetos\"\n",
    "x = \"-\".join(miCadena)\n",
    "print(x)\n"
   ]
  },
  {
   "attachments": {},
   "cell_type": "markdown",
   "id": "ee82316f-0778-4c36-b427-b0d57e687611",
   "metadata": {},
   "source": [
    "### ***sorted(iterable, key=Func, reverse=True/False)***"
   ]
  },
  {
   "cell_type": "code",
   "execution_count": 51,
   "id": "f0320536-5b47-4c65-bd71-310fdde300fd",
   "metadata": {},
   "outputs": [
    {
     "name": "stdout",
     "output_type": "stream",
     "text": [
      "[12, 8, 4, 2]\n"
     ]
    }
   ],
   "source": [
    "# Ejemplo 19: Ordenamiento ascendente\n",
    "numeros = [4, 2, 12, 8]\n",
    "# ordena la lista en forma ascendente\n",
    "numOrdAsc = sorted(numeros)\n",
    "print(numOrdAsc)\n"
   ]
  },
  {
   "cell_type": "code",
   "execution_count": 7,
   "id": "1c147533-e131-4394-af9f-5309567a0455",
   "metadata": {},
   "outputs": [
    {
     "name": "stdout",
     "output_type": "stream",
     "text": [
      "[12, 8, 4, 2]\n"
     ]
    }
   ],
   "source": [
    "# Ejemplo 20: Ordenamiento descendente\n",
    "numeros = [4, 2, 12, 8]\n",
    "# ordena la lista en forma descendente\n",
    "numOrdDesc = sorted(numeros, reverse=True)\n",
    "print(numOrdDesc)\n"
   ]
  },
  {
   "cell_type": "code",
   "execution_count": 53,
   "id": "6061522e-fde9-443a-9d0d-eb45b228d068",
   "metadata": {},
   "outputs": [
    {
     "name": "stdout",
     "output_type": "stream",
     "text": [
      "Lista ordenada ascendente por longitud de elemento: ['kiwi', 'mango', 'manzana', 'granadilla']\n",
      "Lista ordenada descendente por longitud de elemento: ['granadilla', 'manzana', 'mango', 'kiwi']\n"
     ]
    }
   ],
   "source": [
    "# Ejemplo 21: Ordenamiento con key\n",
    "frutas = ['manzana', 'mango', 'kiwi', 'granadilla']\n",
    "# Ordena la lista por la longitud de los strings\n",
    "frutasOrdenadas = sorted(frutas, key=len)\n",
    "print('Lista ordenada ascendente por longitud de elemento:', frutasOrdenadas)\n",
    "frutasOrdenadas = sorted(frutas, key=len, reverse=True)\n",
    "print('Lista ordenada descendente por longitud de elemento:', frutasOrdenadas)\n"
   ]
  },
  {
   "cell_type": "code",
   "execution_count": 54,
   "id": "f8d6b850-282a-40a9-9dc7-168e99da619f",
   "metadata": {},
   "outputs": [
    {
     "name": "stdout",
     "output_type": "stream",
     "text": [
      "[11, 12, 5, 3, 17, 2, 1]\n"
     ]
    }
   ],
   "source": [
    "# Ejemplo 22: Ordenamiento con key\n",
    "def mifunc(n):\n",
    "    return abs(10-n)\n",
    "\n",
    "# 5 , 7, 9, 1, 8 ,2 ,7\n",
    "# 1, 2, 5, 7 , 7, 8, 9\n",
    "# Programa principal\n",
    "a = (5, 3, 1, 11, 2, 12, 17)\n",
    "x = sorted(a, key=mifunc)\n",
    "print(x)\n"
   ]
  },
  {
   "cell_type": "code",
   "execution_count": 60,
   "id": "1c1ae74d-e0ac-4a69-9b77-c1b199afcd99",
   "metadata": {},
   "outputs": [
    {
     "name": "stdout",
     "output_type": "stream",
     "text": [
      "[1, 3, 5, 11, 17, 2, 12]\n"
     ]
    }
   ],
   "source": [
    "# Ejemplo 22: Ordenamiento con key\n",
    "def mifunc(n):\n",
    "    return not n % 2\n",
    "\n",
    "\n",
    "# Programa principal\n",
    "a = [5, 3, 1, 11, 12, 2, 17]\n",
    "a.sort()\n",
    "x = sorted(a, key=mifunc)\n",
    "print(x)\n"
   ]
  },
  {
   "cell_type": "markdown",
   "id": "492c2921-b3c2-43cd-a6f2-b18fb97ca5a9",
   "metadata": {},
   "source": [
    "### ***sort()***"
   ]
  },
  {
   "cell_type": "code",
   "execution_count": 61,
   "id": "f3258d85-f037-4c99-83e3-569600c5f0af",
   "metadata": {},
   "outputs": [
    {
     "name": "stdout",
     "output_type": "stream",
     "text": [
      "Id antes del sort 2173724579392\n",
      "[0, 1, 2, 3, 7, 23]\n",
      "Id después del sort 2173724579392\n"
     ]
    }
   ],
   "source": [
    "# Ejemplo 23: sort() ordena la lista sobre si misma\n",
    "num1 = [1, 2, 3, 7, 0, 23]\n",
    "print(\"Id antes del sort\", id(num1))\n",
    "num1.sort()\n",
    "print(num1)\n",
    "print(\"Id después del sort\", id(num1))\n"
   ]
  },
  {
   "cell_type": "code",
   "execution_count": 23,
   "id": "b6bf2bfa-d63a-4b59-ba48-a310a9237177",
   "metadata": {},
   "outputs": [
    {
     "name": "stdout",
     "output_type": "stream",
     "text": [
      "Id antes del sort 1957910212864\n",
      "[23, 7, 3, 2, 1, 0]\n",
      "Id después del sort 1957910212864\n"
     ]
    }
   ],
   "source": [
    "# Ejemplo 24: sort() ordena la lista sobre si misma\n",
    "num1 = [1, 2, 3, 7, 0, 23]\n",
    "print(\"Id antes del sort\", id(num1))\n",
    "num1.sort(reverse=True)\n",
    "print(num1)\n",
    "print(\"Id después del sort\", id(num1))\n"
   ]
  },
  {
   "cell_type": "code",
   "execution_count": 63,
   "id": "6bfb9b69-720f-4485-b92a-b974e40cb614",
   "metadata": {},
   "outputs": [
    {
     "name": "stdout",
     "output_type": "stream",
     "text": [
      "Lista ordenada: ['granadilla', 'manzana', 'mango', 'kiwi']\n"
     ]
    }
   ],
   "source": [
    "# Ejemplo 25: sort() ordena la lista sobre si misma\n",
    "# Ordenamiento con key\n",
    "frutas = ['manzana', 'mango', 'kiwi', 'granadilla']\n",
    "# Ordena la lista por la longitud de los strings\n",
    "frutas.sort(key=len)\n",
    "print('Lista ordenada:', frutas)\n"
   ]
  },
  {
   "cell_type": "code",
   "execution_count": 64,
   "id": "2c8f756d-2b02-463d-a304-3960055f7a87",
   "metadata": {},
   "outputs": [
    {
     "name": "stdout",
     "output_type": "stream",
     "text": [
      "[11, 12, 5, 3, 17, 2, 1]\n"
     ]
    }
   ],
   "source": [
    "# Ejemplo 26: sort() ordena la lista sobre si misma\n",
    "# Ordenamiento con key\n",
    "def mifunc(n):\n",
    "    return abs(10-n)\n",
    "\n",
    "\n",
    "# Programa principal\n",
    "a = [5, 3, 1, 11, 2, 12, 17]\n",
    "a.sort(key=mifunc)\n",
    "print(a)\n"
   ]
  },
  {
   "cell_type": "code",
   "execution_count": 28,
   "id": "405f4a8f-023a-4a0a-97cd-f923e35dfb7b",
   "metadata": {},
   "outputs": [
    {
     "name": "stdout",
     "output_type": "stream",
     "text": [
      "[5, 3, 1, 11, 12, 2, 17]\n",
      "[1, 2, 3, 5, 11, 12, 17]\n",
      "[2, 12, 1, 3, 5, 11, 17]\n"
     ]
    }
   ],
   "source": [
    "# Ejemplo 26: sort() ordena la lista sobre si misma\n",
    "# Ordenamiento con key\n",
    "def mifunc(n):\n",
    "    return n % 2\n",
    "\n",
    "\n",
    "# Programa principal\n",
    "a = [5, 3, 1, 11, 12, 2, 17]\n",
    "print(a)\n",
    "a.sort()\n",
    "print(a)\n",
    "a.sort(key=mifunc)\n",
    "print(a)\n"
   ]
  },
  {
   "attachments": {},
   "cell_type": "markdown",
   "id": "648ffedf-83e1-4f2d-89ee-7613fc51d8c1",
   "metadata": {},
   "source": [
    "### ***Tres funciones muy útiles: map(), any()***"
   ]
  },
  {
   "attachments": {},
   "cell_type": "markdown",
   "id": "1666329b-3a5e-4ee5-aedc-97f4fb10eb4d",
   "metadata": {},
   "source": [
    "### ***map()***\n",
    "- Es una función que permite procesar y transformar todos los elementos en un iterable sin usar un bucle ***for*** explícito\n",
    "- Una técnica comúnmente conocida como mapeo.\n",
    "- Es útil cuando necesita aplicar una función de transformación a cada elemento en un iterable y transformarlos en un nuevo iterable."
   ]
  },
  {
   "cell_type": "code",
   "execution_count": 29,
   "id": "8abdcf70-73ec-47fa-997a-cdac9d5caf6a",
   "metadata": {},
   "outputs": [
    {
     "name": "stdout",
     "output_type": "stream",
     "text": [
      "[False, False, False, False, False, True]\n"
     ]
    }
   ],
   "source": [
    "# Ejemplo 27: map()\n",
    "nombre = \"Jose 2\"\n",
    "x = map(str.isdigit, nombre)\n",
    "x = list(x)\n",
    "print(x)\n"
   ]
  },
  {
   "attachments": {},
   "cell_type": "markdown",
   "id": "f21293f8-f60a-4c12-a029-c2b85f45d92b",
   "metadata": {},
   "source": [
    "### ***any()***\n",
    "- Comprueba si alguno de los elementos de una lista es verdadero"
   ]
  },
  {
   "cell_type": "code",
   "execution_count": 65,
   "id": "b5879811-0794-425b-9d96-a2c351086f48",
   "metadata": {},
   "outputs": [
    {
     "name": "stdout",
     "output_type": "stream",
     "text": [
      "[False, False, False, False, False, True]\n",
      "True\n"
     ]
    }
   ],
   "source": [
    "# Ejemplo 28: any()\n",
    "nombre = \"Jose 2\"\n",
    "x = map(str.isdigit, nombre)\n",
    "x = list(x)\n",
    "print(x)\n",
    "x = any(x)\n",
    "print(x)\n"
   ]
  },
  {
   "cell_type": "markdown",
   "id": "daf0930b-e9b8-489a-b469-e97b6994cd6d",
   "metadata": {
    "id": "1bbfd2c6-f88e-419d-8daa-fe47ea9e97b2"
   },
   "source": [
    "### ***El método split()***"
   ]
  },
  {
   "cell_type": "code",
   "execution_count": 71,
   "id": "928179eb-08a6-4896-93f3-8cb8722947e3",
   "metadata": {
    "colab": {
     "base_uri": "https://localhost:8080/"
    },
    "executionInfo": {
     "elapsed": 861,
     "status": "ok",
     "timestamp": 1681311051121,
     "user": {
      "displayName": "Jose Luis Ojeda",
      "userId": "12240071782040482724"
     },
     "user_tz": 300
    },
    "id": "a388271e-1ce7-45b7-be10-55ae6aac2188",
    "outputId": "f6d117a1-ef3f-482f-e217-f85ba4ecc653",
    "tags": []
   },
   "outputs": [
    {
     "name": "stdout",
     "output_type": "stream",
     "text": [
      "['Programación', 'Orientada', 'a', 'Objetos']\n"
     ]
    }
   ],
   "source": [
    "# El método split(), genera una lista de las palabras de un string\n",
    "cadena = \"Programación Orientada a Objetos\"\n",
    "lis_de_cadena = cadena.split()\n",
    "print(lis_de_cadena)\n"
   ]
  },
  {
   "cell_type": "code",
   "execution_count": 78,
   "id": "08cec43e-9d27-4826-bd21-b03d909bb005",
   "metadata": {
    "colab": {
     "base_uri": "https://localhost:8080/"
    },
    "executionInfo": {
     "elapsed": 346,
     "status": "ok",
     "timestamp": 1681311108454,
     "user": {
      "displayName": "Jose Luis Ojeda",
      "userId": "12240071782040482724"
     },
     "user_tz": 300
    },
    "id": "aNfvwGDK8oiM",
    "outputId": "f90205d8-eab6-45bd-a39a-f9dd233be01a"
   },
   "outputs": [
    {
     "name": "stdout",
     "output_type": "stream",
     "text": [
      "['945', '025', '205']\n"
     ]
    }
   ],
   "source": [
    "# split pude tener un argumento\n",
    "celular = \"945-025-205\"\n",
    "lis_celular = celular.split(\"-\")\n",
    "print(lis_celular)\n"
   ]
  }
 ],
 "metadata": {
  "kernelspec": {
   "display_name": "Python 3",
   "language": "python",
   "name": "python3"
  },
  "language_info": {
   "codemirror_mode": {
    "name": "ipython",
    "version": 3
   },
   "file_extension": ".py",
   "mimetype": "text/x-python",
   "name": "python",
   "nbconvert_exporter": "python",
   "pygments_lexer": "ipython3",
   "version": "3.13.1"
  }
 },
 "nbformat": 4,
 "nbformat_minor": 5
}
