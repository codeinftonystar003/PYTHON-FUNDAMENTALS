{
 "cells": [
  {
   "cell_type": "markdown",
   "id": "272100c1-a07e-4f3a-910f-2e856da784ef",
   "metadata": {},
   "source": [
    "## ***Funciones de usuarios***"
   ]
  },
  {
   "cell_type": "markdown",
   "id": "008ca260-f9bc-44af-a19b-aebaff96f0ce",
   "metadata": {
    "id": "_g3pRGWhBQFd"
   },
   "source": [
    "### ***¿Qué es una función definida por el usuario?***\n",
    "- Una función es un bloque de código que ***solo se ejecuta cuando se llama o invoca***.\n",
    "- Se puede pasar datos, conocidos como parámetros o argumentos, a una función. \n",
    "- Una función puede devolver datos como resultado."
   ]
  },
  {
   "cell_type": "markdown",
   "id": "57bae187-4bc8-4bdd-895c-c68cc578d3c4",
   "metadata": {
    "id": "_g3pRGWhBQFd"
   },
   "source": [
    "### ***Características de las Funciones creadas por el usuario***\n",
    "- Cualquier función tendrá:\n",
    "    - Un nombre\n",
    "    - Argumentos de entrada (opcional)\n",
    "    - Un código a ejecutar\n",
    "    - Unos parámetros de salida (opcional)"
   ]
  },
  {
   "cell_type": "code",
   "execution_count": 1,
   "id": "47a35539-8c61-447b-b417-4d4cecde1301",
   "metadata": {
    "colab": {
     "base_uri": "https://localhost:8080/"
    },
    "executionInfo": {
     "elapsed": 278,
     "status": "ok",
     "timestamp": 1650912403094,
     "user": {
      "displayName": "Jose Luis Ojeda",
      "userId": "12240071782040482724"
     },
     "user_tz": 300
    },
    "id": "SpFEICkFBPWk",
    "outputId": "5efe83bf-553d-43cb-cf36-07a74bab67c1",
    "tags": []
   },
   "outputs": [
    {
     "data": {
      "text/plain": [
       "9"
      ]
     },
     "execution_count": 1,
     "metadata": {},
     "output_type": "execute_result"
    }
   ],
   "source": [
    "# Definimos una función\n",
    "def funcion(x):\n",
    "    return x**2\n",
    "\n",
    "#programa pricipal \n",
    "x = 3\n",
    "funcion(x)"
   ]
  },
  {
   "cell_type": "code",
   "execution_count": 2,
   "id": "7f0437ec-05a8-46c2-be2f-4868ad3a199a",
   "metadata": {
    "colab": {
     "base_uri": "https://localhost:8080/"
    },
    "executionInfo": {
     "elapsed": 278,
     "status": "ok",
     "timestamp": 1650912403094,
     "user": {
      "displayName": "Jose Luis Ojeda",
      "userId": "12240071782040482724"
     },
     "user_tz": 300
    },
    "id": "SpFEICkFBPWk",
    "outputId": "5efe83bf-553d-43cb-cf36-07a74bab67c1",
    "tags": []
   },
   "outputs": [
    {
     "name": "stdout",
     "output_type": "stream",
     "text": [
      "9\n"
     ]
    }
   ],
   "source": [
    "# Después de la función, si viene el programa principal, se deja dos líneas en blanco\n",
    "def funcion(x):\n",
    "    return x**2\n",
    "\n",
    "\n",
    "# Programa principal\n",
    "Y = funcion(3)\n",
    "print(Y)\n"
   ]
  },
  {
   "cell_type": "code",
   "execution_count": 3,
   "id": "8726a689-3a1f-42a9-9b9e-fb4f49f0a101",
   "metadata": {
    "colab": {
     "base_uri": "https://localhost:8080/"
    },
    "executionInfo": {
     "elapsed": 300,
     "status": "ok",
     "timestamp": 1650311531401,
     "user": {
      "displayName": "Jose Luis Ojeda",
      "userId": "12240071782040482724"
     },
     "user_tz": 300
    },
    "id": "wzmH81NNGzEz",
    "outputId": "407ca32c-b9de-404e-be04-f488eaf7b374",
    "tags": []
   },
   "outputs": [
    {
     "name": "stdout",
     "output_type": "stream",
     "text": [
      "60\n"
     ]
    }
   ],
   "source": [
    "# Otros ejemplos de funciones definidas por el usuario\n",
    "def mifuncion(x):\n",
    "    return x * 5\n",
    "\n",
    "\n",
    "# Programa principal\n",
    "print(mifuncion(12))\n"
   ]
  },
  {
   "cell_type": "code",
   "execution_count": 7,
   "id": "e8748a78-2708-41e8-a678-cbeefa38f199",
   "metadata": {
    "colab": {
     "base_uri": "https://localhost:8080/"
    },
    "executionInfo": {
     "elapsed": 264,
     "status": "ok",
     "timestamp": 1650311661893,
     "user": {
      "displayName": "Jose Luis Ojeda",
      "userId": "12240071782040482724"
     },
     "user_tz": 300
    },
    "id": "iURn435NeSP5",
    "outputId": "6ef752b4-6266-440c-e099-527b045b08ec",
    "tags": []
   },
   "outputs": [
    {
     "name": "stdout",
     "output_type": "stream",
     "text": [
      "385\n",
      "117.0\n",
      "450\n"
     ]
    }
   ],
   "source": [
    "# Más ejemplos\n",
    "def mifuncion(x):\n",
    "    return x * 5\n",
    "\n",
    "\n",
    "# Programa principal\n",
    "RESULTADO = mifuncion(77)\n",
    "print(RESULTADO)\n",
    "\n",
    "RESULTADO = mifuncion(23.4)\n",
    "print(RESULTADO)\n",
    "\n",
    "Y = 90\n",
    "RESULTADO = mifuncion(Y)\n",
    "print(RESULTADO)\n"
   ]
  },
  {
   "cell_type": "code",
   "execution_count": 8,
   "id": "e65bedb0-8982-47f1-aced-c3cd6a855628",
   "metadata": {
    "colab": {
     "base_uri": "https://localhost:8080/"
    },
    "executionInfo": {
     "elapsed": 312,
     "status": "ok",
     "timestamp": 1650311760507,
     "user": {
      "displayName": "Jose Luis Ojeda",
      "userId": "12240071782040482724"
     },
     "user_tz": 300
    },
    "id": "iJZzWLafwD-Q",
    "outputId": "34175f61-9e9f-4a7d-d8ac-6c02c2dbe657",
    "tags": []
   },
   "outputs": [
    {
     "name": "stdout",
     "output_type": "stream",
     "text": [
      "10 25\n"
     ]
    }
   ],
   "source": [
    "# Retornando dos resultados y desempaquetado\n",
    "def mifuncion(x):\n",
    "    return x * 2, x**2\n",
    "\n",
    "\n",
    "# Programa principal\n",
    "doble, cuadrado = mifuncion(5)\n",
    "print(doble, cuadrado)\n"
   ]
  },
  {
   "cell_type": "markdown",
   "id": "d1980a31-668a-402f-8809-fde2474c6503",
   "metadata": {},
   "source": [
    "### ***Nombres de funciones***\n",
    "- Las funciones deben ser en minúscula, con las palabras separadas por un guion bajo (snake case), también se puede usar la primera palabra en minúsculasy las siguientes con la primera letra en mayúscula, sin guiones bajos (camel case). \n",
    "- Otra alternativa es que todo el nombre sea en minúscula sin guiones\n",
    "- Ejemplos válidos\n",
    "    - ***mi_función_de_prueba*** (la más recomendada por los puristas, tiene la crítica que genera nombres muy largos)\n",
    "    - ***mifunciondeprueba*** (muy usual, preferida por muchos, tiene la crítica que los nombres generados se consideran poco claros)\n",
    "    - ***miFuncionDePrueba*** (esta es la menos recomendada por los puristas, pero muy usada ya que también es la práctica en muchos otros lenguajes de programación)"
   ]
  },
  {
   "cell_type": "code",
   "execution_count": 9,
   "id": "5d94ed58-e4bd-4511-a522-621677eb1c72",
   "metadata": {
    "colab": {
     "base_uri": "https://localhost:8080/"
    },
    "executionInfo": {
     "elapsed": 274,
     "status": "ok",
     "timestamp": 1650912942354,
     "user": {
      "displayName": "Jose Luis Ojeda",
      "userId": "12240071782040482724"
     },
     "user_tz": 300
    },
    "id": "kID99TJdE03K",
    "outputId": "264f9c60-3dee-447c-cbff-6cc7d3ae5f90",
    "tags": []
   },
   "outputs": [
    {
     "name": "stdout",
     "output_type": "stream",
     "text": [
      "-2\n",
      "2\n"
     ]
    }
   ],
   "source": [
    "# Parámetros posicionales\n",
    "def resta(a, b):\n",
    "    return a - b\n",
    "\n",
    "\n",
    "# Programa principal\n",
    "print(resta(2, 4))\n",
    "print(resta(4, 2))\n"
   ]
  },
  {
   "cell_type": "code",
   "execution_count": 10,
   "id": "6332d832-b56a-45db-bbe0-c54246d5e68d",
   "metadata": {
    "tags": []
   },
   "outputs": [
    {
     "name": "stdout",
     "output_type": "stream",
     "text": [
      "2\n",
      "-2\n",
      "3 140722428052456\n"
     ]
    }
   ],
   "source": [
    "# Parámetros posicionales\n",
    "def resta(a, b):\n",
    "    return a - b\n",
    "\n",
    "\n",
    "# Programa principal\n",
    "a = 2\n",
    "b = 4\n",
    "print(resta(b, a))\n",
    "print(resta(a, b))\n",
    "print(x, id(x))\n"
   ]
  },
  {
   "cell_type": "code",
   "execution_count": null,
   "id": "4fae241c-1def-4231-b011-36261f3c2885",
   "metadata": {
    "colab": {
     "base_uri": "https://localhost:8080/",
     "height": 235
    },
    "executionInfo": {
     "elapsed": 285,
     "status": "error",
     "timestamp": 1650913203451,
     "user": {
      "displayName": "Jose Luis Ojeda",
      "userId": "12240071782040482724"
     },
     "user_tz": 300
    },
    "id": "eDxOs1F_FocN",
    "outputId": "9f9e36a0-79da-443f-a626-17e4b3bb0e31",
    "tags": []
   },
   "outputs": [],
   "source": [
    "# Parámetros por defecto\n",
    "def suma(a, b, c=0):\n",
    "    return a + b + c\n",
    "\n",
    "\n",
    "# Programa principal\n",
    "print(suma(1, 2, 3))\n",
    "print(suma(5, 6))\n",
    "\n",
    "# Esto ocasionará un error\n",
    "# porque hay más parámetros enviados que los definidos en la función\n",
    "print(suma(1, 2, 3, 4))\n"
   ]
  },
  {
   "cell_type": "code",
   "execution_count": null,
   "id": "c7bd242f-2d42-4831-9588-5c64bca1f987",
   "metadata": {},
   "outputs": [],
   "source": [
    "# Parámetros por nombre\n",
    "def suma(a, b, c=0):\n",
    "    return a + 2 * b + c\n",
    "\n",
    "\n",
    "# Programa principal\n",
    "print(suma(b=2, a=5))\n"
   ]
  },
  {
   "cell_type": "markdown",
   "id": "a4c250ae-08fa-457d-8150-0e578ee1cd7b",
   "metadata": {},
   "source": [
    "### ***Argumentos de las funciones***"
   ]
  },
  {
   "cell_type": "markdown",
   "id": "957dac49-4f17-4b1d-8df3-85e9e7d70d2a",
   "metadata": {},
   "source": [
    "#### Variables locales y globales\n",
    "- Si se asigna o define una variable en el programa principal (no en la función), se asumirá que es global.\n",
    "- Se puede crear una variable del mismo nombre dentro de la función. \n",
    "- La que fue creada dentro de la función será local y tomará dicho valor en la función. \n",
    "- La variable global mantendrá el valor inicial. \n",
    "- Terminada la ejecución de la función, la variable local desaparecerá, y quedará la global con su valor original.\n",
    "- La variable global puede ser utilizada por la función pero no modificada si se trata de un string, int, o float\n",
    "- Si es una lista, si puede ser modificada por la función"
   ]
  },
  {
   "cell_type": "code",
   "execution_count": 6,
   "id": "fdc6bd98-142f-4739-b2d9-a95b1ec5d1d3",
   "metadata": {},
   "outputs": [
    {
     "name": "stdout",
     "output_type": "stream",
     "text": [
      "10 140722504664264\n",
      "-2\n",
      "5 140722504664104\n"
     ]
    }
   ],
   "source": [
    "def resta(a, b):\n",
    "    x = 10\n",
    "    print(x, id(x))\n",
    "    return a - b\n",
    "\n",
    "\n",
    "# programa principal\n",
    "a, b, x = 2, 4, 5\n",
    "print(resta(a, b))\n",
    "print(x, id(x))\n"
   ]
  },
  {
   "cell_type": "code",
   "execution_count": 5,
   "id": "c4715c24-d3c6-4ddc-8945-a4986cc142ef",
   "metadata": {},
   "outputs": [
    {
     "name": "stdout",
     "output_type": "stream",
     "text": [
      "5 140722504664104\n",
      "-2\n",
      "5 140722504664104\n"
     ]
    }
   ],
   "source": [
    "def resta(a, b):\n",
    "    print(x, id(x))\n",
    "    return a - b\n",
    "\n",
    "\n",
    "# programa principal\n",
    "a, b, x = 2, 4, 5\n",
    "print(resta(a, b))\n",
    "print(x, id(x))\n"
   ]
  },
  {
   "cell_type": "code",
   "execution_count": null,
   "id": "982c2508-2645-404c-952f-044a3c37881c",
   "metadata": {},
   "outputs": [],
   "source": [
    "def resta(a, b):\n",
    "    x += 1\n",
    "    print(x, id(x))\n",
    "    return a - b\n",
    "\n",
    "\n",
    "# programa principal\n",
    "a, b, x = 2, 4, 5\n",
    "print(resta(a, b))\n",
    "print(x, id(x))\n"
   ]
  },
  {
   "cell_type": "code",
   "execution_count": null,
   "id": "cec2f502-67a4-4e5e-8b1f-4b37ab5e5c9f",
   "metadata": {},
   "outputs": [],
   "source": []
  }
 ],
 "metadata": {
  "kernelspec": {
   "display_name": "Python 3",
   "language": "python",
   "name": "python3"
  },
  "language_info": {
   "codemirror_mode": {
    "name": "ipython",
    "version": 3
   },
   "file_extension": ".py",
   "mimetype": "text/x-python",
   "name": "python",
   "nbconvert_exporter": "python",
   "pygments_lexer": "ipython3",
   "version": "3.13.1"
  }
 },
 "nbformat": 4,
 "nbformat_minor": 5
}
